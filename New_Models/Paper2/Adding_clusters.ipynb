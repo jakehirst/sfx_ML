{
 "cells": [
  {
   "cell_type": "code",
   "execution_count": null,
   "metadata": {},
   "outputs": [],
   "source": [
    "from adding_clusters import *\n",
    "\n",
    "\n",
    "full_dataset_pathname = \"/Volumes/Jake_ssd/Paper 2/New_Crack_Len_FULL_OG_dataframe_2024_02_22.csv\"\n",
    "data = pd.read_csv(full_dataset_pathname, index_col=0)\n"
   ]
  },
  {
   "cell_type": "code",
   "execution_count": null,
   "metadata": {},
   "outputs": [],
   "source": [
    "\n",
    "cluster_ts = ['init_cluster', 'both', 'impact_cluster']\n",
    "# cluster_ts = ['init_cluster']\n",
    "\n",
    "for cluster_t in cluster_ts:\n",
    "    for num_clusterz in range(3, 10, 2):\n",
    "        if(cluster_t == 'both'):\n",
    "            data_with_clusters = add_cluster_one_hot_vectors(data, num_clusters=num_clusterz, cluster_type='init_cluster')\n",
    "            data_with_clusters = add_cluster_one_hot_vectors(data_with_clusters, num_clusters=num_clusterz, cluster_type='impact_cluster')\n",
    "        else:\n",
    "            data_with_clusters = add_cluster_one_hot_vectors(data, num_clusters=num_clusterz, cluster_type=cluster_t)\n",
    "        labels_to_predict, model_types, backward_feat_selection_results_folder, all_features, data_folder, model_folder, results_folder, hyperparam_folder, Paper2_path = make_datasets(cluster_t, num_clusterz, data_with_clusters)\n",
    "        all_features_to_keep = get_features_to_keep(labels_to_predict, model_types, full_dataset_pathname, backward_feat_selection_results_folder, all_features)\n",
    "        make_all_models(model_types, labels_to_predict, data_folder, model_folder, results_folder, all_features_to_keep, hyperparam_folder)\n",
    "        evaluate_models(model_types, labels_to_predict, model_folder, results_folder, Paper2_path, all_features_to_keep)"
   ]
  },
  {
   "cell_type": "code",
   "execution_count": 7,
   "metadata": {},
   "outputs": [
    {
     "name": "stdout",
     "output_type": "stream",
     "text": [
      "\n",
      "\n",
      "init_cluster\n",
      "3\n",
      "0.2022900809396956\n",
      "\n",
      "\n",
      "init_cluster\n",
      "5\n",
      "0.2082674985399318\n",
      "\n",
      "\n",
      "init_cluster\n",
      "7\n",
      "0.1998922860617907\n",
      "\n",
      "\n",
      "init_cluster\n",
      "9\n",
      "0.1998764305080156\n",
      "\n",
      "\n",
      "both\n",
      "3\n",
      "0.1916120932866244\n",
      "\n",
      "\n",
      "both\n",
      "5\n",
      "0.2246890965727745\n",
      "\n",
      "\n",
      "both\n",
      "7\n",
      "0.2017960873151698\n",
      "\n",
      "\n",
      "both\n",
      "9\n",
      "0.2020567924630939\n",
      "\n",
      "\n",
      "impact_cluster\n",
      "3\n",
      "0.1930078282847825\n",
      "\n",
      "\n",
      "impact_cluster\n",
      "5\n",
      "0.2666599236545799\n",
      "\n",
      "\n",
      "impact_cluster\n",
      "7\n",
      "0.2205494856446902\n",
      "\n",
      "\n",
      "impact_cluster\n",
      "9\n",
      "0.1963381395652049\n"
     ]
    },
    {
     "data": {
      "image/png": "[encoded data removed]",
      "text/plain": [
       "<Figure size 400x400 with 1 Axes>"
      ]
     },
     "metadata": {},
     "output_type": "display_data"
    }
   ],
   "source": [
    "cluster_ts = ['init_cluster', 'both', 'impact_cluster']\n",
    "# cluster_ts = ['init_cluster']\n",
    "\n",
    "for cluster_t in cluster_ts:\n",
    "    for num_clusterz in range(3, 10, 2):\n",
    "        results_df = pd.read_csv(f'/Volumes/Jake_ssd/with_clusters/{cluster_t}_{num_clusterz}_clusters/Compare_Code_5_fold_ensemble_results/height/Single RF/1_models/height_Single RF_1results.csv')\n",
    "        print('\\n')\n",
    "        print(cluster_t)\n",
    "        print(num_clusterz)\n",
    "        print(results_df.iloc[5]['test R2'])\n",
    "        plt.bar(str(cluster_t)+ str(num_clusterz) , results_df.iloc[5]['test R2'])\n",
    "\n",
    "plt.show()"
   ]
  }
 ],
 "metadata": {
  "kernelspec": {
   "display_name": "tfp_env",
   "language": "python",
   "name": "python3"
  },
  "language_info": {
   "codemirror_mode": {
    "name": "ipython",
    "version": 3
   },
   "file_extension": ".py",
   "mimetype": "text/x-python",
   "name": "python",
   "nbconvert_exporter": "python",
   "pygments_lexer": "ipython3",
   "version": "3.10.9"
  }
 },
 "nbformat": 4,
 "nbformat_minor": 2
}
