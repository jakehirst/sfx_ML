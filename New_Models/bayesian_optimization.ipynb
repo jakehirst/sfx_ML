{
 "cells": [
  {
   "cell_type": "code",
   "execution_count": 1,
   "metadata": {},
   "outputs": [
    {
     "name": "stdout",
     "output_type": "stream",
     "text": [
      "Index(['init z', 'init y', 'init x', 'timestep_init', 'max_prop_speed',\n",
      "       'avg_prop_speed', 'dist btw frts', 'crack len', 'linearity',\n",
      "       'max thickness', 'mean thickness', 'median_thickness', 'var_thickness',\n",
      "       'std_thickness', 'thickness_at_init', 'max_kink', 'abs_val_mean_kink',\n",
      "       'mean_kink', 'sum_kink', 'abs_val_sum_kink', 'median_kink', 'std_kink',\n",
      "       'var_kink', 'avg_ori', 'angle_btw', 'height', 'phi', 'theta',\n",
      "       'impact site theta', 'impact site phi', 'impact site r',\n",
      "       'impact site z', 'impact site y', 'impact site x'],\n",
      "      dtype='object')\n"
     ]
    }
   ],
   "source": [
    "from polynomial_regression import *\n",
    "from GPR import *\n",
    "from random_forest import *\n",
    "import ast\n",
    "\n",
    "all_labels = ['height', 'phi', 'theta', \n",
    "        'impact site x', 'impact site y', 'impact site z', \n",
    "        'impact site r', 'impact site phi', 'impact site theta']\n",
    "\n",
    "number_of_tries = 10\n",
    "# deciding which features will be kept for the optimiation\n",
    "# features_to_keep = ['sqrt(angle_btw)', 'sqrt(crack len)', 'sqrt(dist btw frts)', 'angle_btw (unchanged)', 'dist btw frts * mean_kink', 'angle_btw + crack len', 'angle_btw + dist btw frts', 'crack len + dist btw frts']\n",
    "\n",
    "labels_to_predict = ['height', 'impact site x', 'impact site y']\n",
    "labels_to_predict = ['height']\n",
    "\n",
    "model_types = ['RF', 'GPR', 'poly2']\n",
    "model_types = ['poly2']\n",
    "\n",
    "# model_types = ['GPR']\n",
    "\n",
    "# Generate some synthetic data for demonstration purposes\n",
    "full_dataset_pathname = \"/Volumes/Jake_ssd/Paper_1_results_no_feature_engineering/dataset/New_Crack_Len_FULL_OG_dataframe_2023_11_16.csv\"\n",
    "# full_dataset_pathname = \"/Volumes/Jake_ssd/Paper_1_results_WITH_feature_engineering/dataset/feature_transformations_2023-11-16/height/HEIGHTALL_TRANSFORMED_FEATURES.csv\"\n",
    "df = pd.read_csv(full_dataset_pathname, index_col=0)\n",
    "print(df.columns)\n",
    "\n",
    "#TODO: temporarily keeping timestep_init\n",
    "# if(df.columns.__contains__('timestep_init')):\n",
    "#     df = df.drop('timestep_init', axis=1)\n",
    "\n",
    "bayesian_opt_results_dir = '/Volumes/Jake_ssd/bayesian_optimization_with_timestep_init'\n",
    "\n",
    "#Getting all feature names from the DataFrame\n",
    "all_features = df.columns.tolist()\n",
    "all_features = [col for col in all_features if col not in all_labels] #gotta remove the labels to get just the features.\n",
    "\n",
    "\n",
    "\n"
   ]
  },
  {
   "cell_type": "code",
   "execution_count": 2,
   "metadata": {},
   "outputs": [],
   "source": [
    "all_features_to_keep = {}\n",
    "backward_feat_selection_results_folder = '/Volumes/Jake_ssd/Paper_1_results_WITH_feature_engineering/results'\n",
    "''' get the features to keep based on the best performing features on test sets in backward feature engineering outputs'''\n",
    "''' only include more than 10 features though for now. '''\n",
    "min_features = 1\n",
    "max_features = 25\n",
    "for label in labels_to_predict:\n",
    "    all_features_to_keep[label] = {}\n",
    "    for model_type in model_types:\n",
    "        performances = pd.read_csv(backward_feat_selection_results_folder + f'/{label}/{model_type}/performances/test_performances.csv')\n",
    "        #only include rows that have less than 100 features and more than 10 features\n",
    "        performances = performances.drop(performances[(performances['Unnamed: 0'] < 10) | (performances['Unnamed: 0'] > 100)].index)\n",
    "\n",
    "        #calculate an average performance across all folds for each feature combination\n",
    "        performances['average'] = performances[['fold0', 'fold1', 'fold2', 'fold3', 'fold4']].mean(axis=1)\n",
    "        row_with_largest_average = performances['average'].idxmax() #get the row index that has the best performance across all folds\n",
    "\n",
    "        #now get the features that were used for the best performing set of features\n",
    "        features_kept = pd.read_csv(backward_feat_selection_results_folder + f'/{label}/{model_type}/performances/features_kept.csv')\n",
    "        best_feature_combination = features_kept.iloc[row_with_largest_average]['features remaining']\n",
    "        all_features_to_keep[label][model_type] = ast.literal_eval(best_feature_combination)\n",
    "        \n",
    "        #TODO DELETE THIS LINE BELOW WHEN ACTUALLY USING THE BEST FEATURES WITH TRANSFORMATIONS/INTERACTIONS\n",
    "        all_features_to_keep[label][model_type] = all_features\n",
    "                "
   ]
  },
  {
   "cell_type": "code",
   "execution_count": 4,
   "metadata": {},
   "outputs": [
    {
     "name": "stdout",
     "output_type": "stream",
     "text": [
      "\n",
      " $$$$$$$$$$$$$$$$$$$$$$$$$$ OPTIMIZING A poly2 PREDICTING height $$$$$$$$$$$$$$$$$$$$$$$$$$ \n",
      "\n"
     ]
    },
    {
     "name": "stdout",
     "output_type": "stream",
     "text": [
      "      init z     init y     init x  timestep_init  max_prop_speed  \\\n",
      "0  54.761764   1.483162  -0.861620             51        4.133932   \n",
      "1  54.302841 -12.447359 -11.743694             18        3.709363   \n",
      "2  31.450982 -33.926458  17.610808             61        0.000000   \n",
      "3  54.761764   1.483162  -0.861620             22        2.099226   \n",
      "4  46.278199   5.220938 -45.086689             20        1.956465   \n",
      "\n",
      "   avg_prop_speed  dist btw frts  crack len  linearity  max thickness  ...  \\\n",
      "0        4.133932      11.250136  13.087683   0.956839       4.427145  ...   \n",
      "1        3.709363       6.650051   8.674746   0.930931       3.753496  ...   \n",
      "2        0.000000       3.005755   4.345694   1.000000       3.061674  ...   \n",
      "3        2.099226       5.102357   6.815698   0.979805       4.036392  ...   \n",
      "4        0.156304      11.201562  12.355626   0.999660       1.808150  ...   \n",
      "\n",
      "    max_kink  abs_val_mean_kink  mean_kink   sum_kink  abs_val_sum_kink  \\\n",
      "0  13.235115           7.004199  -7.004199 -14.008397         14.008397   \n",
      "1  17.171756          14.928626  14.928626  29.857252         29.857252   \n",
      "2   0.000000           0.000000   0.000000   0.000000          0.000000   \n",
      "3  13.733588          13.733588 -13.733588 -13.733588         13.733588   \n",
      "4  10.742748           5.391603  -1.770229  -5.310687         16.174809   \n",
      "\n",
      "   median_kink  std_kink   var_kink     avg_ori  angle_btw  \n",
      "0     7.004199  6.230916  38.824314   84.764976  21.788912  \n",
      "1    14.928626  2.243130   5.031631  106.185838   4.380915  \n",
      "2     0.000000  0.000000   0.000000   44.852853   3.182946  \n",
      "3    13.733588  0.000000   0.000000   83.595113  10.172830  \n",
      "4     3.214504  6.357570  40.418700   74.905977   0.000000  \n",
      "\n",
      "[5 rows x 25 columns]\n",
      "Fitting 5 folds for each of 1 candidates, totalling 5 fits\n",
      "[CV 1/5] END elasticnet__alpha=0.013300153699806186, elasticnet__l1_ratio=0.6422755334330679;, score=-1.031 total time=   0.0s\n",
      "[CV 2/5] END elasticnet__alpha=0.013300153699806186, elasticnet__l1_ratio=0.6422755334330679;, score=-0.688 total time=   0.5s\n",
      "[CV 3/5] END elasticnet__alpha=0.013300153699806186, elasticnet__l1_ratio=0.6422755334330679;, score=-0.508 total time=   0.3s\n",
      "[CV 4/5] END elasticnet__alpha=0.013300153699806186, elasticnet__l1_ratio=0.6422755334330679;, score=-0.734 total time=   0.2s\n",
      "[CV 5/5] END elasticnet__alpha=0.013300153699806186, elasticnet__l1_ratio=0.6422755334330679;, score=-1.230 total time=   0.3s\n",
      "Fitting 5 folds for each of 1 candidates, totalling 5 fits\n"
     ]
    },
    {
     "name": "stderr",
     "output_type": "stream",
     "text": [
      "/Users/jakehirst/miniconda3/envs/tfp_env/lib/python3.10/site-packages/sklearn/linear_model/_coordinate_descent.py:628: ConvergenceWarning: Objective did not converge. You might want to increase the number of iterations, check the scale of the features or consider increasing regularisation. Duality gap: 3.986e+00, tolerance: 1.761e-02\n",
      "  model = cd_fast.enet_coordinate_descent(\n"
     ]
    },
    {
     "name": "stdout",
     "output_type": "stream",
     "text": [
      "[CV 1/5] END elasticnet__alpha=0.0010801564116460836, elasticnet__l1_ratio=0.9299584755050435;, score=-1.257 total time=   0.3s\n"
     ]
    },
    {
     "name": "stderr",
     "output_type": "stream",
     "text": [
      "/Users/jakehirst/miniconda3/envs/tfp_env/lib/python3.10/site-packages/sklearn/linear_model/_coordinate_descent.py:628: ConvergenceWarning: Objective did not converge. You might want to increase the number of iterations, check the scale of the features or consider increasing regularisation. Duality gap: 8.919e+00, tolerance: 2.913e-02\n",
      "  model = cd_fast.enet_coordinate_descent(\n"
     ]
    },
    {
     "name": "stdout",
     "output_type": "stream",
     "text": [
      "[CV 2/5] END elasticnet__alpha=0.0010801564116460836, elasticnet__l1_ratio=0.9299584755050435;, score=-0.845 total time=   0.3s\n"
     ]
    },
    {
     "name": "stderr",
     "output_type": "stream",
     "text": [
      "/Users/jakehirst/miniconda3/envs/tfp_env/lib/python3.10/site-packages/sklearn/linear_model/_coordinate_descent.py:628: ConvergenceWarning: Objective did not converge. You might want to increase the number of iterations, check the scale of the features or consider increasing regularisation. Duality gap: 9.008e+00, tolerance: 3.303e-02\n",
      "  model = cd_fast.enet_coordinate_descent(\n"
     ]
    },
    {
     "name": "stdout",
     "output_type": "stream",
     "text": [
      "[CV 3/5] END elasticnet__alpha=0.0010801564116460836, elasticnet__l1_ratio=0.9299584755050435;, score=-0.662 total time=   0.3s\n"
     ]
    },
    {
     "name": "stderr",
     "output_type": "stream",
     "text": [
      "/Users/jakehirst/miniconda3/envs/tfp_env/lib/python3.10/site-packages/sklearn/linear_model/_coordinate_descent.py:628: ConvergenceWarning: Objective did not converge. You might want to increase the number of iterations, check the scale of the features or consider increasing regularisation. Duality gap: 5.439e+00, tolerance: 2.945e-02\n",
      "  model = cd_fast.enet_coordinate_descent(\n"
     ]
    },
    {
     "name": "stdout",
     "output_type": "stream",
     "text": [
      "[CV 4/5] END elasticnet__alpha=0.0010801564116460836, elasticnet__l1_ratio=0.9299584755050435;, score=-0.976 total time=   0.3s\n"
     ]
    },
    {
     "name": "stderr",
     "output_type": "stream",
     "text": [
      "/Users/jakehirst/miniconda3/envs/tfp_env/lib/python3.10/site-packages/sklearn/linear_model/_coordinate_descent.py:628: ConvergenceWarning: Objective did not converge. You might want to increase the number of iterations, check the scale of the features or consider increasing regularisation. Duality gap: 3.918e+00, tolerance: 1.590e-02\n",
      "  model = cd_fast.enet_coordinate_descent(\n"
     ]
    },
    {
     "name": "stdout",
     "output_type": "stream",
     "text": [
      "[CV 5/5] END elasticnet__alpha=0.0010801564116460836, elasticnet__l1_ratio=0.9299584755050435;, score=-1.523 total time=   0.2s\n",
      "Fitting 5 folds for each of 1 candidates, totalling 5 fits\n"
     ]
    },
    {
     "name": "stderr",
     "output_type": "stream",
     "text": [
      "/Users/jakehirst/miniconda3/envs/tfp_env/lib/python3.10/site-packages/sklearn/linear_model/_coordinate_descent.py:628: ConvergenceWarning: Objective did not converge. You might want to increase the number of iterations, check the scale of the features or consider increasing regularisation. Duality gap: 5.619e+00, tolerance: 1.761e-02\n",
      "  model = cd_fast.enet_coordinate_descent(\n"
     ]
    },
    {
     "name": "stdout",
     "output_type": "stream",
     "text": [
      "[CV 1/5] END elasticnet__alpha=0.01302467718894178, elasticnet__l1_ratio=0.05500295150885374;, score=-1.034 total time=   0.3s\n"
     ]
    },
    {
     "name": "stderr",
     "output_type": "stream",
     "text": [
      "/Users/jakehirst/miniconda3/envs/tfp_env/lib/python3.10/site-packages/sklearn/linear_model/_coordinate_descent.py:628: ConvergenceWarning: Objective did not converge. You might want to increase the number of iterations, check the scale of the features or consider increasing regularisation. Duality gap: 5.418e+00, tolerance: 2.913e-02\n",
      "  model = cd_fast.enet_coordinate_descent(\n"
     ]
    },
    {
     "name": "stdout",
     "output_type": "stream",
     "text": [
      "[CV 2/5] END elasticnet__alpha=0.01302467718894178, elasticnet__l1_ratio=0.05500295150885374;, score=-0.739 total time=   0.2s\n"
     ]
    },
    {
     "name": "stderr",
     "output_type": "stream",
     "text": [
      "/Users/jakehirst/miniconda3/envs/tfp_env/lib/python3.10/site-packages/sklearn/linear_model/_coordinate_descent.py:628: ConvergenceWarning: Objective did not converge. You might want to increase the number of iterations, check the scale of the features or consider increasing regularisation. Duality gap: 4.414e+00, tolerance: 3.303e-02\n",
      "  model = cd_fast.enet_coordinate_descent(\n"
     ]
    },
    {
     "name": "stdout",
     "output_type": "stream",
     "text": [
      "[CV 3/5] END elasticnet__alpha=0.01302467718894178, elasticnet__l1_ratio=0.05500295150885374;, score=-0.561 total time=   0.4s\n"
     ]
    },
    {
     "name": "stderr",
     "output_type": "stream",
     "text": [
      "/Users/jakehirst/miniconda3/envs/tfp_env/lib/python3.10/site-packages/sklearn/linear_model/_coordinate_descent.py:628: ConvergenceWarning: Objective did not converge. You might want to increase the number of iterations, check the scale of the features or consider increasing regularisation. Duality gap: 5.815e+00, tolerance: 2.945e-02\n",
      "  model = cd_fast.enet_coordinate_descent(\n"
     ]
    },
    {
     "name": "stdout",
     "output_type": "stream",
     "text": [
      "[CV 4/5] END elasticnet__alpha=0.01302467718894178, elasticnet__l1_ratio=0.05500295150885374;, score=-0.827 total time=   0.3s\n"
     ]
    },
    {
     "name": "stderr",
     "output_type": "stream",
     "text": [
      "/Users/jakehirst/miniconda3/envs/tfp_env/lib/python3.10/site-packages/sklearn/linear_model/_coordinate_descent.py:628: ConvergenceWarning: Objective did not converge. You might want to increase the number of iterations, check the scale of the features or consider increasing regularisation. Duality gap: 2.461e+00, tolerance: 1.590e-02\n",
      "  model = cd_fast.enet_coordinate_descent(\n"
     ]
    },
    {
     "name": "stdout",
     "output_type": "stream",
     "text": [
      "[CV 5/5] END elasticnet__alpha=0.01302467718894178, elasticnet__l1_ratio=0.05500295150885374;, score=-1.303 total time=   0.3s\n",
      "Fitting 5 folds for each of 1 candidates, totalling 5 fits\n"
     ]
    },
    {
     "name": "stderr",
     "output_type": "stream",
     "text": [
      "/Users/jakehirst/miniconda3/envs/tfp_env/lib/python3.10/site-packages/sklearn/linear_model/_coordinate_descent.py:628: ConvergenceWarning: Objective did not converge. You might want to increase the number of iterations, check the scale of the features or consider increasing regularisation. Duality gap: 8.852e+00, tolerance: 1.761e-02\n",
      "  model = cd_fast.enet_coordinate_descent(\n"
     ]
    },
    {
     "name": "stdout",
     "output_type": "stream",
     "text": [
      "[CV 1/5] END elasticnet__alpha=0.000388757918194155, elasticnet__l1_ratio=0.744102957139344;, score=-1.704 total time=   0.2s\n"
     ]
    },
    {
     "name": "stderr",
     "output_type": "stream",
     "text": [
      "/Users/jakehirst/miniconda3/envs/tfp_env/lib/python3.10/site-packages/sklearn/linear_model/_coordinate_descent.py:628: ConvergenceWarning: Objective did not converge. You might want to increase the number of iterations, check the scale of the features or consider increasing regularisation. Duality gap: 1.001e+01, tolerance: 2.913e-02\n",
      "  model = cd_fast.enet_coordinate_descent(\n"
     ]
    },
    {
     "name": "stdout",
     "output_type": "stream",
     "text": [
      "[CV 2/5] END elasticnet__alpha=0.000388757918194155, elasticnet__l1_ratio=0.744102957139344;, score=-0.905 total time=   0.3s\n"
     ]
    },
    {
     "name": "stderr",
     "output_type": "stream",
     "text": [
      "/Users/jakehirst/miniconda3/envs/tfp_env/lib/python3.10/site-packages/sklearn/linear_model/_coordinate_descent.py:628: ConvergenceWarning: Objective did not converge. You might want to increase the number of iterations, check the scale of the features or consider increasing regularisation. Duality gap: 1.002e+01, tolerance: 3.303e-02\n",
      "  model = cd_fast.enet_coordinate_descent(\n"
     ]
    },
    {
     "name": "stdout",
     "output_type": "stream",
     "text": [
      "[CV 3/5] END elasticnet__alpha=0.000388757918194155, elasticnet__l1_ratio=0.744102957139344;, score=-0.859 total time=   0.3s\n"
     ]
    },
    {
     "name": "stderr",
     "output_type": "stream",
     "text": [
      "/Users/jakehirst/miniconda3/envs/tfp_env/lib/python3.10/site-packages/sklearn/linear_model/_coordinate_descent.py:628: ConvergenceWarning: Objective did not converge. You might want to increase the number of iterations, check the scale of the features or consider increasing regularisation. Duality gap: 1.196e+01, tolerance: 2.945e-02\n",
      "  model = cd_fast.enet_coordinate_descent(\n"
     ]
    },
    {
     "name": "stdout",
     "output_type": "stream",
     "text": [
      "[CV 4/5] END elasticnet__alpha=0.000388757918194155, elasticnet__l1_ratio=0.744102957139344;, score=-1.386 total time=   0.3s\n"
     ]
    },
    {
     "name": "stderr",
     "output_type": "stream",
     "text": [
      "/Users/jakehirst/miniconda3/envs/tfp_env/lib/python3.10/site-packages/sklearn/linear_model/_coordinate_descent.py:628: ConvergenceWarning: Objective did not converge. You might want to increase the number of iterations, check the scale of the features or consider increasing regularisation. Duality gap: 8.495e+00, tolerance: 1.590e-02\n",
      "  model = cd_fast.enet_coordinate_descent(\n"
     ]
    },
    {
     "name": "stdout",
     "output_type": "stream",
     "text": [
      "[CV 5/5] END elasticnet__alpha=0.000388757918194155, elasticnet__l1_ratio=0.744102957139344;, score=-2.095 total time=   0.2s\n",
      "Fitting 5 folds for each of 1 candidates, totalling 5 fits\n"
     ]
    },
    {
     "name": "stderr",
     "output_type": "stream",
     "text": [
      "/Users/jakehirst/miniconda3/envs/tfp_env/lib/python3.10/site-packages/sklearn/linear_model/_coordinate_descent.py:628: ConvergenceWarning: Objective did not converge. You might want to increase the number of iterations, check the scale of the features or consider increasing regularisation. Duality gap: 9.657e+00, tolerance: 1.761e-02\n",
      "  model = cd_fast.enet_coordinate_descent(\n"
     ]
    },
    {
     "name": "stdout",
     "output_type": "stream",
     "text": [
      "[CV 1/5] END elasticnet__alpha=0.0008512480164062713, elasticnet__l1_ratio=0.23116913869497904;, score=-1.573 total time=   0.3s\n"
     ]
    },
    {
     "name": "stderr",
     "output_type": "stream",
     "text": [
      "/Users/jakehirst/miniconda3/envs/tfp_env/lib/python3.10/site-packages/sklearn/linear_model/_coordinate_descent.py:628: ConvergenceWarning: Objective did not converge. You might want to increase the number of iterations, check the scale of the features or consider increasing regularisation. Duality gap: 1.106e+01, tolerance: 2.913e-02\n",
      "  model = cd_fast.enet_coordinate_descent(\n"
     ]
    },
    {
     "name": "stdout",
     "output_type": "stream",
     "text": [
      "[CV 2/5] END elasticnet__alpha=0.0008512480164062713, elasticnet__l1_ratio=0.23116913869497904;, score=-0.901 total time=   0.3s\n"
     ]
    },
    {
     "name": "stderr",
     "output_type": "stream",
     "text": [
      "/Users/jakehirst/miniconda3/envs/tfp_env/lib/python3.10/site-packages/sklearn/linear_model/_coordinate_descent.py:628: ConvergenceWarning: Objective did not converge. You might want to increase the number of iterations, check the scale of the features or consider increasing regularisation. Duality gap: 1.134e+01, tolerance: 3.303e-02\n",
      "  model = cd_fast.enet_coordinate_descent(\n"
     ]
    },
    {
     "name": "stdout",
     "output_type": "stream",
     "text": [
      "[CV 3/5] END elasticnet__alpha=0.0008512480164062713, elasticnet__l1_ratio=0.23116913869497904;, score=-0.800 total time=   0.3s\n"
     ]
    },
    {
     "name": "stderr",
     "output_type": "stream",
     "text": [
      "/Users/jakehirst/miniconda3/envs/tfp_env/lib/python3.10/site-packages/sklearn/linear_model/_coordinate_descent.py:628: ConvergenceWarning: Objective did not converge. You might want to increase the number of iterations, check the scale of the features or consider increasing regularisation. Duality gap: 1.245e+01, tolerance: 2.945e-02\n",
      "  model = cd_fast.enet_coordinate_descent(\n"
     ]
    },
    {
     "name": "stdout",
     "output_type": "stream",
     "text": [
      "[CV 4/5] END elasticnet__alpha=0.0008512480164062713, elasticnet__l1_ratio=0.23116913869497904;, score=-1.298 total time=   0.3s\n"
     ]
    },
    {
     "name": "stderr",
     "output_type": "stream",
     "text": [
      "/Users/jakehirst/miniconda3/envs/tfp_env/lib/python3.10/site-packages/sklearn/linear_model/_coordinate_descent.py:628: ConvergenceWarning: Objective did not converge. You might want to increase the number of iterations, check the scale of the features or consider increasing regularisation. Duality gap: 9.426e+00, tolerance: 1.590e-02\n",
      "  model = cd_fast.enet_coordinate_descent(\n"
     ]
    },
    {
     "name": "stdout",
     "output_type": "stream",
     "text": [
      "[CV 5/5] END elasticnet__alpha=0.0008512480164062713, elasticnet__l1_ratio=0.23116913869497904;, score=-2.051 total time=   0.3s\n",
      "Fitting 5 folds for each of 1 candidates, totalling 5 fits\n",
      "[CV 1/5] END elasticnet__alpha=0.2252503789114733, elasticnet__l1_ratio=0.9416628511982537;, score=-1.690 total time=   0.0s\n",
      "[CV 2/5] END elasticnet__alpha=0.2252503789114733, elasticnet__l1_ratio=0.9416628511982537;, score=-0.802 total time=   0.1s\n",
      "[CV 3/5] END elasticnet__alpha=0.2252503789114733, elasticnet__l1_ratio=0.9416628511982537;, score=-0.291 total time=   0.1s\n",
      "[CV 4/5] END elasticnet__alpha=0.2252503789114733, elasticnet__l1_ratio=0.9416628511982537;, score=-0.571 total time=   0.1s\n",
      "[CV 5/5] END elasticnet__alpha=0.2252503789114733, elasticnet__l1_ratio=0.9416628511982537;, score=-1.674 total time=   0.1s\n",
      "Fitting 5 folds for each of 1 candidates, totalling 5 fits\n",
      "[CV 1/5] END elasticnet__alpha=0.7387966194299759, elasticnet__l1_ratio=0.7187252607399471;, score=-1.777 total time=   0.1s\n",
      "[CV 2/5] END elasticnet__alpha=0.7387966194299759, elasticnet__l1_ratio=0.7187252607399471;, score=-0.904 total time=   0.1s\n",
      "[CV 3/5] END elasticnet__alpha=0.7387966194299759, elasticnet__l1_ratio=0.7187252607399471;, score=-0.172 total time=   0.2s\n",
      "[CV 4/5] END elasticnet__alpha=0.7387966194299759, elasticnet__l1_ratio=0.7187252607399471;, score=-0.840 total time=   0.1s\n",
      "[CV 5/5] END elasticnet__alpha=0.7387966194299759, elasticnet__l1_ratio=0.7187252607399471;, score=-1.865 total time=   0.1s\n",
      "Fitting 5 folds for each of 1 candidates, totalling 5 fits\n",
      "[CV 1/5] END elasticnet__alpha=0.011014281850164074, elasticnet__l1_ratio=0.5006300797492677;, score=-1.065 total time=   0.3s\n",
      "[CV 2/5] END elasticnet__alpha=0.011014281850164074, elasticnet__l1_ratio=0.5006300797492677;, score=-0.692 total time=   0.3s\n",
      "[CV 3/5] END elasticnet__alpha=0.011014281850164074, elasticnet__l1_ratio=0.5006300797492677;, score=-0.545 total time=   0.3s\n",
      "[CV 4/5] END elasticnet__alpha=0.011014281850164074, elasticnet__l1_ratio=0.5006300797492677;, score=-0.770 total time=   0.3s\n",
      "[CV 5/5] END elasticnet__alpha=0.011014281850164074, elasticnet__l1_ratio=0.5006300797492677;, score=-1.221 total time=   0.2s\n",
      "Fitting 5 folds for each of 1 candidates, totalling 5 fits\n"
     ]
    },
    {
     "name": "stderr",
     "output_type": "stream",
     "text": [
      "/Users/jakehirst/miniconda3/envs/tfp_env/lib/python3.10/site-packages/sklearn/linear_model/_coordinate_descent.py:628: ConvergenceWarning: Objective did not converge. You might want to increase the number of iterations, check the scale of the features or consider increasing regularisation. Duality gap: 7.977e+00, tolerance: 1.761e-02\n",
      "  model = cd_fast.enet_coordinate_descent(\n"
     ]
    },
    {
     "name": "stdout",
     "output_type": "stream",
     "text": [
      "[CV 1/5] END elasticnet__alpha=0.00023346296006549204, elasticnet__l1_ratio=0.8513639869657449;, score=-1.858 total time=   0.3s\n"
     ]
    },
    {
     "name": "stderr",
     "output_type": "stream",
     "text": [
      "/Users/jakehirst/miniconda3/envs/tfp_env/lib/python3.10/site-packages/sklearn/linear_model/_coordinate_descent.py:628: ConvergenceWarning: Objective did not converge. You might want to increase the number of iterations, check the scale of the features or consider increasing regularisation. Duality gap: 8.650e+00, tolerance: 2.913e-02\n",
      "  model = cd_fast.enet_coordinate_descent(\n"
     ]
    },
    {
     "name": "stdout",
     "output_type": "stream",
     "text": [
      "[CV 2/5] END elasticnet__alpha=0.00023346296006549204, elasticnet__l1_ratio=0.8513639869657449;, score=-0.946 total time=   0.3s\n"
     ]
    },
    {
     "name": "stderr",
     "output_type": "stream",
     "text": [
      "/Users/jakehirst/miniconda3/envs/tfp_env/lib/python3.10/site-packages/sklearn/linear_model/_coordinate_descent.py:628: ConvergenceWarning: Objective did not converge. You might want to increase the number of iterations, check the scale of the features or consider increasing regularisation. Duality gap: 9.830e+00, tolerance: 3.303e-02\n",
      "  model = cd_fast.enet_coordinate_descent(\n"
     ]
    },
    {
     "name": "stdout",
     "output_type": "stream",
     "text": [
      "[CV 3/5] END elasticnet__alpha=0.00023346296006549204, elasticnet__l1_ratio=0.8513639869657449;, score=-0.919 total time=   0.4s\n"
     ]
    },
    {
     "name": "stderr",
     "output_type": "stream",
     "text": [
      "/Users/jakehirst/miniconda3/envs/tfp_env/lib/python3.10/site-packages/sklearn/linear_model/_coordinate_descent.py:628: ConvergenceWarning: Objective did not converge. You might want to increase the number of iterations, check the scale of the features or consider increasing regularisation. Duality gap: 1.114e+01, tolerance: 2.945e-02\n",
      "  model = cd_fast.enet_coordinate_descent(\n"
     ]
    },
    {
     "name": "stdout",
     "output_type": "stream",
     "text": [
      "[CV 4/5] END elasticnet__alpha=0.00023346296006549204, elasticnet__l1_ratio=0.8513639869657449;, score=-1.516 total time=   0.2s\n"
     ]
    },
    {
     "name": "stderr",
     "output_type": "stream",
     "text": [
      "/Users/jakehirst/miniconda3/envs/tfp_env/lib/python3.10/site-packages/sklearn/linear_model/_coordinate_descent.py:628: ConvergenceWarning: Objective did not converge. You might want to increase the number of iterations, check the scale of the features or consider increasing regularisation. Duality gap: 7.552e+00, tolerance: 1.590e-02\n",
      "  model = cd_fast.enet_coordinate_descent(\n"
     ]
    },
    {
     "name": "stdout",
     "output_type": "stream",
     "text": [
      "[CV 5/5] END elasticnet__alpha=0.00023346296006549204, elasticnet__l1_ratio=0.8513639869657449;, score=-2.199 total time=   0.3s\n",
      "Fitting 5 folds for each of 1 candidates, totalling 5 fits\n"
     ]
    },
    {
     "name": "stderr",
     "output_type": "stream",
     "text": [
      "/Users/jakehirst/miniconda3/envs/tfp_env/lib/python3.10/site-packages/sklearn/linear_model/_coordinate_descent.py:628: ConvergenceWarning: Objective did not converge. You might want to increase the number of iterations, check the scale of the features or consider increasing regularisation. Duality gap: 7.126e+00, tolerance: 1.761e-02\n",
      "  model = cd_fast.enet_coordinate_descent(\n"
     ]
    },
    {
     "name": "stdout",
     "output_type": "stream",
     "text": [
      "[CV 1/5] END elasticnet__alpha=0.0030071002697548916, elasticnet__l1_ratio=0.41817445205195647;, score=-1.137 total time=   0.3s\n"
     ]
    },
    {
     "name": "stderr",
     "output_type": "stream",
     "text": [
      "/Users/jakehirst/miniconda3/envs/tfp_env/lib/python3.10/site-packages/sklearn/linear_model/_coordinate_descent.py:628: ConvergenceWarning: Objective did not converge. You might want to increase the number of iterations, check the scale of the features or consider increasing regularisation. Duality gap: 6.086e+00, tolerance: 2.913e-02\n",
      "  model = cd_fast.enet_coordinate_descent(\n"
     ]
    },
    {
     "name": "stdout",
     "output_type": "stream",
     "text": [
      "[CV 2/5] END elasticnet__alpha=0.0030071002697548916, elasticnet__l1_ratio=0.41817445205195647;, score=-0.793 total time=   0.3s\n"
     ]
    },
    {
     "name": "stderr",
     "output_type": "stream",
     "text": [
      "/Users/jakehirst/miniconda3/envs/tfp_env/lib/python3.10/site-packages/sklearn/linear_model/_coordinate_descent.py:628: ConvergenceWarning: Objective did not converge. You might want to increase the number of iterations, check the scale of the features or consider increasing regularisation. Duality gap: 4.875e+00, tolerance: 3.303e-02\n",
      "  model = cd_fast.enet_coordinate_descent(\n"
     ]
    },
    {
     "name": "stdout",
     "output_type": "stream",
     "text": [
      "[CV 3/5] END elasticnet__alpha=0.0030071002697548916, elasticnet__l1_ratio=0.41817445205195647;, score=-0.613 total time=   0.3s\n"
     ]
    },
    {
     "name": "stderr",
     "output_type": "stream",
     "text": [
      "/Users/jakehirst/miniconda3/envs/tfp_env/lib/python3.10/site-packages/sklearn/linear_model/_coordinate_descent.py:628: ConvergenceWarning: Objective did not converge. You might want to increase the number of iterations, check the scale of the features or consider increasing regularisation. Duality gap: 2.188e+00, tolerance: 2.945e-02\n",
      "  model = cd_fast.enet_coordinate_descent(\n"
     ]
    },
    {
     "name": "stdout",
     "output_type": "stream",
     "text": [
      "[CV 4/5] END elasticnet__alpha=0.0030071002697548916, elasticnet__l1_ratio=0.41817445205195647;, score=-0.868 total time=   0.3s\n"
     ]
    },
    {
     "name": "stderr",
     "output_type": "stream",
     "text": [
      "/Users/jakehirst/miniconda3/envs/tfp_env/lib/python3.10/site-packages/sklearn/linear_model/_coordinate_descent.py:628: ConvergenceWarning: Objective did not converge. You might want to increase the number of iterations, check the scale of the features or consider increasing regularisation. Duality gap: 2.835e+00, tolerance: 1.590e-02\n",
      "  model = cd_fast.enet_coordinate_descent(\n"
     ]
    },
    {
     "name": "stdout",
     "output_type": "stream",
     "text": [
      "[CV 5/5] END elasticnet__alpha=0.0030071002697548916, elasticnet__l1_ratio=0.41817445205195647;, score=-1.361 total time=   0.3s\n",
      "\n",
      "$$$$$$$$$$$$ Results for Poly2 predicting height $$$$$$$$$$$$\n",
      "$$$$$$$$$$$$ Best parameters found: OrderedDict([('elasticnet__alpha', 0.013300153699806186), ('elasticnet__l1_ratio', 0.6422755334330679)]) $$$$$$$$$$$$\n",
      "$$$$$$$$$$$$ Best average test score across 5-fold cv: -0.8383561590952576 $$$$$$$$$$$$\n",
      "\n"
     ]
    },
    {
     "data": {
      "image/png": "[encoded data removed]",
      "text/plain": [
       "<Figure size 640x480 with 1 Axes>"
      ]
     },
     "metadata": {},
     "output_type": "display_data"
    }
   ],
   "source": [
    "for model_type in model_types:\n",
    "    for label in labels_to_predict:\n",
    "        print(f'\\n $$$$$$$$$$$$$$$$$$$$$$$$$$ OPTIMIZING A {model_type} PREDICTING {label} $$$$$$$$$$$$$$$$$$$$$$$$$$ \\n')\n",
    "        features_to_keep = all_features_to_keep[label][model_type]\n",
    "        saving_dir = f'{bayesian_opt_results_dir}/{label}'\n",
    "        if(not os.path.exists(f'{saving_dir}/{model_type}')): os.makedirs(f'{saving_dir}/{model_type}')\n",
    "        \n",
    "        label_df = df.copy()[label]\n",
    "        '''if there are defined features to keep, then only keep the defined ones. otherwise, just remove the labels for feat_df'''\n",
    "        if(features_to_keep != 'ALL'):\n",
    "            feat_df = df[features_to_keep]\n",
    "        else:\n",
    "            feat_df = df.drop(all_labels, axis=1)\n",
    "        \n",
    "        print(feat_df.head())\n",
    "        if(model_type =='GPR'):\n",
    "            model = do_bayesian_optimization_GPR(feat_df, label_df, num_tries=number_of_tries, saving_folder= saving_dir+'/GPR')\n",
    "        elif(model_type == 'RF'):\n",
    "            model = do_bayesian_optimization_RF(feat_df, label_df, num_tries=number_of_tries, saving_folder= saving_dir+'/RF')\n",
    "        elif(model_type == 'poly2'):\n",
    "            model = do_bayesian_optimization_poly_reg(feat_df, label_df, num_tries=number_of_tries, saving_folder= saving_dir+'/poly2')"
   ]
  }
 ],
 "metadata": {
  "kernelspec": {
   "display_name": "tfp_env",
   "language": "python",
   "name": "python3"
  },
  "language_info": {
   "codemirror_mode": {
    "name": "ipython",
    "version": 3
   },
   "file_extension": ".py",
   "mimetype": "text/x-python",
   "name": "python",
   "nbconvert_exporter": "python",
   "pygments_lexer": "ipython3",
   "version": "3.10.9"
  }
 },
 "nbformat": 4,
 "nbformat_minor": 2
}
