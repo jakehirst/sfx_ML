{
 "cells": [
  {
   "cell_type": "markdown",
   "metadata": {},
   "source": [
    "This code will open the dataset files that you give it, and make a five fold crossvalidation that will be used in the backward feature selection for all of the model types and labels that we predict. This is so we use the same cross validation datasets and get a good idea of how these models perform against one another without any bias on the split of the datasets."
   ]
  },
  {
   "cell_type": "code",
   "execution_count": 1,
   "metadata": {},
   "outputs": [],
   "source": [
    "from Backward_feature_selection import *\n",
    "\n",
    "all_labels = ['height', 'phi', 'theta', \n",
    "        'impact site x', 'impact site y', 'impact site z', \n",
    "        'impact site r', 'impact site phi', 'impact site theta']\n",
    "\n",
    "\n",
    "\n",
    "'''the dataset we are useing's path'''\n",
    "# full_dataset_pathname = \"/Volumes/Jake_ssd/Paper_1_results_no_feature_engineering/dataset/New_Crack_Len_FULL_OG_dataframe_2023_11_16.csv\"\n",
    "full_dataset_pathname = \"/Volumes/Jake_ssd/Paper_1_results_WITH_feature_engineering/dataset/feature_transformations_2023-11-16/height/HEIGHTALL_TRANSFORMED_FEATURES.csv\"\n",
    "'''where the results are stored'''\n",
    "# results_folder = '/Volumes/Jake_ssd/Paper_1_results_no_feature_engineering/results'\n",
    "results_folder = '/Volumes/Jake_ssd/Paper_1_results_WITH_feature_engineering/results'\n",
    "results_folder = '/Volumes/Jake_ssd/with_timestep_init/feature_selection_with_transformations/results'\n",
    "\n",
    "'''Where we will store the 5 fold datasets that we will make shortly'''\n",
    "# data_folder = '/Volumes/Jake_ssd/Paper_1_results_no_feature_engineering/5fold_datasets'\n",
    "data_folder = '/Volumes/Jake_ssd/Paper_1_results_WITH_feature_engineering/5fold_datasets'\n",
    "\n",
    "'''Where  we get the hyperparameters for the models'''\n",
    "hyperparam_folder = '/Volumes/Jake_ssd/Paper 2/with_transformations/bayesian_optimization_with_transformations'\n",
    "\n",
    "\n",
    "\n",
    "\n",
    "if(not os.path.exists(data_folder)): os.makedirs(data_folder)\n",
    "\n",
    "'''makes the 5 fold datasets'''\n",
    "# make_5_fold_datasets(data_folder, full_dataset_pathname, remove_small_cracks=False, normalize=True)\n",
    "\n",
    "dataset = pd.read_csv(full_dataset_pathname)\n",
    "feature_set = dataset.drop(all_labels, axis=1)\n",
    "\n",
    "'''get a list of all of the features we will use, and get rid of any that have \"timestep_init\" as welll as any that have \"Unnamed: 0\" in them. '''\n",
    "all_features = feature_set.columns.to_list() #all of the features that will be considered\n",
    "# all_features = [string for string in all_features if 'timestep_init' not in string] #TODO temporarily still use the timestep_init feature\n",
    "all_features = [string for string in all_features if 'Unnamed: 0' not in string]"
   ]
  },
  {
   "cell_type": "markdown",
   "metadata": {},
   "source": [
    "This cell will run the backward feature selection, and plot the performances vs number of features as it does so."
   ]
  },
  {
   "cell_type": "code",
   "execution_count": 2,
   "metadata": {},
   "outputs": [
    {
     "name": "stdout",
     "output_type": "stream",
     "text": [
      "\n",
      "$$$$$$$$$$ NOW FOR PREDICTING height WITH ridge $$$$$$$$$$\n",
      "\n",
      "Working on fold 1\n",
      "Working on fold 2\n",
      "Working on fold 3\n",
      "Working on fold 4\n",
      "Working on fold 5\n",
      "\n",
      "removing these features: \n",
      "['avg_ori * timestep_init', 'crack len + max thickness', 'dist btw frts + max thickness', 'abs_val_sum_kink^2', 'crack len * median_thickness', 'crack len * sum_kink', 'dist btw frts + median_thickness', 'avg_prop_speed - abs_val_sum_kink', 'timestep_init^2', 'angle_btw + init y', 'angle_btw + max_kink', 'abs_val_sum_kink * dist btw frts', 'abs_val_mean_kink + angle_btw', 'abs_val_sum_kink - median_kink', 'abs_val_sum_kink^3', 'avg_ori - abs_val_sum_kink', 'mean thickness * timestep_init', 'max thickness + max_prop_speed', 'abs_val_sum_kink - avg_ori', 'max thickness + var_kink', 'angle_btw * std_kink', 'angle_btw + max_prop_speed', 'abs_val_sum_kink + median_thickness', 'abs_val_sum_kink - sum_kink', 'init y + max thickness', 'abs_val_sum_kink * median_kink', 'abs_val_mean_kink - max thickness', 'abs_val_sum_kink - mean thickness', 'dist btw frts + thickness_at_init', 'abs_val_sum_kink - avg_prop_speed', 'max_prop_speed + median_thickness', 'abs_val_sum_kink * mean_kink', 'sum_kink / abs_val_sum_kink', 'angle_btw + thickness_at_init', 'crack len * median_kink', 'median_kink (unchanged)', 'abs_val_sum_kink + angle_btw', 'angle_btw * max_kink', 'abs_val_sum_kink + max thickness', 'abs_val_mean_kink + crack len', 'max thickness - abs_val_mean_kink', 'crack len + thickness_at_init', 'max thickness + max_kink', 'crack len + linearity', 'init z / abs_val_sum_kink', 'abs_val_sum_kink * max_kink', 'max_prop_speed + var_thickness', 'median_kink - abs_val_sum_kink', 'max_prop_speed + thickness_at_init', 'dist btw frts / abs_val_mean_kink']\n",
      "Working on fold 1\n",
      "Working on fold 2\n",
      "Working on fold 3\n",
      "Working on fold 4\n",
      "Working on fold 5\n",
      "\n",
      "removing these features: \n",
      "['angle_btw + crack len', 'abs_val_sum_kink / timestep_init', 'abs_val_sum_kink * sum_kink', 'sum_kink - abs_val_sum_kink', 'median_kink * timestep_init', 'angle_btw + dist btw frts', 'abs_val_sum_kink + thickness_at_init', 'crack len + max_kink', 'crack len / abs_val_mean_kink', 'dist btw frts * median_kink', 'crack len + var_thickness', 'std_kink * var_thickness', 'angle_btw + std_thickness', 'angle_btw + var_kink', 'abs_val_sum_kink * std_kink', 'max_kink + max_prop_speed', 'max_prop_speed * mean thickness', 'linearity / abs_val_sum_kink', 'dist btw frts + linearity', 'sqrt(max_prop_speed)', 'angle_btw + var_thickness', 'crack len + var_kink', 'abs_val_sum_kink * init y', 'abs_val_sum_kink + var_thickness', 'linearity + max_prop_speed', 'dist btw frts + var_thickness', 'std_kink * sum_kink', 'var_thickness (unchanged)', 'angle_btw + std_kink', 'dist btw frts + max_kink', 'abs_val_sum_kink - init z', 'init y + max_prop_speed', 'crack len + init y', 'mean_kink + var_thickness', 'max thickness * max_prop_speed', 'init y * std_kink', 'mean_kink / abs_val_sum_kink', 'abs_val_sum_kink * var_kink', 'abs_val_mean_kink * angle_btw', 'init y + var_kink', 'abs_val_mean_kink - angle_btw', 'angle_btw + init z', 'init y / abs_val_sum_kink', 'max_kink + mean_kink', 'abs_val_sum_kink / init y']\n",
      "Working on fold 1\n",
      "Working on fold 2\n",
      "Working on fold 3\n",
      "Working on fold 4\n",
      "Working on fold 5\n",
      "\n",
      "removing these features: \n",
      "['mean_kink * var_kink', 'dist btw frts * max_prop_speed', 'abs_val_sum_kink * mean thickness', 'max_kink + var_thickness', 'crack len + max_prop_speed', 'abs_val_mean_kink + dist btw frts', 'init z - abs_val_sum_kink', 'abs_val_sum_kink + init y', 'crack len * max thickness', 'abs_val_sum_kink + max_prop_speed', 'abs_val_mean_kink + abs_val_sum_kink', 'angle_btw - abs_val_mean_kink', 'var_kink + var_thickness', 'abs_val_mean_kink + max_prop_speed', 'abs_val_sum_kink * var_thickness', 'max_prop_speed (unchanged)', 'init z * timestep_init', 'abs_val_sum_kink - std_kink', 'max_prop_speed + var_kink', 'timestep_init / abs_val_sum_kink', 'abs_val_sum_kink + max_kink', 'std_thickness * var_kink', 'max_prop_speed + mean_kink', 'abs_val_sum_kink * init z', 'init y + var_thickness', 'abs_val_sum_kink * thickness_at_init', 'sqrt(std_kink)', 'var_thickness - abs_val_mean_kink', 'angle_btw + init x', 'abs_val_sum_kink + var_kink', 'mean thickness + timestep_init', 'max thickness + std_kink', 'max_kink (unchanged)', 'abs_val_sum_kink + linearity', 'abs_val_sum_kink + crack len', 'abs_val_sum_kink / init z', 'max_kink + var_kink', 'max thickness * timestep_init', 'std_thickness + var_thickness', 'abs_val_sum_kink (unchanged)', 'abs_val_sum_kink - init x']\n",
      "Working on fold 1\n",
      "Working on fold 2\n",
      "Working on fold 3\n",
      "Working on fold 4\n",
      "Working on fold 5\n",
      "\n",
      "removing these features: \n",
      "['init y * var_thickness', 'crack len (unchanged)', 'abs_val_sum_kink * crack len', 'max_prop_speed + std_kink', 'init y * max_kink', 'abs_val_sum_kink + mean_kink', 'init y + max_kink', 'abs_val_sum_kink / avg_prop_speed', 'abs_val_sum_kink + dist btw frts', 'dist btw frts + init y', 'thickness_at_init * timestep_init', 'crack len * mean_kink', 'dist btw frts + max_prop_speed', 'abs_val_mean_kink + avg_ori', 'init x + max_kink', 'abs_val_sum_kink * max thickness', 'crack len + dist btw frts', 'avg_ori + timestep_init', 'init x + max_prop_speed', 'dist btw frts + var_kink', 'max_prop_speed + std_thickness', 'max_kink + std_thickness', 'avg_ori / abs_val_sum_kink', 'max_kink + std_kink', 'abs_val_sum_kink - mean_kink', 'max_prop_speed^2', 'abs_val_sum_kink + std_kink', 'std_kink - abs_val_sum_kink', 'init x - abs_val_sum_kink', 'angle_btw + mean_kink', 'crack len + std_thickness', 'mean_kink + var_kink', 'avg_prop_speed + timestep_init', 'abs_val_sum_kink + init x', 'max_kink - abs_val_mean_kink', 'init z + timestep_init']\n",
      "Working on fold 1\n",
      "Working on fold 2\n",
      "Working on fold 3\n",
      "Working on fold 4\n",
      "Working on fold 5\n",
      "\n",
      "removing these features: \n",
      "['crack len + std_kink', 'angle_btw * thickness_at_init', 'dist btw frts * max thickness', 'crack len * init y', 'abs_val_sum_kink + std_thickness', 'timestep_init^3', 'abs_val_sum_kink * avg_ori', 'max_kink * sum_kink', 'max_prop_speed * var_thickness', 'crack len + mean_kink', 'init y * std_thickness', 'avg_ori + linearity', 'init y + std_kink', 'abs_val_mean_kink + median_kink', 'init y * var_kink', 'mean thickness * var_kink', 'linearity * max_kink', 'var_kink (unchanged)', 'init y + std_thickness', 'exp(angle_btw)', 'var_kink / abs_val_mean_kink', 'std_thickness^2', 'std_thickness + var_kink', 'std_kink^2', 'log(timestep_init)', 'sqrt(var_kink)', 'mean thickness / abs_val_sum_kink', 'crack len * init z', 'max_kink * std_kink', 'abs_val_sum_kink / max thickness', 'std_kink + var_kink', 'max thickness + std_thickness', 'avg_ori * median_kink']\n",
      "Working on fold 1\n",
      "Working on fold 2\n",
      "Working on fold 3\n",
      "Working on fold 4\n",
      "Working on fold 5\n",
      "\n",
      "removing these features: \n",
      "['max_prop_speed * sum_kink', 'angle_btw * crack len', 'sum_kink + timestep_init', 'sqrt(max_kink)', 'median_kink + timestep_init', 'crack len + init x', 'abs_val_mean_kink - max_kink', 'abs_val_mean_kink - init y', 'max thickness * var_kink', 'dist btw frts + std_kink', 'max_kink * mean thickness', 'timestep_init ^ -abs_val_mean_kink', 'avg_ori * crack len', 'std_kink (unchanged)', 'abs_val_mean_kink - var_thickness', 'var_kink - abs_val_mean_kink', 'init x + std_kink', 'max_prop_speed * var_kink', 'abs_val_mean_kink * timestep_init', 'mean_kink - abs_val_sum_kink', 'init x * std_kink', 'timestep_init ^ -avg_ori', 'std_kink + std_thickness', 'angle_btw * var_kink', 'abs_val_sum_kink / std_thickness', 'init y - abs_val_mean_kink', 'timestep_init - abs_val_mean_kink', 'dist btw frts + std_thickness', 'mean_kink + std_kink', 'std_thickness (unchanged)']\n",
      "Working on fold 1\n",
      "Working on fold 2\n",
      "Working on fold 3\n",
      "Working on fold 4\n",
      "Working on fold 5\n",
      "\n",
      "removing these features: \n",
      "['abs_val_sum_kink * init x', 'abs_val_mean_kink * abs_val_sum_kink', 'abs_val_mean_kink - var_kink', 'timestep_init - abs_val_sum_kink', 'dist btw frts + init x', 'linearity - abs_val_sum_kink', 'sum_kink * var_kink', 'std_kink / abs_val_mean_kink', 'abs_val_sum_kink - linearity', 'dist btw frts (unchanged)', 'abs_val_sum_kink - timestep_init', 'std_thickness / abs_val_mean_kink', 'linearity * max_prop_speed', 'init x * max_kink', 'max_kink * max_prop_speed', 'abs_val_mean_kink - abs_val_sum_kink', 'dist btw frts * var_thickness', 'angle_btw + median_kink', 'linearity + median_kink', 'sqrt(var_thickness)', 'avg_prop_speed + max_kink', 'max thickness / abs_val_sum_kink', 'log(var_kink)', 'var_kink ^ -avg_ori', 'median_thickness / abs_val_sum_kink', 'sqrt(max thickness)', 'log(std_kink)']\n",
      "Working on fold 1\n",
      "Working on fold 2\n",
      "Working on fold 3\n",
      "Working on fold 4\n",
      "Working on fold 5\n",
      "\n",
      "removing these features: \n",
      "['var_kink - abs_val_sum_kink', 'crack len * std_thickness', 'abs_val_sum_kink - var_kink', 'abs_val_mean_kink - timestep_init', 'dist btw frts * init y', 'abs_val_sum_kink - init y', 'init y - abs_val_sum_kink', 'crack len * var_kink', 'std_kink + sum_kink', 'abs_val_sum_kink + sum_kink', 'abs_val_mean_kink - max_prop_speed', 'abs_val_sum_kink * std_thickness', 'var_thickness / abs_val_mean_kink', 'abs_val_mean_kink - init x', 'avg_ori + median_kink', 'init x - abs_val_mean_kink', 'dist btw frts * var_kink', 'mean_kink + timestep_init', 'max_prop_speed - abs_val_mean_kink', 'abs_val_sum_kink - abs_val_mean_kink', 'init x / abs_val_sum_kink', 'std_kink - abs_val_mean_kink', 'crack len + median_kink', 'crack len * max_prop_speed']\n",
      "Working on fold 1\n",
      "Working on fold 2\n",
      "Working on fold 3\n",
      "Working on fold 4\n",
      "Working on fold 5\n",
      "\n",
      "removing these features: \n",
      "['angle_btw + linearity', 'mean_kink * std_kink', 'median_thickness * timestep_init', 'init z * std_kink', 'avg_prop_speed / abs_val_sum_kink', 'abs_val_sum_kink / mean thickness', 'dist btw frts * linearity', 'max thickness^2', 'std_kink * thickness_at_init', 'angle_btw + sum_kink', 'max_prop_speed / abs_val_mean_kink', 'std_thickness * timestep_init', 'init y * timestep_init', 'dist btw frts^2', 'abs_val_sum_kink / avg_ori', 'max thickness * max_kink', 'avg_ori * dist btw frts', 'max thickness * var_thickness', 'median_kink / abs_val_sum_kink', 'exp(crack len)', 'abs_val_sum_kink - crack len']\n",
      "Working on fold 1\n",
      "Working on fold 2\n",
      "Working on fold 3\n",
      "Working on fold 4\n",
      "Working on fold 5\n",
      "\n",
      "removing these features: \n",
      "['timestep_init (unchanged)', 'max_prop_speed + sum_kink', 'sqrt(abs_val_sum_kink)', 'abs_val_sum_kink / median_thickness', 'max thickness + mean_kink', 'abs_val_mean_kink - std_kink', 'dist btw frts * sum_kink', 'avg_prop_speed + max_prop_speed', 'median_thickness * std_kink', 'avg_ori + max_prop_speed', 'dist btw frts * std_thickness', 'abs_val_mean_kink / max_kink', 'abs_val_sum_kink - thickness_at_init', 'max_prop_speed * median_thickness', 'abs_val_mean_kink / var_kink', 'angle_btw (unchanged)', 'crack len + sum_kink', 'crack len + median_thickness', 'thickness_at_init - abs_val_sum_kink']\n",
      "Working on fold 1\n",
      "Working on fold 2\n",
      "Working on fold 3\n",
      "Working on fold 4\n",
      "Working on fold 5\n",
      "\n",
      "removing these features: \n",
      "['dist btw frts * median_thickness', 'dist btw frts + sum_kink', 'angle_btw * sum_kink', 'abs_val_mean_kink / crack len', 'init x * var_kink', 'mean thickness + std_kink', 'exp(dist btw frts)', 'avg_prop_speed + std_kink', 'std_thickness + sum_kink', 'init z * max_kink', 'init z + max_prop_speed', 'init z * max_prop_speed', 'abs_val_mean_kink / max_prop_speed', 'abs_val_mean_kink + timestep_init', 'max thickness * std_thickness', 'angle_btw + avg_prop_speed', 'dist btw frts^3']\n",
      "Working on fold 1\n",
      "Working on fold 2\n",
      "Working on fold 3\n",
      "Working on fold 4\n",
      "Working on fold 5\n",
      "\n",
      "removing these features: \n",
      "['crack len * var_thickness', 'crack len * dist btw frts', 'angle_btw * mean_kink', 'thickness_at_init + timestep_init', 'std_kink * std_thickness', 'abs_val_mean_kink / dist btw frts', 'std_kink ^ -avg_ori', 'abs_val_mean_kink * max_prop_speed', 'linearity + timestep_init', 'linearity * var_kink', 'timestep_init + var_thickness', 'max_kink + timestep_init', 'abs_val_mean_kink - dist btw frts', 'dist btw frts - abs_val_mean_kink', 'abs_val_mean_kink ^ -std_kink', 'max thickness + var_thickness']\n",
      "Working on fold 1\n",
      "Working on fold 2\n",
      "Working on fold 3\n",
      "Working on fold 4\n",
      "Working on fold 5\n",
      "\n",
      "removing these features: \n",
      "['std_thickness - abs_val_mean_kink', 'abs_val_sum_kink / median_kink', 'max_prop_speed^3', 'init y * max thickness', 'var_kink * var_thickness', 'max_prop_speed * mean_kink', 'abs_val_sum_kink * median_thickness', 'angle_btw * init z', 'init z * median_kink', 'abs_val_mean_kink - std_thickness', 'abs_val_mean_kink ^ -abs_val_sum_kink', 'median_kink + sum_kink', 'abs_val_sum_kink + mean thickness', 'angle_btw * init y']\n",
      "Working on fold 1\n",
      "Working on fold 2\n",
      "Working on fold 3\n",
      "Working on fold 4\n",
      "Working on fold 5\n",
      "\n",
      "removing these features: \n",
      "['max thickness * std_kink', 'abs_val_mean_kink ^ -var_kink', 'linearity * median_kink', 'max_kink * var_thickness', 'abs_val_mean_kink * crack len', 'abs_val_sum_kink - dist btw frts', 'max_kink / abs_val_sum_kink', 'dist btw frts - abs_val_sum_kink', 'abs_val_sum_kink + init z', 'angle_btw + avg_ori', 'abs_val_sum_kink + avg_prop_speed', 'crack len - abs_val_mean_kink', 'thickness_at_init / abs_val_sum_kink']\n",
      "Working on fold 1\n",
      "Working on fold 2\n",
      "Working on fold 3\n",
      "Working on fold 4\n",
      "Working on fold 5\n",
      "\n",
      "removing these features: \n",
      "['max_kink - abs_val_sum_kink', 'abs_val_sum_kink - max_kink', 'crack len * max_kink', 'max_prop_speed * thickness_at_init', 'init y * max_prop_speed', 'angle_btw * max thickness', 'abs_val_sum_kink * angle_btw', 'angle_btw * median_kink', 'max_prop_speed * median_kink', 'sqrt(dist btw frts)', 'median_kink * sum_kink']\n",
      "Working on fold 1\n",
      "Working on fold 2\n",
      "Working on fold 3\n",
      "Working on fold 4\n",
      "Working on fold 5\n",
      "\n",
      "removing these features: \n",
      "['dist btw frts * thickness_at_init', 'max_prop_speed + mean thickness', 'angle_btw * std_thickness', 'crack len * thickness_at_init', 'abs_val_sum_kink * max_prop_speed', 'dist btw frts * mean_kink', 'angle_btw * var_thickness', 'max_prop_speed * std_kink', 'abs_val_mean_kink * dist btw frts', 'avg_ori * max_prop_speed']\n",
      "Working on fold 1\n",
      "Working on fold 2\n",
      "Working on fold 3\n",
      "Working on fold 4\n",
      "Working on fold 5\n",
      "\n",
      "removing these features: \n",
      "['timestep_init + var_kink', 'max_prop_speed * std_thickness', 'std_thickness * sum_kink', 'angle_btw * dist btw frts', 'sqrt(median_kink)', 'max thickness^3', 'abs_val_sum_kink / mean_kink', 'angle_btw * linearity', 'std_kink + thickness_at_init']\n",
      "Working on fold 1\n",
      "Working on fold 2\n",
      "Working on fold 3\n",
      "Working on fold 4\n",
      "Working on fold 5\n",
      "\n",
      "removing these features: \n",
      "['crack len * mean thickness', 'dist btw frts * init z', 'mean_kink + std_thickness', 'dist btw frts + mean_kink', 'crack len - abs_val_sum_kink', 'crack len * linearity', 'dist btw frts + mean thickness', 'dist btw frts + init z']\n",
      "Working on fold 1\n",
      "Working on fold 2\n",
      "Working on fold 3\n",
      "Working on fold 4\n",
      "Working on fold 5\n",
      "\n",
      "removing these features: \n",
      "['init y + timestep_init', 'avg_ori + dist btw frts', 'abs_val_sum_kink - median_thickness', 'angle_btw * init x', 'median_thickness - abs_val_sum_kink', 'std_kink * timestep_init', 'max_kink * mean_kink', 'crack len + init z']\n",
      "Working on fold 1\n",
      "Working on fold 2\n",
      "Working on fold 3\n",
      "Working on fold 4\n",
      "Working on fold 5\n",
      "\n",
      "removing these features: \n",
      "['crack len * init x', 'max thickness * mean_kink', 'max_kink * std_thickness', 'dist btw frts * init x', 'var_thickness - abs_val_sum_kink', 'abs_val_sum_kink - var_thickness', 'abs_val_mean_kink + linearity']\n",
      "Working on fold 1\n",
      "Working on fold 2\n",
      "Working on fold 3\n",
      "Working on fold 4\n",
      "Working on fold 5\n",
      "\n",
      "removing these features: \n",
      "['dist btw frts * mean thickness', 'mean thickness - abs_val_sum_kink', 'init x * timestep_init', 'init x * max_prop_speed', 'angle_btw / abs_val_mean_kink', 'sqrt(avg_ori)']\n",
      "Working on fold 1\n",
      "Working on fold 2\n",
      "Working on fold 3\n",
      "Working on fold 4\n",
      "Working on fold 5\n",
      "\n",
      "removing these features: \n",
      "['median_thickness + timestep_init', 'init x + timestep_init', 'crack len^2', 'angle_btw * mean thickness', 'max thickness (unchanged)', 'avg_ori + crack len']\n",
      "Working on fold 1\n",
      "Working on fold 2\n",
      "Working on fold 3\n",
      "Working on fold 4\n",
      "Working on fold 5\n",
      "\n",
      "removing these features: \n",
      "['angle_btw * max_prop_speed', 'angle_btw + median_thickness', 'std_kink + timestep_init', 'avg_prop_speed + dist btw frts', 'abs_val_sum_kink * linearity']\n",
      "Working on fold 1\n",
      "Working on fold 2\n",
      "Working on fold 3\n",
      "Working on fold 4\n",
      "Working on fold 5\n",
      "\n",
      "removing these features: \n",
      "['angle_btw^2', 'crack len^3', 'dist btw frts * max_kink', 'mean thickness * std_kink']\n",
      "Working on fold 1\n",
      "Working on fold 2\n",
      "Working on fold 3\n",
      "Working on fold 4\n",
      "Working on fold 5\n",
      "\n",
      "removing these features: \n",
      "['std_thickness / abs_val_sum_kink', 'avg_ori (unchanged)', 'sum_kink * timestep_init', 'abs_val_sum_kink / max_kink']\n",
      "Working on fold 1\n",
      "Working on fold 2\n",
      "Working on fold 3\n",
      "Working on fold 4\n",
      "Working on fold 5\n",
      "\n",
      "removing these features: \n",
      "['avg_ori * linearity', 'abs_val_mean_kink * avg_ori', 'std_kink + var_thickness', 'sqrt(crack len)']\n",
      "Working on fold 1\n",
      "Working on fold 2\n",
      "Working on fold 3\n",
      "Working on fold 4\n",
      "Working on fold 5\n",
      "\n",
      "removing these features: \n",
      "['crack len + mean thickness', 'mean_kink * var_thickness', 'sqrt(std_thickness)']\n",
      "Working on fold 1\n",
      "Working on fold 2\n",
      "Working on fold 3\n",
      "Working on fold 4\n",
      "Working on fold 5\n",
      "\n",
      "removing these features: \n",
      "['abs_val_mean_kink - crack len', 'dist btw frts * std_kink', 'avg_prop_speed + std_thickness']\n",
      "Working on fold 1\n",
      "Working on fold 2\n",
      "Working on fold 3\n",
      "Working on fold 4\n",
      "Working on fold 5\n",
      "\n",
      "removing these features: \n",
      "['linearity * std_kink', 'crack len * std_kink', 'avg_ori * init z']\n",
      "Working on fold 1\n",
      "Working on fold 2\n",
      "Working on fold 3\n",
      "Working on fold 4\n",
      "Working on fold 5\n",
      "\n",
      "removing these features: \n",
      "['abs_val_mean_kink / abs_val_sum_kink']\n",
      "Working on fold 1\n",
      "Working on fold 2\n",
      "Working on fold 3\n",
      "Working on fold 4\n",
      "Working on fold 5\n",
      "\n",
      "removing these features: \n",
      "['angle_btw^3']\n",
      "Working on fold 1\n",
      "Working on fold 2\n",
      "Working on fold 3\n",
      "Working on fold 4\n",
      "Working on fold 5\n",
      "\n",
      "removing these features: \n",
      "['angle_btw * median_thickness']\n",
      "Working on fold 1\n",
      "Working on fold 2\n",
      "Working on fold 3\n",
      "Working on fold 4\n",
      "Working on fold 5\n",
      "\n",
      "removing these features: \n",
      "['angle_btw + max thickness']\n",
      "Working on fold 1\n",
      "Working on fold 2\n",
      "Working on fold 3\n",
      "Working on fold 4\n",
      "Working on fold 5\n",
      "\n",
      "removing these features: \n",
      "['sqrt(angle_btw)']\n",
      "Working on fold 1\n",
      "Working on fold 2\n",
      "Working on fold 3\n",
      "Working on fold 4\n",
      "Working on fold 5\n",
      "\n",
      "removing these features: \n",
      "['angle_btw + mean thickness']\n",
      "Working on fold 1\n",
      "Working on fold 2\n",
      "Working on fold 3\n",
      "Working on fold 4\n",
      "Working on fold 5\n",
      "\n",
      "removing these features: \n",
      "['mean_kink * std_thickness']\n",
      "Working on fold 1\n",
      "Working on fold 2\n",
      "Working on fold 3\n",
      "Working on fold 4\n",
      "Working on fold 5\n",
      "\n",
      "removing these features: \n",
      "['sum_kink * var_thickness']\n",
      "Working on fold 1\n",
      "Working on fold 2\n",
      "Working on fold 3\n",
      "Working on fold 4\n",
      "Working on fold 5\n",
      "\n",
      "removing these features: \n",
      "['max_kink / abs_val_mean_kink']\n",
      "Working on fold 1\n",
      "Working on fold 2\n",
      "Working on fold 3\n",
      "Working on fold 4\n",
      "Working on fold 5\n",
      "\n",
      "removing these features: \n",
      "['sqrt(timestep_init)']\n",
      "Working on fold 1\n",
      "Working on fold 2\n",
      "Working on fold 3\n",
      "Working on fold 4\n",
      "Working on fold 5\n",
      "\n",
      "removing these features: \n",
      "['avg_prop_speed + crack len']\n",
      "Working on fold 1\n",
      "Working on fold 2\n",
      "Working on fold 3\n",
      "Working on fold 4\n",
      "Working on fold 5\n",
      "\n",
      "removing these features: \n",
      "['abs_val_mean_kink / timestep_init']\n",
      "Working on fold 1\n",
      "Working on fold 2\n",
      "Working on fold 3\n",
      "Working on fold 4\n",
      "Working on fold 5\n",
      "\n",
      "removing these features: \n",
      "['abs_val_mean_kink * linearity']\n",
      "Working on fold 1\n",
      "Working on fold 2\n",
      "Working on fold 3\n",
      "Working on fold 4\n",
      "Working on fold 5\n",
      "\n",
      "removing these features: \n",
      "['dist btw frts + median_kink']\n",
      "Working on fold 1\n",
      "Working on fold 2\n",
      "Working on fold 3\n",
      "Working on fold 4\n",
      "Working on fold 5\n",
      "\n",
      "removing these features: \n",
      "['init y * mean_kink']\n",
      "Working on fold 1\n",
      "Working on fold 2\n",
      "Working on fold 3\n",
      "Working on fold 4\n",
      "Working on fold 5\n",
      "\n",
      "removing these features: \n",
      "['mean_kink * timestep_init']\n",
      "\n",
      "...next model type... \n",
      "\n",
      "$$$$$$$$$$ NOW FOR PREDICTING height WITH lasso $$$$$$$$$$\n",
      "\n",
      "Working on fold 1\n",
      "Working on fold 2\n",
      "Working on fold 3\n",
      "Working on fold 4\n",
      "Working on fold 5\n",
      "\n",
      "removing these features: \n",
      "['abs_val_sum_kink^2', 'angle_btw^2', 'crack len^2', 'dist btw frts^2', 'max thickness^2', 'max_prop_speed^2', 'std_kink^2', 'std_thickness^2', 'timestep_init^2', 'abs_val_sum_kink^3', 'angle_btw^3', 'crack len^3', 'dist btw frts^3', 'max thickness^3', 'max_prop_speed^3', 'timestep_init^3', 'sqrt(abs_val_sum_kink)', 'sqrt(angle_btw)', 'sqrt(avg_ori)', 'sqrt(dist btw frts)', 'sqrt(max thickness)', 'sqrt(max_kink)', 'sqrt(max_prop_speed)', 'sqrt(median_kink)', 'sqrt(std_kink)', 'sqrt(std_thickness)', 'sqrt(var_kink)', 'sqrt(var_thickness)', 'exp(angle_btw)', 'exp(crack len)', 'exp(dist btw frts)', 'log(std_kink)', 'log(timestep_init)', 'log(var_kink)', 'abs_val_sum_kink (unchanged)', 'angle_btw (unchanged)', 'avg_ori (unchanged)', 'crack len (unchanged)', 'dist btw frts (unchanged)', 'max thickness (unchanged)', 'max_kink (unchanged)', 'max_prop_speed (unchanged)', 'median_kink (unchanged)', 'std_kink (unchanged)', 'std_thickness (unchanged)', 'timestep_init (unchanged)', 'var_kink (unchanged)', 'var_thickness (unchanged)', 'abs_val_mean_kink * abs_val_sum_kink', 'abs_val_mean_kink * angle_btw']\n",
      "Working on fold 1\n",
      "Working on fold 2\n",
      "Working on fold 3\n",
      "Working on fold 4\n",
      "Working on fold 5\n",
      "\n",
      "removing these features: \n",
      "['abs_val_mean_kink * avg_ori', 'abs_val_mean_kink * crack len', 'abs_val_mean_kink * dist btw frts', 'abs_val_mean_kink * linearity', 'abs_val_mean_kink * max_prop_speed', 'abs_val_mean_kink * timestep_init', 'abs_val_sum_kink * angle_btw', 'abs_val_sum_kink * avg_ori', 'abs_val_sum_kink * crack len', 'abs_val_sum_kink * dist btw frts', 'abs_val_sum_kink * init x', 'abs_val_sum_kink * init y', 'abs_val_sum_kink * init z', 'abs_val_sum_kink * linearity', 'abs_val_sum_kink * max thickness', 'abs_val_sum_kink * max_kink', 'abs_val_sum_kink * max_prop_speed', 'abs_val_sum_kink * mean thickness', 'abs_val_sum_kink * mean_kink', 'abs_val_sum_kink * median_kink', 'abs_val_sum_kink * median_thickness', 'abs_val_sum_kink * std_kink', 'abs_val_sum_kink * std_thickness', 'abs_val_sum_kink * sum_kink', 'abs_val_sum_kink * thickness_at_init', 'abs_val_sum_kink * var_kink', 'abs_val_sum_kink * var_thickness', 'angle_btw * crack len', 'angle_btw * dist btw frts', 'angle_btw * init x', 'angle_btw * init y', 'angle_btw * init z', 'angle_btw * linearity', 'angle_btw * max thickness', 'angle_btw * max_kink', 'angle_btw * max_prop_speed', 'angle_btw * mean thickness', 'angle_btw * mean_kink', 'angle_btw * median_kink', 'angle_btw * median_thickness', 'angle_btw * std_kink', 'angle_btw * std_thickness', 'angle_btw * sum_kink', 'angle_btw * thickness_at_init', 'angle_btw * var_kink']\n",
      "Working on fold 1\n",
      "Working on fold 2\n",
      "Working on fold 3\n",
      "Working on fold 4\n",
      "Working on fold 5\n",
      "\n",
      "removing these features: \n",
      "['angle_btw * var_thickness', 'avg_ori * crack len', 'avg_ori * dist btw frts', 'avg_ori * init z', 'avg_ori * linearity', 'avg_ori * max_prop_speed', 'avg_ori * median_kink', 'avg_ori * timestep_init', 'crack len * dist btw frts', 'crack len * init x', 'crack len * init y', 'crack len * init z', 'crack len * linearity', 'crack len * max thickness', 'crack len * max_kink', 'crack len * max_prop_speed', 'crack len * mean thickness', 'crack len * mean_kink', 'crack len * median_kink', 'crack len * median_thickness', 'crack len * std_kink', 'crack len * std_thickness', 'crack len * sum_kink', 'crack len * thickness_at_init', 'crack len * var_kink', 'crack len * var_thickness', 'dist btw frts * init x', 'dist btw frts * init y', 'dist btw frts * init z', 'dist btw frts * linearity', 'dist btw frts * max thickness', 'dist btw frts * max_kink', 'dist btw frts * max_prop_speed', 'dist btw frts * mean thickness', 'dist btw frts * mean_kink', 'dist btw frts * median_kink', 'dist btw frts * median_thickness', 'dist btw frts * std_kink', 'dist btw frts * std_thickness', 'dist btw frts * sum_kink', 'dist btw frts * thickness_at_init']\n",
      "Working on fold 1\n",
      "Working on fold 2\n",
      "Working on fold 3\n",
      "Working on fold 4\n",
      "Working on fold 5\n",
      "\n",
      "removing these features: \n",
      "['dist btw frts * var_kink', 'dist btw frts * var_thickness', 'init x * max_kink', 'init x * max_prop_speed', 'init x * std_kink', 'init x * timestep_init', 'init x * var_kink', 'init y * max thickness', 'init y * max_kink', 'init y * max_prop_speed', 'init y * mean_kink', 'init y * std_kink', 'init y * std_thickness', 'init y * timestep_init', 'init y * var_kink', 'init y * var_thickness', 'init z * max_kink', 'init z * max_prop_speed', 'init z * median_kink', 'init z * std_kink', 'init z * timestep_init', 'linearity * max_kink', 'linearity * max_prop_speed', 'linearity * median_kink', 'linearity * std_kink', 'linearity * timestep_init', 'linearity * var_kink', 'max thickness * max_kink', 'max thickness * max_prop_speed', 'max thickness * mean_kink', 'max thickness * std_kink', 'max thickness * std_thickness', 'max thickness * timestep_init', 'max thickness * var_kink', 'max thickness * var_thickness', 'max_kink * max_prop_speed']\n",
      "Working on fold 1\n",
      "Working on fold 2\n",
      "Working on fold 3\n",
      "Working on fold 4\n",
      "Working on fold 5\n",
      "\n",
      "removing these features: \n",
      "['max_kink * mean thickness', 'max_kink * mean_kink', 'max_kink * std_kink', 'max_kink * std_thickness', 'max_kink * sum_kink', 'max_kink * var_thickness', 'max_prop_speed * mean thickness', 'max_prop_speed * mean_kink', 'max_prop_speed * median_kink', 'max_prop_speed * median_thickness', 'max_prop_speed * std_kink', 'max_prop_speed * std_thickness', 'max_prop_speed * sum_kink', 'max_prop_speed * thickness_at_init', 'max_prop_speed * var_kink', 'max_prop_speed * var_thickness', 'mean thickness * std_kink', 'mean thickness * timestep_init', 'mean thickness * var_kink', 'mean_kink * std_kink', 'mean_kink * std_thickness', 'mean_kink * timestep_init', 'mean_kink * var_kink', 'mean_kink * var_thickness', 'median_kink * sum_kink', 'median_kink * timestep_init', 'median_thickness * std_kink', 'median_thickness * timestep_init', 'std_kink * std_thickness', 'std_kink * sum_kink', 'std_kink * thickness_at_init', 'std_kink * timestep_init', 'std_kink * var_thickness']\n",
      "Working on fold 1\n",
      "Working on fold 2\n",
      "Working on fold 3\n",
      "Working on fold 4\n",
      "Working on fold 5\n",
      "\n",
      "removing these features: \n",
      "['std_thickness * sum_kink', 'std_thickness * timestep_init', 'std_thickness * var_kink', 'sum_kink * timestep_init', 'sum_kink * var_kink', 'sum_kink * var_thickness', 'thickness_at_init * timestep_init', 'var_kink * var_thickness', 'abs_val_mean_kink / abs_val_sum_kink', 'abs_val_sum_kink / abs_val_mean_kink', 'abs_val_sum_kink / avg_ori', 'avg_ori / abs_val_sum_kink', 'abs_val_sum_kink / avg_prop_speed', 'avg_prop_speed / abs_val_sum_kink', 'init x / abs_val_sum_kink', 'abs_val_sum_kink / init y', 'init y / abs_val_sum_kink', 'abs_val_sum_kink / init z', 'init z / abs_val_sum_kink', 'linearity / abs_val_sum_kink', 'abs_val_sum_kink / max thickness', 'max thickness / abs_val_sum_kink', 'abs_val_sum_kink / max_kink', 'max_kink / abs_val_sum_kink', 'abs_val_sum_kink / mean thickness', 'mean thickness / abs_val_sum_kink', 'abs_val_sum_kink / mean_kink', 'mean_kink / abs_val_sum_kink', 'abs_val_sum_kink / median_kink', 'median_kink / abs_val_sum_kink']\n",
      "Working on fold 1\n",
      "Working on fold 2\n",
      "Working on fold 3\n",
      "Working on fold 4\n",
      "Working on fold 5\n",
      "\n",
      "removing these features: \n",
      "['abs_val_sum_kink / median_thickness', 'median_thickness / abs_val_sum_kink', 'abs_val_sum_kink / std_thickness', 'std_thickness / abs_val_sum_kink', 'sum_kink / abs_val_sum_kink', 'thickness_at_init / abs_val_sum_kink', 'abs_val_sum_kink / timestep_init', 'timestep_init / abs_val_sum_kink', 'angle_btw / abs_val_mean_kink', 'crack len / abs_val_mean_kink', 'abs_val_mean_kink / crack len', 'dist btw frts / abs_val_mean_kink', 'abs_val_mean_kink / dist btw frts', 'max_kink / abs_val_mean_kink', 'abs_val_mean_kink / max_kink', 'max_prop_speed / abs_val_mean_kink', 'abs_val_mean_kink / max_prop_speed', 'std_kink / abs_val_mean_kink', 'std_thickness / abs_val_mean_kink', 'abs_val_mean_kink / timestep_init', 'var_kink / abs_val_mean_kink', 'abs_val_mean_kink / var_kink', 'var_thickness / abs_val_mean_kink', 'abs_val_mean_kink ^ -abs_val_sum_kink', 'std_kink ^ -avg_ori', 'timestep_init ^ -avg_ori', 'var_kink ^ -avg_ori']\n",
      "Working on fold 1\n",
      "Working on fold 2\n",
      "Working on fold 3\n",
      "Working on fold 4\n",
      "Working on fold 5\n",
      "\n",
      "removing these features: \n",
      "['abs_val_mean_kink ^ -max_prop_speed', 'abs_val_mean_kink ^ -std_kink', 'timestep_init ^ -abs_val_mean_kink', 'abs_val_mean_kink ^ -var_kink', 'abs_val_mean_kink + abs_val_sum_kink', 'abs_val_mean_kink + angle_btw', 'abs_val_mean_kink + avg_ori', 'abs_val_mean_kink + crack len', 'abs_val_mean_kink + dist btw frts', 'abs_val_mean_kink + linearity', 'abs_val_mean_kink + max_prop_speed', 'abs_val_mean_kink + median_kink', 'abs_val_mean_kink + timestep_init', 'abs_val_sum_kink + angle_btw', 'abs_val_sum_kink + avg_prop_speed', 'abs_val_sum_kink + crack len', 'abs_val_sum_kink + dist btw frts', 'abs_val_sum_kink + init x', 'abs_val_sum_kink + init y', 'abs_val_sum_kink + init z', 'abs_val_sum_kink + linearity', 'abs_val_sum_kink + max thickness', 'abs_val_sum_kink + max_kink', 'abs_val_sum_kink + max_prop_speed']\n",
      "Working on fold 1\n",
      "Working on fold 2\n",
      "Working on fold 3\n",
      "Working on fold 4\n",
      "Working on fold 5\n",
      "\n",
      "removing these features: \n",
      "['abs_val_sum_kink + mean thickness', 'abs_val_sum_kink + mean_kink', 'abs_val_sum_kink + median_thickness', 'abs_val_sum_kink + std_kink', 'abs_val_sum_kink + std_thickness', 'abs_val_sum_kink + sum_kink', 'abs_val_sum_kink + thickness_at_init', 'abs_val_sum_kink + var_kink', 'abs_val_sum_kink + var_thickness', 'angle_btw + avg_ori', 'angle_btw + avg_prop_speed', 'angle_btw + crack len', 'angle_btw + dist btw frts', 'angle_btw + init x', 'angle_btw + init y', 'angle_btw + init z', 'angle_btw + linearity', 'angle_btw + max thickness', 'angle_btw + max_kink', 'angle_btw + max_prop_speed', 'angle_btw + mean thickness']\n",
      "Working on fold 1\n",
      "Working on fold 2\n",
      "Working on fold 3\n",
      "Working on fold 4\n",
      "Working on fold 5\n",
      "\n",
      "removing these features: \n",
      "['angle_btw + mean_kink', 'angle_btw + median_kink', 'angle_btw + median_thickness', 'angle_btw + std_kink', 'angle_btw + std_thickness', 'angle_btw + sum_kink', 'angle_btw + thickness_at_init', 'angle_btw + var_kink', 'angle_btw + var_thickness', 'avg_ori + crack len', 'avg_ori + dist btw frts', 'avg_ori + linearity', 'avg_ori + max_prop_speed', 'avg_ori + median_kink', 'avg_ori + timestep_init', 'avg_prop_speed + crack len', 'avg_prop_speed + dist btw frts', 'avg_prop_speed + max_kink', 'avg_prop_speed + max_prop_speed']\n",
      "Working on fold 1\n",
      "Working on fold 2\n",
      "Working on fold 3\n",
      "Working on fold 4\n",
      "Working on fold 5\n",
      "\n",
      "removing these features: \n",
      "['avg_prop_speed + std_kink', 'avg_prop_speed + std_thickness', 'avg_prop_speed + timestep_init', 'crack len + dist btw frts', 'crack len + init x', 'crack len + init y', 'crack len + init z', 'crack len + linearity', 'crack len + max thickness', 'crack len + max_kink', 'crack len + max_prop_speed', 'crack len + mean thickness', 'crack len + mean_kink', 'crack len + median_kink', 'crack len + median_thickness', 'crack len + std_kink', 'crack len + std_thickness']\n",
      "Working on fold 1\n",
      "Working on fold 2\n",
      "Working on fold 3\n",
      "Working on fold 4\n",
      "Working on fold 5\n",
      "\n",
      "removing these features: \n",
      "['crack len + sum_kink', 'crack len + thickness_at_init', 'crack len + var_kink', 'crack len + var_thickness', 'dist btw frts + init x', 'dist btw frts + init y', 'dist btw frts + init z', 'dist btw frts + linearity', 'dist btw frts + max thickness', 'dist btw frts + max_kink', 'dist btw frts + max_prop_speed', 'dist btw frts + mean thickness', 'dist btw frts + mean_kink', 'dist btw frts + median_kink', 'dist btw frts + median_thickness', 'dist btw frts + std_kink']\n",
      "Working on fold 1\n",
      "Working on fold 2\n",
      "Working on fold 3\n",
      "Working on fold 4\n",
      "Working on fold 5\n",
      "\n",
      "removing these features: \n",
      "['dist btw frts + std_thickness', 'dist btw frts + sum_kink', 'dist btw frts + thickness_at_init', 'dist btw frts + var_kink', 'dist btw frts + var_thickness', 'init x + max_kink', 'init x + max_prop_speed', 'init x + std_kink', 'init x + timestep_init', 'init y + max thickness', 'init y + max_kink', 'init y + max_prop_speed', 'init y + std_kink', 'init y + std_thickness']\n",
      "Working on fold 1\n",
      "Working on fold 2\n",
      "Working on fold 3\n",
      "Working on fold 4\n",
      "Working on fold 5\n",
      "\n",
      "removing these features: \n",
      "['init y + timestep_init', 'init y + var_kink', 'init y + var_thickness', 'init z + max_prop_speed', 'init z + timestep_init', 'linearity + max_prop_speed', 'linearity + median_kink', 'linearity + timestep_init', 'max thickness + max_kink', 'max thickness + max_prop_speed', 'max thickness + mean_kink', 'max thickness + std_kink', 'max thickness + std_thickness']\n",
      "Working on fold 1\n",
      "Working on fold 2\n",
      "Working on fold 3\n",
      "Working on fold 4\n",
      "Working on fold 5\n",
      "\n",
      "removing these features: \n",
      "['max thickness + var_kink', 'max thickness + var_thickness', 'max_kink + max_prop_speed', 'max_kink + mean_kink', 'max_kink + std_kink', 'max_kink + std_thickness', 'max_kink + timestep_init', 'max_kink + var_kink', 'max_kink + var_thickness', 'max_prop_speed + mean thickness', 'max_prop_speed + mean_kink']\n",
      "Working on fold 1\n",
      "Working on fold 2\n",
      "Working on fold 3\n",
      "Working on fold 4\n",
      "Working on fold 5\n",
      "\n",
      "removing these features: \n",
      "['max_prop_speed + median_thickness', 'max_prop_speed + std_kink', 'max_prop_speed + std_thickness', 'max_prop_speed + sum_kink', 'max_prop_speed + thickness_at_init', 'max_prop_speed + var_kink', 'max_prop_speed + var_thickness', 'mean thickness + std_kink', 'mean thickness + timestep_init', 'mean_kink + std_kink']\n",
      "Working on fold 1\n",
      "Working on fold 2\n",
      "Working on fold 3\n",
      "Working on fold 4\n",
      "Working on fold 5\n",
      "\n",
      "removing these features: \n",
      "['mean_kink + std_thickness', 'mean_kink + timestep_init', 'mean_kink + var_kink', 'mean_kink + var_thickness', 'median_kink + sum_kink', 'median_kink + timestep_init', 'median_thickness + timestep_init', 'std_kink + std_thickness', 'std_kink + sum_kink']\n",
      "Working on fold 1\n",
      "Working on fold 2\n",
      "Working on fold 3\n",
      "Working on fold 4\n",
      "Working on fold 5\n",
      "\n",
      "removing these features: \n",
      "['std_kink + thickness_at_init', 'std_kink + timestep_init', 'std_kink + var_kink', 'std_kink + var_thickness', 'std_thickness + sum_kink', 'std_thickness + var_kink', 'std_thickness + var_thickness', 'sum_kink + timestep_init']\n",
      "Working on fold 1\n",
      "Working on fold 2\n",
      "Working on fold 3\n",
      "Working on fold 4\n",
      "Working on fold 5\n",
      "\n",
      "removing these features: \n",
      "['thickness_at_init + timestep_init', 'timestep_init + var_kink', 'timestep_init + var_thickness', 'var_kink + var_thickness', 'abs_val_mean_kink - abs_val_sum_kink', 'abs_val_sum_kink - abs_val_mean_kink', 'abs_val_sum_kink - avg_ori', 'avg_ori - abs_val_sum_kink']\n",
      "Working on fold 1\n",
      "Working on fold 2\n",
      "Working on fold 3\n",
      "Working on fold 4\n",
      "Working on fold 5\n",
      "\n",
      "removing these features: \n",
      "['abs_val_sum_kink - avg_prop_speed', 'avg_prop_speed - abs_val_sum_kink', 'abs_val_sum_kink - crack len', 'crack len - abs_val_sum_kink', 'abs_val_sum_kink - dist btw frts', 'dist btw frts - abs_val_sum_kink', 'abs_val_sum_kink - init x']\n",
      "Working on fold 1\n",
      "Working on fold 2\n",
      "Working on fold 3\n",
      "Working on fold 4\n",
      "Working on fold 5\n",
      "\n",
      "removing these features: \n",
      "['init x - abs_val_sum_kink', 'abs_val_sum_kink - init y', 'init y - abs_val_sum_kink', 'abs_val_sum_kink - init z', 'init z - abs_val_sum_kink', 'abs_val_sum_kink - linearity']\n",
      "Working on fold 1\n",
      "Working on fold 2\n",
      "Working on fold 3\n",
      "Working on fold 4\n",
      "Working on fold 5\n",
      "\n",
      "removing these features: \n",
      "['linearity - abs_val_sum_kink', 'abs_val_sum_kink - max_kink', 'max_kink - abs_val_sum_kink', 'abs_val_sum_kink - mean thickness', 'mean thickness - abs_val_sum_kink', 'abs_val_sum_kink - mean_kink']\n",
      "Working on fold 1\n",
      "Working on fold 2\n",
      "Working on fold 3\n",
      "Working on fold 4\n",
      "Working on fold 5\n",
      "\n",
      "removing these features: \n",
      "['mean_kink - abs_val_sum_kink', 'abs_val_sum_kink - median_kink', 'median_kink - abs_val_sum_kink', 'abs_val_sum_kink - median_thickness', 'median_thickness - abs_val_sum_kink']\n",
      "Working on fold 1\n",
      "Working on fold 2\n",
      "Working on fold 3\n",
      "Working on fold 4\n",
      "Working on fold 5\n",
      "\n",
      "removing these features: \n",
      "['abs_val_sum_kink - std_kink', 'std_kink - abs_val_sum_kink', 'abs_val_sum_kink - sum_kink', 'sum_kink - abs_val_sum_kink']\n",
      "Working on fold 1\n",
      "Working on fold 2\n",
      "Working on fold 3\n",
      "Working on fold 4\n",
      "Working on fold 5\n",
      "\n",
      "removing these features: \n",
      "['abs_val_sum_kink - thickness_at_init', 'thickness_at_init - abs_val_sum_kink', 'abs_val_sum_kink - timestep_init', 'timestep_init - abs_val_sum_kink']\n",
      "Working on fold 1\n",
      "Working on fold 2\n",
      "Working on fold 3\n",
      "Working on fold 4\n",
      "Working on fold 5\n",
      "\n",
      "removing these features: \n",
      "['abs_val_sum_kink - var_kink', 'var_kink - abs_val_sum_kink', 'abs_val_sum_kink - var_thickness', 'var_thickness - abs_val_sum_kink']\n",
      "Working on fold 1\n",
      "Working on fold 2\n",
      "Working on fold 3\n",
      "Working on fold 4\n",
      "Working on fold 5\n",
      "\n",
      "removing these features: \n",
      "['angle_btw - abs_val_mean_kink', 'abs_val_mean_kink - angle_btw', 'crack len - abs_val_mean_kink']\n",
      "Working on fold 1\n",
      "Working on fold 2\n",
      "Working on fold 3\n",
      "Working on fold 4\n",
      "Working on fold 5\n",
      "\n",
      "removing these features: \n",
      "['abs_val_mean_kink - crack len', 'dist btw frts - abs_val_mean_kink', 'abs_val_mean_kink - dist btw frts']\n",
      "Working on fold 1\n",
      "Working on fold 2\n",
      "Working on fold 3\n",
      "Working on fold 4\n",
      "Working on fold 5\n",
      "\n",
      "removing these features: \n",
      "['init x - abs_val_mean_kink', 'abs_val_mean_kink - init x', 'init y - abs_val_mean_kink']\n",
      "Working on fold 1\n",
      "Working on fold 2\n",
      "Working on fold 3\n",
      "Working on fold 4\n",
      "Working on fold 5\n",
      "\n",
      "removing these features: \n",
      "['abs_val_mean_kink - init y']\n",
      "Working on fold 1\n",
      "Working on fold 2\n",
      "Working on fold 3\n",
      "Working on fold 4\n",
      "Working on fold 5\n",
      "\n",
      "removing these features: \n",
      "['max thickness - abs_val_mean_kink']\n",
      "Working on fold 1\n",
      "Working on fold 2\n",
      "Working on fold 3\n",
      "Working on fold 4\n",
      "Working on fold 5\n",
      "\n",
      "removing these features: \n",
      "['abs_val_mean_kink - max thickness']\n",
      "Working on fold 1\n",
      "Working on fold 2\n",
      "Working on fold 3\n",
      "Working on fold 4\n",
      "Working on fold 5\n",
      "\n",
      "removing these features: \n",
      "['max_kink - abs_val_mean_kink']\n",
      "Working on fold 1\n",
      "Working on fold 2\n",
      "Working on fold 3\n",
      "Working on fold 4\n",
      "Working on fold 5\n",
      "\n",
      "removing these features: \n",
      "['abs_val_mean_kink - max_kink']\n",
      "Working on fold 1\n",
      "Working on fold 2\n",
      "Working on fold 3\n",
      "Working on fold 4\n",
      "Working on fold 5\n",
      "\n",
      "removing these features: \n",
      "['max_prop_speed - abs_val_mean_kink']\n",
      "Working on fold 1\n",
      "Working on fold 2\n",
      "Working on fold 3\n",
      "Working on fold 4\n",
      "Working on fold 5\n",
      "\n",
      "removing these features: \n",
      "['abs_val_mean_kink - max_prop_speed']\n",
      "Working on fold 1\n",
      "Working on fold 2\n",
      "Working on fold 3\n",
      "Working on fold 4\n",
      "Working on fold 5\n",
      "\n",
      "removing these features: \n",
      "['std_kink - abs_val_mean_kink']\n",
      "Working on fold 1\n",
      "Working on fold 2\n",
      "Working on fold 3\n",
      "Working on fold 4\n",
      "Working on fold 5\n",
      "\n",
      "removing these features: \n",
      "['abs_val_mean_kink - std_kink']\n",
      "Working on fold 1\n",
      "Working on fold 2\n",
      "Working on fold 3\n",
      "Working on fold 4\n",
      "Working on fold 5\n",
      "\n",
      "removing these features: \n",
      "['std_thickness - abs_val_mean_kink']\n",
      "Working on fold 1\n",
      "Working on fold 2\n",
      "Working on fold 3\n",
      "Working on fold 4\n",
      "Working on fold 5\n",
      "\n",
      "removing these features: \n",
      "['abs_val_mean_kink - std_thickness']\n",
      "Working on fold 1\n",
      "Working on fold 2\n",
      "Working on fold 3\n",
      "Working on fold 4\n",
      "Working on fold 5\n",
      "\n",
      "removing these features: \n",
      "['timestep_init - abs_val_mean_kink']\n",
      "Working on fold 1\n",
      "Working on fold 2\n",
      "Working on fold 3\n",
      "Working on fold 4\n",
      "Working on fold 5\n",
      "\n",
      "removing these features: \n",
      "['abs_val_mean_kink - timestep_init']\n",
      "Working on fold 1\n",
      "Working on fold 2\n",
      "Working on fold 3\n",
      "Working on fold 4\n",
      "Working on fold 5\n",
      "\n",
      "removing these features: \n",
      "['var_kink - abs_val_mean_kink']\n",
      "Working on fold 1\n",
      "Working on fold 2\n",
      "Working on fold 3\n",
      "Working on fold 4\n",
      "Working on fold 5\n",
      "\n",
      "removing these features: \n",
      "['abs_val_mean_kink - var_kink']\n",
      "Working on fold 1\n",
      "Working on fold 2\n",
      "Working on fold 3\n",
      "Working on fold 4\n",
      "Working on fold 5\n",
      "\n",
      "removing these features: \n",
      "['var_thickness - abs_val_mean_kink']\n",
      "\n",
      "...next model type... \n",
      "\n",
      "$$$$$$$$$$ NOW FOR PREDICTING height WITH linear $$$$$$$$$$\n",
      "\n",
      "Working on fold 1\n",
      "Working on fold 2\n",
      "Working on fold 3\n",
      "Working on fold 4\n",
      "Working on fold 5\n",
      "\n",
      "removing these features: \n",
      "['max_kink - abs_val_sum_kink', 'abs_val_sum_kink - max_kink', 'init y * mean_kink', 'avg_prop_speed / abs_val_sum_kink', 'mean_kink + timestep_init', 'abs_val_sum_kink / mean_kink', 'abs_val_sum_kink - avg_prop_speed', 'avg_prop_speed - abs_val_sum_kink', 'log(var_kink)', 'init z + timestep_init', 'median_kink * timestep_init', 'abs_val_mean_kink - timestep_init', 'std_kink * timestep_init', 'timestep_init - abs_val_mean_kink', 'sqrt(max_prop_speed)', 'avg_prop_speed + max_kink', 'abs_val_mean_kink + angle_btw', 'abs_val_sum_kink + max_kink', 'mean thickness + timestep_init', 'max_kink + var_kink', 'avg_ori / abs_val_sum_kink', 'log(std_kink)', 'dist btw frts + median_kink', 'avg_prop_speed + timestep_init', 'timestep_init ^ -avg_ori', 'init x - abs_val_sum_kink', 'abs_val_sum_kink - init x', 'timestep_init ^ -abs_val_mean_kink', 'abs_val_mean_kink / crack len', 'abs_val_sum_kink / avg_prop_speed', 'abs_val_mean_kink * timestep_init', 'avg_prop_speed + max_prop_speed', 'max thickness + var_thickness', 'abs_val_sum_kink + max_prop_speed', 'std_kink ^ -avg_ori', 'log(timestep_init)', 'angle_btw + avg_ori', 'thickness_at_init - abs_val_sum_kink', 'angle_btw + mean_kink', 'var_kink ^ -avg_ori', 'max_kink + mean_kink', 'max_kink (unchanged)', 'abs_val_sum_kink - thickness_at_init', 'abs_val_sum_kink + var_kink', 'init x * max_kink', 'abs_val_sum_kink (unchanged)', 'linearity * max_prop_speed', 'max_prop_speed + thickness_at_init', 'angle_btw + thickness_at_init', 'abs_val_mean_kink + linearity']\n",
      "Working on fold 1\n",
      "Working on fold 2\n",
      "Working on fold 3\n",
      "Working on fold 4\n",
      "Working on fold 5\n",
      "\n",
      "removing these features: \n",
      "['abs_val_sum_kink + init z', 'sum_kink + timestep_init', 'abs_val_sum_kink - avg_ori', 'avg_ori - abs_val_sum_kink', 'abs_val_sum_kink - std_kink', 'std_kink - abs_val_sum_kink', 'avg_ori * timestep_init', 'max_kink / abs_val_mean_kink', 'std_kink + var_kink', 'init x + timestep_init', 'init x + max_prop_speed', 'init z + max_prop_speed', 'max_prop_speed (unchanged)', 'std_thickness * timestep_init', 'angle_btw + avg_prop_speed', 'max_prop_speed + std_kink', 'abs_val_sum_kink / timestep_init', 'abs_val_sum_kink - sum_kink', 'sum_kink - abs_val_sum_kink', 'abs_val_mean_kink + avg_ori', 'sum_kink * var_thickness', 'abs_val_sum_kink + std_kink', 'max_prop_speed + sum_kink', 'dist btw frts + thickness_at_init', 'init y + timestep_init', 'init z * timestep_init', 'linearity - abs_val_sum_kink', 'abs_val_sum_kink - linearity', 'mean_kink * timestep_init', 'abs_val_mean_kink / timestep_init', 'mean thickness + std_kink', 'avg_ori + linearity', 'linearity + timestep_init', 'abs_val_sum_kink - init z', 'init z - abs_val_sum_kink', 'abs_val_sum_kink / mean thickness', 'dist btw frts + max thickness', 'avg_ori + max_prop_speed', 'std_thickness * sum_kink', 'median_thickness - abs_val_sum_kink', 'timestep_init (unchanged)', 'abs_val_sum_kink + init y', 'timestep_init^3', 'mean_kink + var_thickness', 'init y * max_prop_speed']\n",
      "Working on fold 1\n",
      "Working on fold 2\n",
      "Working on fold 3\n",
      "Working on fold 4\n",
      "Working on fold 5\n",
      "\n",
      "removing these features: \n",
      "['timestep_init^2', 'linearity + median_kink', 'abs_val_sum_kink - timestep_init', 'timestep_init - abs_val_sum_kink', 'max_kink * var_thickness', 'std_kink + timestep_init', 'max thickness + var_kink', 'std_kink (unchanged)', 'max_kink * mean thickness', 'sqrt(var_kink)', 'abs_val_sum_kink - init y', 'abs_val_sum_kink * sum_kink', 'dist btw frts + mean thickness', 'abs_val_mean_kink - std_kink', 'abs_val_sum_kink / max thickness', 'abs_val_mean_kink + timestep_init', 'std_kink - abs_val_mean_kink', 'median_thickness + timestep_init', 'init y - abs_val_sum_kink', 'dist btw frts + linearity', 'max_kink + max_prop_speed', 'max thickness + max_prop_speed', 'abs_val_sum_kink + mean_kink', 'angle_btw * std_kink', 'abs_val_sum_kink + avg_prop_speed', 'crack len + linearity', 'abs_val_sum_kink + sum_kink', 'abs_val_mean_kink ^ -max_prop_speed', 'init y / abs_val_sum_kink', 'crack len + mean thickness', 'angle_btw + max thickness', 'max thickness * std_kink', 'init x * timestep_init', 'linearity / abs_val_sum_kink', 'angle_btw * median_kink', 'exp(dist btw frts)', 'crack len + init y', 'abs_val_sum_kink + dist btw frts', 'std_thickness / abs_val_sum_kink', 'angle_btw + var_kink', 'max_kink - abs_val_mean_kink']\n",
      "Working on fold 1\n",
      "Working on fold 2\n",
      "Working on fold 3\n",
      "Working on fold 4\n",
      "Working on fold 5\n",
      "\n",
      "removing these features: \n",
      "['init y + var_thickness', 'init y * timestep_init', 'angle_btw * init x', 'sqrt(timestep_init)', 'thickness_at_init * timestep_init', 'abs_val_sum_kink / median_thickness', 'abs_val_sum_kink / avg_ori', 'abs_val_sum_kink - abs_val_mean_kink', 'abs_val_mean_kink - abs_val_sum_kink', 'abs_val_mean_kink + median_kink', 'abs_val_mean_kink - var_thickness', 'abs_val_sum_kink * init y', 'var_thickness - abs_val_mean_kink', 'mean thickness * timestep_init', 'angle_btw - abs_val_mean_kink', 'max_prop_speed * median_kink', 'angle_btw + init y', 'abs_val_mean_kink - angle_btw', 'median_thickness * timestep_init', 'max_kink + std_thickness', 'var_thickness / abs_val_mean_kink', 'timestep_init / abs_val_sum_kink', 'max thickness * timestep_init', 'thickness_at_init + timestep_init', 'sum_kink * timestep_init', 'median_kink + sum_kink', 'exp(angle_btw)', 'abs_val_mean_kink / dist btw frts', 'angle_btw * std_thickness', 'dist btw frts + mean_kink', 'abs_val_mean_kink / max_prop_speed', 'median_kink (unchanged)', 'var_kink (unchanged)', 'abs_val_sum_kink + var_thickness', 'std_thickness^2', 'abs_val_sum_kink * init z']\n",
      "Working on fold 1\n",
      "Working on fold 2\n",
      "Working on fold 3\n",
      "Working on fold 4\n",
      "Working on fold 5\n",
      "\n",
      "removing these features: \n",
      "['median_kink + timestep_init', 'avg_ori + dist btw frts', 'avg_prop_speed + dist btw frts', 'abs_val_mean_kink * angle_btw', 'abs_val_sum_kink * mean_kink', 'abs_val_mean_kink ^ -abs_val_sum_kink', 'abs_val_sum_kink + median_thickness', 'std_kink^2', 'abs_val_sum_kink - var_kink', 'max thickness * mean_kink', 'abs_val_sum_kink / init y', 'abs_val_sum_kink - median_kink', 'abs_val_mean_kink ^ -std_kink', 'median_kink - abs_val_sum_kink', 'linearity * timestep_init', 'var_kink - abs_val_sum_kink', 'std_kink + thickness_at_init', 'crack len + max_kink', 'max thickness + max_kink', 'crack len + dist btw frts', 'max_kink + std_kink', 'max_prop_speed + std_thickness', 'sum_kink * var_kink', 'angle_btw * init z', 'init y + std_thickness', 'angle_btw + linearity', 'var_thickness - abs_val_sum_kink', 'mean_kink + std_thickness', 'abs_val_sum_kink * std_thickness', 'abs_val_sum_kink - var_thickness', 'abs_val_mean_kink - std_thickness', 'init y + std_kink', 'angle_btw * sum_kink']\n",
      "Working on fold 1\n",
      "Working on fold 2\n",
      "Working on fold 3\n",
      "Working on fold 4\n",
      "Working on fold 5\n",
      "\n",
      "removing these features: \n",
      "['max thickness * max_kink', 'abs_val_sum_kink + thickness_at_init', 'init x - abs_val_mean_kink', 'abs_val_mean_kink ^ -var_kink', 'abs_val_mean_kink - init x', 'init y + max_kink', 'abs_val_sum_kink * angle_btw', 'angle_btw + var_thickness', 'median_thickness * std_kink', 'sqrt(avg_ori)', 'median_kink * sum_kink', 'abs_val_mean_kink * linearity', 'abs_val_sum_kink * avg_ori', 'var_kink / abs_val_mean_kink', 'max_kink + timestep_init', 'max_prop_speed + var_thickness', 'angle_btw + max_prop_speed', 'angle_btw + max_kink', 'max_prop_speed * thickness_at_init', 'var_thickness (unchanged)', 'abs_val_mean_kink - max thickness', 'max thickness - abs_val_mean_kink', 'abs_val_sum_kink / std_thickness', 'avg_ori + timestep_init', 'max_prop_speed * sum_kink', 'abs_val_mean_kink * abs_val_sum_kink', 'angle_btw * linearity', 'abs_val_mean_kink - max_kink', 'init x * max_prop_speed', 'max_kink / abs_val_sum_kink']\n",
      "Working on fold 1\n",
      "Working on fold 2\n",
      "Working on fold 3\n",
      "Working on fold 4\n",
      "Working on fold 5\n",
      "\n",
      "removing these features: \n",
      "['std_thickness / abs_val_mean_kink', 'std_kink / abs_val_mean_kink', 'thickness_at_init / abs_val_sum_kink', 'avg_ori * linearity', 'avg_ori * max_prop_speed', 'init y * max thickness', 'std_kink * thickness_at_init', 'init y + var_kink', 'abs_val_sum_kink * init x', 'abs_val_mean_kink / var_kink', 'abs_val_mean_kink * avg_ori', 'abs_val_sum_kink * median_kink', 'avg_ori * crack len', 'dist btw frts + init y', 'exp(crack len)', 'init y * max_kink', 'crack len + thickness_at_init', 'abs_val_sum_kink + linearity', 'abs_val_sum_kink * thickness_at_init', 'max_prop_speed * median_thickness', 'mean_kink * std_kink', 'max_prop_speed + mean_kink', 'mean thickness - abs_val_sum_kink', 'angle_btw + mean thickness', 'max_prop_speed / abs_val_mean_kink', 'abs_val_mean_kink / max_kink', 'std_thickness * var_kink']\n",
      "Working on fold 1\n",
      "Working on fold 2\n",
      "Working on fold 3\n",
      "Working on fold 4\n",
      "Working on fold 5\n",
      "\n",
      "removing these features: \n",
      "['dist btw frts + max_prop_speed', 'angle_btw + init z', 'avg_ori * dist btw frts', 'dist btw frts + median_thickness', 'max_prop_speed + var_kink', 'abs_val_mean_kink * max_prop_speed', 'mean_kink + std_kink', 'angle_btw + std_kink', 'avg_ori (unchanged)', 'max_prop_speed - abs_val_mean_kink', 'abs_val_mean_kink - max_prop_speed', 'angle_btw * var_kink', 'crack len * median_kink', 'max_kink + var_thickness', 'crack len + median_kink', 'mean_kink * var_kink', 'timestep_init + var_thickness', 'init x + std_kink', 'abs_val_sum_kink - mean thickness', 'sum_kink / abs_val_sum_kink', 'dist btw frts + std_kink', 'init z * median_kink', 'angle_btw + median_thickness', 'sqrt(std_thickness)']\n",
      "Working on fold 1\n",
      "Working on fold 2\n",
      "Working on fold 3\n",
      "Working on fold 4\n",
      "Working on fold 5\n",
      "\n",
      "removing these features: \n",
      "['mean_kink / abs_val_sum_kink', 'std_kink * sum_kink', 'abs_val_sum_kink / median_kink', 'angle_btw * init y', 'init y - abs_val_mean_kink', 'abs_val_mean_kink - init y', 'var_kink - abs_val_mean_kink', 'mean_kink + var_kink', 'abs_val_mean_kink - var_kink', 'sqrt(max thickness)', 'dist btw frts + init z', 'abs_val_sum_kink * mean thickness', 'init y + max_prop_speed', 'crack len + std_kink', 'avg_prop_speed + std_kink', 'avg_ori * median_kink', 'init y * var_thickness', 'init y * std_thickness', 'abs_val_sum_kink * max_prop_speed', 'max_prop_speed * mean thickness', 'max_kink * sum_kink']\n",
      "Working on fold 1\n",
      "Working on fold 2\n",
      "Working on fold 3\n",
      "Working on fold 4\n",
      "Working on fold 5\n",
      "\n",
      "removing these features: \n",
      "['mean_kink * std_thickness', 'abs_val_sum_kink + angle_btw', 'max thickness * max_prop_speed', 'angle_btw + sum_kink', 'std_thickness + var_thickness', 'abs_val_sum_kink - dist btw frts', 'dist btw frts - abs_val_sum_kink', 'avg_ori + median_kink', 'linearity * var_kink', 'angle_btw * max_kink', 'avg_prop_speed + std_thickness', 'std_thickness + sum_kink', 'angle_btw + init x', 'std_kink + sum_kink', 'max_kink * mean_kink', 'init y * std_kink', 'sqrt(std_kink)', 'init z * max_kink', 'init y * var_kink']\n",
      "Working on fold 1\n",
      "Working on fold 2\n",
      "Working on fold 3\n",
      "Working on fold 4\n",
      "Working on fold 5\n",
      "\n",
      "removing these features: \n",
      "['avg_prop_speed + crack len', 'crack len + init z', 'dist btw frts + var_kink', 'angle_btw * median_thickness', 'init z / abs_val_sum_kink', 'max_kink * max_prop_speed', 'angle_btw * max_prop_speed', 'crack len - abs_val_sum_kink', 'abs_val_mean_kink + dist btw frts', 'abs_val_sum_kink - crack len', 'max_prop_speed + median_thickness', 'std_kink * var_thickness', 'std_kink * std_thickness', 'var_kink + var_thickness', 'abs_val_sum_kink * linearity', 'angle_btw * max thickness', 'angle_btw * var_thickness']\n",
      "Working on fold 1\n",
      "Working on fold 2\n",
      "Working on fold 3\n",
      "Working on fold 4\n",
      "Working on fold 5\n",
      "\n",
      "removing these features: \n",
      "['angle_btw * thickness_at_init', 'crack len + median_thickness', 'angle_btw * mean_kink', 'angle_btw + crack len', 'max thickness / abs_val_sum_kink', 'linearity + max_prop_speed', 'init y + max thickness', 'init z * max_prop_speed', 'median_thickness / abs_val_sum_kink', 'abs_val_sum_kink / init z', 'init x * std_kink', 'sqrt(crack len)', 'abs_val_sum_kink * max thickness', 'linearity * median_kink', 'crack len * max_prop_speed', 'std_kink + var_thickness']\n",
      "Working on fold 1\n",
      "Working on fold 2\n",
      "Working on fold 3\n",
      "Working on fold 4\n",
      "Working on fold 5\n",
      "\n",
      "removing these features: \n",
      "['mean thickness / abs_val_sum_kink', 'init x * var_kink', 'init x / abs_val_sum_kink', 'angle_btw + median_kink', 'dist btw frts + sum_kink', 'init z * std_kink', 'dist btw frts * mean thickness', 'abs_val_mean_kink + crack len', 'abs_val_sum_kink + mean thickness', 'abs_val_mean_kink + abs_val_sum_kink', 'abs_val_sum_kink * max_kink', 'dist btw frts * thickness_at_init', 'max_prop_speed * mean_kink', 'linearity * max_kink']\n",
      "Working on fold 1\n",
      "Working on fold 2\n",
      "Working on fold 3\n",
      "Working on fold 4\n",
      "Working on fold 5\n",
      "\n",
      "removing these features: \n",
      "['crack len * thickness_at_init', 'abs_val_mean_kink + max_prop_speed', 'angle_btw (unchanged)', 'crack len * mean thickness', 'abs_val_sum_kink * std_kink', 'abs_val_sum_kink^3', 'mean thickness * std_kink', 'max_prop_speed * std_thickness', 'avg_ori * init z', 'sqrt(dist btw frts)', 'dist btw frts * median_thickness', 'crack len * var_kink', 'sqrt(abs_val_sum_kink)']\n",
      "Working on fold 1\n",
      "Working on fold 2\n",
      "Working on fold 3\n",
      "Working on fold 4\n",
      "Working on fold 5\n",
      "\n",
      "removing these features: \n",
      "['avg_ori + crack len', 'crack len * median_thickness', 'abs_val_sum_kink * var_kink', 'max_prop_speed * var_thickness', 'max_prop_speed^3', 'abs_val_sum_kink - mean_kink', 'abs_val_mean_kink - dist btw frts', 'abs_val_sum_kink / max_kink', 'dist btw frts - abs_val_mean_kink', 'mean_kink - abs_val_sum_kink', 'median_kink / abs_val_sum_kink']\n",
      "Working on fold 1\n",
      "Working on fold 2\n",
      "Working on fold 3\n",
      "Working on fold 4\n",
      "Working on fold 5\n",
      "\n",
      "removing these features: \n",
      "['sqrt(median_kink)', 'dist btw frts * median_kink', 'abs_val_sum_kink * median_thickness', 'max thickness + mean_kink', 'abs_val_sum_kink^2', 'dist btw frts * max_prop_speed', 'angle_btw^3', 'crack len^3', 'max_prop_speed^2', 'dist btw frts + init x']\n",
      "Working on fold 1\n",
      "Working on fold 2\n",
      "Working on fold 3\n",
      "Working on fold 4\n",
      "Working on fold 5\n",
      "\n",
      "removing these features: \n",
      "['crack len + mean_kink', 'crack len + max_prop_speed', 'abs_val_sum_kink - median_thickness', 'std_thickness - abs_val_mean_kink', 'angle_btw * mean thickness', 'abs_val_sum_kink + init x', 'dist btw frts^3', 'abs_val_sum_kink * dist btw frts', 'abs_val_mean_kink - crack len']\n",
      "Working on fold 1\n",
      "Working on fold 2\n",
      "Working on fold 3\n",
      "Working on fold 4\n",
      "Working on fold 5\n",
      "\n",
      "removing these features: \n",
      "['crack len + sum_kink', 'crack len - abs_val_mean_kink', 'abs_val_sum_kink * crack len', 'dist btw frts * var_kink', 'mean thickness * var_kink', 'var_kink * var_thickness', 'crack len + std_thickness', 'crack len * max_kink']\n",
      "Working on fold 1\n",
      "Working on fold 2\n",
      "Working on fold 3\n",
      "Working on fold 4\n",
      "Working on fold 5\n",
      "\n",
      "removing these features: \n",
      "['abs_val_sum_kink * var_thickness', 'init x + max_kink', 'max_prop_speed * std_kink', 'dist btw frts * max_kink', 'abs_val_mean_kink / abs_val_sum_kink', 'dist btw frts + max_kink', 'max_kink * std_thickness', 'dist btw frts * std_kink']\n",
      "Working on fold 1\n",
      "Working on fold 2\n",
      "Working on fold 3\n",
      "Working on fold 4\n",
      "Working on fold 5\n",
      "\n",
      "removing these features: \n",
      "['crack len + init x', 'max_prop_speed * var_kink', 'max_prop_speed + mean thickness', 'sqrt(max_kink)', 'crack len * std_kink', 'crack len * init y', 'crack len + max thickness']\n",
      "Working on fold 1\n",
      "Working on fold 2\n",
      "Working on fold 3\n",
      "Working on fold 4\n",
      "Working on fold 5\n",
      "\n",
      "removing these features: \n",
      "['dist btw frts * linearity', 'crack len * linearity', 'crack len * std_thickness', 'crack len * sum_kink', 'std_kink + std_thickness', 'dist btw frts * init z']\n",
      "Working on fold 1\n",
      "Working on fold 2\n",
      "Working on fold 3\n",
      "Working on fold 4\n",
      "Working on fold 5\n",
      "\n",
      "removing these features: \n",
      "['max thickness + std_kink', 'crack len * init z', 'crack len * var_thickness', 'dist btw frts * mean_kink', 'linearity * std_kink', 'angle_btw * crack len']\n",
      "Working on fold 1\n",
      "Working on fold 2\n",
      "Working on fold 3\n",
      "Working on fold 4\n",
      "Working on fold 5\n",
      "\n",
      "removing these features: \n",
      "['angle_btw * dist btw frts', 'crack len * mean_kink', 'crack len * max thickness', 'crack len * init x', 'std_thickness (unchanged)']\n",
      "Working on fold 1\n",
      "Working on fold 2\n",
      "Working on fold 3\n",
      "Working on fold 4\n",
      "Working on fold 5\n",
      "\n",
      "removing these features: \n",
      "['dist btw frts * init x', 'dist btw frts * max thickness', 'dist btw frts * var_thickness', 'max_kink * std_kink']\n",
      "Working on fold 1\n",
      "Working on fold 2\n",
      "Working on fold 3\n",
      "Working on fold 4\n",
      "Working on fold 5\n",
      "\n",
      "removing these features: \n",
      "['dist btw frts * std_thickness', 'max thickness^2', 'max thickness * var_thickness', 'abs_val_mean_kink * crack len']\n",
      "Working on fold 1\n",
      "Working on fold 2\n",
      "Working on fold 3\n",
      "Working on fold 4\n",
      "Working on fold 5\n",
      "\n",
      "removing these features: \n",
      "['crack len + var_thickness', 'max thickness * std_thickness', 'dist btw frts / abs_val_mean_kink', 'crack len (unchanged)']\n",
      "Working on fold 1\n",
      "Working on fold 2\n",
      "Working on fold 3\n",
      "Working on fold 4\n",
      "Working on fold 5\n",
      "\n",
      "removing these features: \n",
      "['dist btw frts + var_thickness', 'crack len / abs_val_mean_kink', 'max thickness^3']\n",
      "Working on fold 1\n",
      "Working on fold 2\n",
      "Working on fold 3\n",
      "Working on fold 4\n",
      "Working on fold 5\n",
      "\n",
      "removing these features: \n",
      "['abs_val_sum_kink + crack len', 'std_thickness + var_kink', 'angle_btw / abs_val_mean_kink']\n",
      "Working on fold 1\n",
      "Working on fold 2\n",
      "Working on fold 3\n",
      "Working on fold 4\n",
      "Working on fold 5\n",
      "\n",
      "removing these features: \n",
      "['crack len^2', 'dist btw frts^2', 'angle_btw + std_thickness']\n",
      "Working on fold 1\n",
      "Working on fold 2\n",
      "Working on fold 3\n",
      "Working on fold 4\n",
      "Working on fold 5\n",
      "\n",
      "removing these features: \n",
      "['crack len * dist btw frts']\n",
      "Working on fold 1\n",
      "Working on fold 2\n",
      "Working on fold 3\n",
      "Working on fold 4\n",
      "Working on fold 5\n",
      "\n",
      "removing these features: \n",
      "['angle_btw + dist btw frts']\n",
      "Working on fold 1\n",
      "Working on fold 2\n",
      "Working on fold 3\n",
      "Working on fold 4\n",
      "Working on fold 5\n",
      "\n",
      "removing these features: \n",
      "['angle_btw^2']\n",
      "Working on fold 1\n",
      "Working on fold 2\n",
      "Working on fold 3\n",
      "Working on fold 4\n",
      "Working on fold 5\n",
      "\n",
      "removing these features: \n",
      "['sqrt(angle_btw)']\n",
      "Working on fold 1\n",
      "Working on fold 2\n",
      "Working on fold 3\n",
      "Working on fold 4\n",
      "Working on fold 5\n",
      "\n",
      "removing these features: \n",
      "['abs_val_sum_kink + std_thickness']\n",
      "Working on fold 1\n",
      "Working on fold 2\n",
      "Working on fold 3\n",
      "Working on fold 4\n",
      "Working on fold 5\n",
      "\n",
      "removing these features: \n",
      "['dist btw frts + std_thickness']\n",
      "Working on fold 1\n",
      "Working on fold 2\n",
      "Working on fold 3\n",
      "Working on fold 4\n",
      "Working on fold 5\n",
      "\n",
      "removing these features: \n",
      "['dist btw frts (unchanged)']\n",
      "Working on fold 1\n",
      "Working on fold 2\n",
      "Working on fold 3\n",
      "Working on fold 4\n",
      "Working on fold 5\n",
      "\n",
      "removing these features: \n",
      "['abs_val_mean_kink * dist btw frts']\n",
      "Working on fold 1\n",
      "Working on fold 2\n",
      "Working on fold 3\n",
      "Working on fold 4\n",
      "Working on fold 5\n",
      "\n",
      "removing these features: \n",
      "['crack len + var_kink']\n",
      "Working on fold 1\n",
      "Working on fold 2\n",
      "Working on fold 3\n",
      "Working on fold 4\n",
      "Working on fold 5\n",
      "\n",
      "removing these features: \n",
      "['abs_val_sum_kink / abs_val_mean_kink']\n",
      "Working on fold 1\n",
      "Working on fold 2\n",
      "Working on fold 3\n",
      "Working on fold 4\n",
      "Working on fold 5\n",
      "\n",
      "removing these features: \n",
      "['max thickness + std_thickness']\n",
      "Working on fold 1\n",
      "Working on fold 2\n",
      "Working on fold 3\n",
      "Working on fold 4\n",
      "Working on fold 5\n",
      "\n",
      "removing these features: \n",
      "['sqrt(var_thickness)']\n",
      "Working on fold 1\n",
      "Working on fold 2\n",
      "Working on fold 3\n",
      "Working on fold 4\n",
      "Working on fold 5\n",
      "\n",
      "removing these features: \n",
      "['max thickness (unchanged)']\n",
      "Working on fold 1\n",
      "Working on fold 2\n",
      "Working on fold 3\n",
      "Working on fold 4\n",
      "Working on fold 5\n",
      "\n",
      "removing these features: \n",
      "['abs_val_sum_kink + max thickness']\n",
      "Working on fold 1\n",
      "Working on fold 2\n",
      "Working on fold 3\n",
      "Working on fold 4\n",
      "Working on fold 5\n",
      "\n",
      "removing these features: \n",
      "['mean_kink * var_thickness']\n",
      "Working on fold 1\n",
      "Working on fold 2\n",
      "Working on fold 3\n",
      "Working on fold 4\n",
      "Working on fold 5\n",
      "\n",
      "removing these features: \n",
      "['max thickness * var_kink']\n",
      "\n",
      "...next model type... \n",
      "\n",
      "$$$$$$$$$$ NOW FOR PREDICTING height WITH RF $$$$$$$$$$\n",
      "\n",
      "Working on fold 1\n"
     ]
    },
    {
     "name": "stderr",
     "output_type": "stream",
     "text": [
      "/Users/jakehirst/miniconda3/envs/tfp_env/lib/python3.10/site-packages/sklearn/base.py:1151: DataConversionWarning: A column-vector y was passed when a 1d array was expected. Please change the shape of y to (n_samples,), for example using ravel().\n",
      "  return fit_method(estimator, *args, **kwargs)\n"
     ]
    },
    {
     "name": "stdout",
     "output_type": "stream",
     "text": [
      "Working on fold 2\n"
     ]
    },
    {
     "name": "stderr",
     "output_type": "stream",
     "text": [
      "/Users/jakehirst/miniconda3/envs/tfp_env/lib/python3.10/site-packages/sklearn/base.py:1151: DataConversionWarning: A column-vector y was passed when a 1d array was expected. Please change the shape of y to (n_samples,), for example using ravel().\n",
      "  return fit_method(estimator, *args, **kwargs)\n"
     ]
    },
    {
     "name": "stdout",
     "output_type": "stream",
     "text": [
      "Working on fold 3\n"
     ]
    },
    {
     "name": "stderr",
     "output_type": "stream",
     "text": [
      "/Users/jakehirst/miniconda3/envs/tfp_env/lib/python3.10/site-packages/sklearn/base.py:1151: DataConversionWarning: A column-vector y was passed when a 1d array was expected. Please change the shape of y to (n_samples,), for example using ravel().\n",
      "  return fit_method(estimator, *args, **kwargs)\n"
     ]
    },
    {
     "name": "stdout",
     "output_type": "stream",
     "text": [
      "Working on fold 4\n"
     ]
    },
    {
     "name": "stderr",
     "output_type": "stream",
     "text": [
      "/Users/jakehirst/miniconda3/envs/tfp_env/lib/python3.10/site-packages/sklearn/base.py:1151: DataConversionWarning: A column-vector y was passed when a 1d array was expected. Please change the shape of y to (n_samples,), for example using ravel().\n",
      "  return fit_method(estimator, *args, **kwargs)\n"
     ]
    },
    {
     "name": "stdout",
     "output_type": "stream",
     "text": [
      "Working on fold 5\n"
     ]
    },
    {
     "name": "stderr",
     "output_type": "stream",
     "text": [
      "/Users/jakehirst/miniconda3/envs/tfp_env/lib/python3.10/site-packages/sklearn/base.py:1151: DataConversionWarning: A column-vector y was passed when a 1d array was expected. Please change the shape of y to (n_samples,), for example using ravel().\n",
      "  return fit_method(estimator, *args, **kwargs)\n"
     ]
    },
    {
     "name": "stdout",
     "output_type": "stream",
     "text": [
      "\n",
      "removing these features: \n",
      "['timestep_init ^ -avg_ori', 'timestep_init ^ -abs_val_mean_kink', 'var_kink ^ -avg_ori', 'std_kink ^ -avg_ori', 'max thickness^2', 'median_kink + sum_kink', 'linearity * max_kink', 'mean thickness + std_kink', 'sum_kink * var_thickness', 'mean_kink + var_thickness', 'std_kink * timestep_init', 'init y + var_thickness', 'sqrt(max thickness)', 'max thickness^3', 'max thickness * var_thickness', 'std_kink + timestep_init', 'avg_ori + max_prop_speed', 'std_thickness + sum_kink', 'abs_val_mean_kink + avg_ori', 'angle_btw + linearity', 'abs_val_mean_kink * avg_ori', 'init z * max_kink', 'avg_ori (unchanged)', 'abs_val_mean_kink ^ -std_kink', 'max_kink * mean thickness', 'max thickness (unchanged)', 'std_kink + thickness_at_init', 'avg_prop_speed + max_kink', 'median_kink (unchanged)', 'avg_prop_speed + std_thickness', 'init x - abs_val_mean_kink', 'sqrt(std_thickness)', 'var_thickness (unchanged)', 'median_kink * sum_kink', 'abs_val_mean_kink - init x', 'timestep_init + var_thickness', 'init y * mean_kink', 'sqrt(avg_ori)', 'std_thickness - abs_val_mean_kink', 'init y - abs_val_mean_kink', 'avg_ori + median_kink', 'init y * std_thickness', 'var_thickness - abs_val_mean_kink', 'angle_btw + median_kink', 'avg_ori * median_kink', 'abs_val_mean_kink - var_thickness', 'init x + std_kink', 'abs_val_mean_kink + linearity', 'std_thickness * sum_kink', 'linearity + max_prop_speed']\n",
      "Working on fold 1\n"
     ]
    },
    {
     "name": "stderr",
     "output_type": "stream",
     "text": [
      "/Users/jakehirst/miniconda3/envs/tfp_env/lib/python3.10/site-packages/sklearn/base.py:1151: DataConversionWarning: A column-vector y was passed when a 1d array was expected. Please change the shape of y to (n_samples,), for example using ravel().\n",
      "  return fit_method(estimator, *args, **kwargs)\n"
     ]
    },
    {
     "name": "stdout",
     "output_type": "stream",
     "text": [
      "Working on fold 2\n"
     ]
    },
    {
     "name": "stderr",
     "output_type": "stream",
     "text": [
      "/Users/jakehirst/miniconda3/envs/tfp_env/lib/python3.10/site-packages/sklearn/base.py:1151: DataConversionWarning: A column-vector y was passed when a 1d array was expected. Please change the shape of y to (n_samples,), for example using ravel().\n",
      "  return fit_method(estimator, *args, **kwargs)\n"
     ]
    },
    {
     "name": "stdout",
     "output_type": "stream",
     "text": [
      "Working on fold 3\n"
     ]
    },
    {
     "name": "stderr",
     "output_type": "stream",
     "text": [
      "/Users/jakehirst/miniconda3/envs/tfp_env/lib/python3.10/site-packages/sklearn/base.py:1151: DataConversionWarning: A column-vector y was passed when a 1d array was expected. Please change the shape of y to (n_samples,), for example using ravel().\n",
      "  return fit_method(estimator, *args, **kwargs)\n"
     ]
    },
    {
     "name": "stdout",
     "output_type": "stream",
     "text": [
      "Working on fold 4\n"
     ]
    },
    {
     "name": "stderr",
     "output_type": "stream",
     "text": [
      "/Users/jakehirst/miniconda3/envs/tfp_env/lib/python3.10/site-packages/sklearn/base.py:1151: DataConversionWarning: A column-vector y was passed when a 1d array was expected. Please change the shape of y to (n_samples,), for example using ravel().\n",
      "  return fit_method(estimator, *args, **kwargs)\n"
     ]
    },
    {
     "name": "stdout",
     "output_type": "stream",
     "text": [
      "Working on fold 5\n"
     ]
    },
    {
     "name": "stderr",
     "output_type": "stream",
     "text": [
      "/Users/jakehirst/miniconda3/envs/tfp_env/lib/python3.10/site-packages/sklearn/base.py:1151: DataConversionWarning: A column-vector y was passed when a 1d array was expected. Please change the shape of y to (n_samples,), for example using ravel().\n",
      "  return fit_method(estimator, *args, **kwargs)\n"
     ]
    },
    {
     "name": "stdout",
     "output_type": "stream",
     "text": [
      "\n",
      "removing these features: \n",
      "['max thickness + var_kink', 'abs_val_mean_kink - init y', 'std_thickness^2', 'sqrt(median_kink)', 'mean_kink + std_thickness', 'abs_val_mean_kink + max_prop_speed', 'init y + std_thickness', 'max thickness + var_thickness', 'angle_btw + init z', 'avg_ori * init z', 'std_thickness (unchanged)', 'max_kink + var_thickness', 'abs_val_mean_kink + angle_btw', 'std_kink * thickness_at_init', 'abs_val_mean_kink + abs_val_sum_kink', 'init z * median_kink', 'max thickness * std_thickness', 'init y * var_thickness', 'std_thickness + var_thickness', 'var_thickness / abs_val_mean_kink', 'angle_btw * thickness_at_init', 'sqrt(var_thickness)', 'init y * max thickness', 'abs_val_mean_kink + median_kink', 'init y + var_kink', 'angle_btw * median_kink', 'abs_val_mean_kink ^ -var_kink', 'init x + max_kink', 'mean_kink * var_thickness', 'max thickness + std_thickness', 'avg_ori * dist btw frts', 'abs_val_mean_kink * linearity', 'std_thickness + var_kink', 'max_kink + std_thickness', 'angle_btw * median_thickness', 'sqrt(max_kink)', 'std_kink + sum_kink', 'angle_btw + avg_ori', 'abs_val_mean_kink - timestep_init', 'median_thickness * std_kink', 'abs_val_mean_kink - std_thickness', 'std_thickness / abs_val_mean_kink', 'max_kink * sum_kink', 'mean_kink - abs_val_sum_kink', 'max_kink (unchanged)']\n",
      "Working on fold 1\n"
     ]
    },
    {
     "name": "stderr",
     "output_type": "stream",
     "text": [
      "/Users/jakehirst/miniconda3/envs/tfp_env/lib/python3.10/site-packages/sklearn/base.py:1151: DataConversionWarning: A column-vector y was passed when a 1d array was expected. Please change the shape of y to (n_samples,), for example using ravel().\n",
      "  return fit_method(estimator, *args, **kwargs)\n"
     ]
    },
    {
     "name": "stdout",
     "output_type": "stream",
     "text": [
      "Working on fold 2\n"
     ]
    },
    {
     "name": "stderr",
     "output_type": "stream",
     "text": [
      "/Users/jakehirst/miniconda3/envs/tfp_env/lib/python3.10/site-packages/sklearn/base.py:1151: DataConversionWarning: A column-vector y was passed when a 1d array was expected. Please change the shape of y to (n_samples,), for example using ravel().\n",
      "  return fit_method(estimator, *args, **kwargs)\n"
     ]
    },
    {
     "name": "stdout",
     "output_type": "stream",
     "text": [
      "Working on fold 3\n"
     ]
    },
    {
     "name": "stderr",
     "output_type": "stream",
     "text": [
      "/Users/jakehirst/miniconda3/envs/tfp_env/lib/python3.10/site-packages/sklearn/base.py:1151: DataConversionWarning: A column-vector y was passed when a 1d array was expected. Please change the shape of y to (n_samples,), for example using ravel().\n",
      "  return fit_method(estimator, *args, **kwargs)\n"
     ]
    },
    {
     "name": "stdout",
     "output_type": "stream",
     "text": [
      "Working on fold 4\n"
     ]
    },
    {
     "name": "stderr",
     "output_type": "stream",
     "text": [
      "/Users/jakehirst/miniconda3/envs/tfp_env/lib/python3.10/site-packages/sklearn/base.py:1151: DataConversionWarning: A column-vector y was passed when a 1d array was expected. Please change the shape of y to (n_samples,), for example using ravel().\n",
      "  return fit_method(estimator, *args, **kwargs)\n"
     ]
    },
    {
     "name": "stdout",
     "output_type": "stream",
     "text": [
      "Working on fold 5\n"
     ]
    },
    {
     "name": "stderr",
     "output_type": "stream",
     "text": [
      "/Users/jakehirst/miniconda3/envs/tfp_env/lib/python3.10/site-packages/sklearn/base.py:1151: DataConversionWarning: A column-vector y was passed when a 1d array was expected. Please change the shape of y to (n_samples,), for example using ravel().\n",
      "  return fit_method(estimator, *args, **kwargs)\n"
     ]
    },
    {
     "name": "stdout",
     "output_type": "stream",
     "text": [
      "\n",
      "removing these features: \n",
      "['init x * max_kink', 'init y + max thickness', 'angle_btw / abs_val_mean_kink', 'var_kink + var_thickness', 'std_thickness * timestep_init', 'angle_btw * mean thickness', 'abs_val_mean_kink * angle_btw', 'timestep_init - abs_val_mean_kink', 'angle_btw * init z', 'linearity * median_kink', 'init z + max_prop_speed', 'abs_val_sum_kink - mean_kink', 'init x * var_kink', 'init y + max_kink', 'abs_val_mean_kink - var_kink', 'linearity * std_kink', 'init y + std_kink', 'abs_val_sum_kink * avg_ori', 'init x * std_kink', 'thickness_at_init - abs_val_sum_kink', 'abs_val_mean_kink - max thickness', 'linearity + median_kink', 'max_kink * var_thickness', 'angle_btw * linearity', 'init z * std_kink', 'abs_val_sum_kink - thickness_at_init', 'std_kink + var_thickness', 'avg_ori * max_prop_speed', 'mean_kink + var_kink', 'max_kink + var_kink', 'init y * max_kink', 'max thickness + mean_kink', 'mean_kink * std_thickness', 'angle_btw + std_thickness', 'avg_prop_speed / abs_val_sum_kink', 'max thickness * mean_kink', 'avg_ori * crack len', 'angle_btw + thickness_at_init', 'angle_btw + avg_prop_speed', 'init x - abs_val_sum_kink', 'mean thickness * std_kink']\n",
      "Working on fold 1\n"
     ]
    },
    {
     "name": "stderr",
     "output_type": "stream",
     "text": [
      "/Users/jakehirst/miniconda3/envs/tfp_env/lib/python3.10/site-packages/sklearn/base.py:1151: DataConversionWarning: A column-vector y was passed when a 1d array was expected. Please change the shape of y to (n_samples,), for example using ravel().\n",
      "  return fit_method(estimator, *args, **kwargs)\n"
     ]
    },
    {
     "name": "stdout",
     "output_type": "stream",
     "text": [
      "Working on fold 2\n"
     ]
    },
    {
     "name": "stderr",
     "output_type": "stream",
     "text": [
      "/Users/jakehirst/miniconda3/envs/tfp_env/lib/python3.10/site-packages/sklearn/base.py:1151: DataConversionWarning: A column-vector y was passed when a 1d array was expected. Please change the shape of y to (n_samples,), for example using ravel().\n",
      "  return fit_method(estimator, *args, **kwargs)\n"
     ]
    },
    {
     "name": "stdout",
     "output_type": "stream",
     "text": [
      "Working on fold 3\n"
     ]
    },
    {
     "name": "stderr",
     "output_type": "stream",
     "text": [
      "/Users/jakehirst/miniconda3/envs/tfp_env/lib/python3.10/site-packages/sklearn/base.py:1151: DataConversionWarning: A column-vector y was passed when a 1d array was expected. Please change the shape of y to (n_samples,), for example using ravel().\n",
      "  return fit_method(estimator, *args, **kwargs)\n"
     ]
    },
    {
     "name": "stdout",
     "output_type": "stream",
     "text": [
      "Working on fold 4\n"
     ]
    },
    {
     "name": "stderr",
     "output_type": "stream",
     "text": [
      "/Users/jakehirst/miniconda3/envs/tfp_env/lib/python3.10/site-packages/sklearn/base.py:1151: DataConversionWarning: A column-vector y was passed when a 1d array was expected. Please change the shape of y to (n_samples,), for example using ravel().\n",
      "  return fit_method(estimator, *args, **kwargs)\n"
     ]
    },
    {
     "name": "stdout",
     "output_type": "stream",
     "text": [
      "Working on fold 5\n"
     ]
    },
    {
     "name": "stderr",
     "output_type": "stream",
     "text": [
      "/Users/jakehirst/miniconda3/envs/tfp_env/lib/python3.10/site-packages/sklearn/base.py:1151: DataConversionWarning: A column-vector y was passed when a 1d array was expected. Please change the shape of y to (n_samples,), for example using ravel().\n",
      "  return fit_method(estimator, *args, **kwargs)\n"
     ]
    },
    {
     "name": "stdout",
     "output_type": "stream",
     "text": [
      "\n",
      "removing these features: \n",
      "['max thickness - abs_val_mean_kink', 'avg_prop_speed + std_kink', 'max thickness * max_kink', 'angle_btw * std_thickness', 'angle_btw * mean_kink', 'var_kink - abs_val_mean_kink', 'abs_val_mean_kink - angle_btw', 'angle_btw + var_thickness', 'abs_val_sum_kink * median_kink', 'angle_btw + mean thickness', 'max_kink * std_thickness', 'std_kink + std_thickness', 'angle_btw * sum_kink', 'angle_btw * init x', 'max_prop_speed - abs_val_mean_kink', 'abs_val_sum_kink - dist btw frts', 'abs_val_sum_kink - median_thickness', 'avg_ori * linearity', 'abs_val_sum_kink + linearity', 'median_thickness - abs_val_sum_kink', 'abs_val_sum_kink - init x', 'angle_btw - abs_val_mean_kink', 'angle_btw * var_thickness', 'exp(angle_btw)', 'angle_btw + max thickness', 'max_prop_speed + thickness_at_init', 'std_kink * sum_kink', 'avg_ori + linearity', 'sqrt(angle_btw)', 'linearity * var_kink', 'abs_val_sum_kink - init y', 'sqrt(var_kink)', 'max thickness + max_kink', 'var_kink (unchanged)', 'angle_btw + sum_kink', 'angle_btw (unchanged)']\n",
      "Working on fold 1\n"
     ]
    },
    {
     "name": "stderr",
     "output_type": "stream",
     "text": [
      "/Users/jakehirst/miniconda3/envs/tfp_env/lib/python3.10/site-packages/sklearn/base.py:1151: DataConversionWarning: A column-vector y was passed when a 1d array was expected. Please change the shape of y to (n_samples,), for example using ravel().\n",
      "  return fit_method(estimator, *args, **kwargs)\n"
     ]
    },
    {
     "name": "stdout",
     "output_type": "stream",
     "text": [
      "Working on fold 2\n"
     ]
    },
    {
     "name": "stderr",
     "output_type": "stream",
     "text": [
      "/Users/jakehirst/miniconda3/envs/tfp_env/lib/python3.10/site-packages/sklearn/base.py:1151: DataConversionWarning: A column-vector y was passed when a 1d array was expected. Please change the shape of y to (n_samples,), for example using ravel().\n",
      "  return fit_method(estimator, *args, **kwargs)\n"
     ]
    },
    {
     "name": "stdout",
     "output_type": "stream",
     "text": [
      "Working on fold 3\n"
     ]
    },
    {
     "name": "stderr",
     "output_type": "stream",
     "text": [
      "/Users/jakehirst/miniconda3/envs/tfp_env/lib/python3.10/site-packages/sklearn/base.py:1151: DataConversionWarning: A column-vector y was passed when a 1d array was expected. Please change the shape of y to (n_samples,), for example using ravel().\n",
      "  return fit_method(estimator, *args, **kwargs)\n"
     ]
    },
    {
     "name": "stdout",
     "output_type": "stream",
     "text": [
      "Working on fold 4\n"
     ]
    },
    {
     "name": "stderr",
     "output_type": "stream",
     "text": [
      "/Users/jakehirst/miniconda3/envs/tfp_env/lib/python3.10/site-packages/sklearn/base.py:1151: DataConversionWarning: A column-vector y was passed when a 1d array was expected. Please change the shape of y to (n_samples,), for example using ravel().\n",
      "  return fit_method(estimator, *args, **kwargs)\n"
     ]
    },
    {
     "name": "stdout",
     "output_type": "stream",
     "text": [
      "Working on fold 5\n"
     ]
    },
    {
     "name": "stderr",
     "output_type": "stream",
     "text": [
      "/Users/jakehirst/miniconda3/envs/tfp_env/lib/python3.10/site-packages/sklearn/base.py:1151: DataConversionWarning: A column-vector y was passed when a 1d array was expected. Please change the shape of y to (n_samples,), for example using ravel().\n",
      "  return fit_method(estimator, *args, **kwargs)\n"
     ]
    },
    {
     "name": "stdout",
     "output_type": "stream",
     "text": [
      "\n",
      "removing these features: \n",
      "['angle_btw + median_thickness', 'angle_btw + mean_kink', 'max thickness + std_kink', 'angle_btw^3', 'crack len + linearity', 'init x + timestep_init', 'crack len - abs_val_sum_kink', 'abs_val_sum_kink - mean thickness', 'angle_btw + var_kink', 'init y - abs_val_sum_kink', 'mean thickness - abs_val_sum_kink', 'angle_btw * std_kink', 'angle_btw + max_kink', 'abs_val_mean_kink / timestep_init', 'max_kink * std_kink', 'abs_val_sum_kink - sum_kink', 'sum_kink * var_kink', 'init y + timestep_init', 'mean thickness * var_kink', 'init y * std_kink', 'max_prop_speed + median_thickness', 'max_kink / abs_val_sum_kink', 'crack len + median_kink', 'angle_btw^2', 'dist btw frts + median_kink', 'median_thickness / abs_val_sum_kink', 'dist btw frts + linearity', 'sum_kink - abs_val_sum_kink', 'std_kink * var_thickness', 'dist btw frts - abs_val_sum_kink', 'abs_val_sum_kink - var_thickness', 'dist btw frts + init z', 'log(std_kink)']\n",
      "Working on fold 1\n"
     ]
    },
    {
     "name": "stderr",
     "output_type": "stream",
     "text": [
      "/Users/jakehirst/miniconda3/envs/tfp_env/lib/python3.10/site-packages/sklearn/base.py:1151: DataConversionWarning: A column-vector y was passed when a 1d array was expected. Please change the shape of y to (n_samples,), for example using ravel().\n",
      "  return fit_method(estimator, *args, **kwargs)\n"
     ]
    },
    {
     "name": "stdout",
     "output_type": "stream",
     "text": [
      "Working on fold 2\n"
     ]
    },
    {
     "name": "stderr",
     "output_type": "stream",
     "text": [
      "/Users/jakehirst/miniconda3/envs/tfp_env/lib/python3.10/site-packages/sklearn/base.py:1151: DataConversionWarning: A column-vector y was passed when a 1d array was expected. Please change the shape of y to (n_samples,), for example using ravel().\n",
      "  return fit_method(estimator, *args, **kwargs)\n"
     ]
    },
    {
     "name": "stdout",
     "output_type": "stream",
     "text": [
      "Working on fold 3\n"
     ]
    },
    {
     "name": "stderr",
     "output_type": "stream",
     "text": [
      "/Users/jakehirst/miniconda3/envs/tfp_env/lib/python3.10/site-packages/sklearn/base.py:1151: DataConversionWarning: A column-vector y was passed when a 1d array was expected. Please change the shape of y to (n_samples,), for example using ravel().\n",
      "  return fit_method(estimator, *args, **kwargs)\n"
     ]
    },
    {
     "name": "stdout",
     "output_type": "stream",
     "text": [
      "Working on fold 4\n"
     ]
    },
    {
     "name": "stderr",
     "output_type": "stream",
     "text": [
      "/Users/jakehirst/miniconda3/envs/tfp_env/lib/python3.10/site-packages/sklearn/base.py:1151: DataConversionWarning: A column-vector y was passed when a 1d array was expected. Please change the shape of y to (n_samples,), for example using ravel().\n",
      "  return fit_method(estimator, *args, **kwargs)\n"
     ]
    },
    {
     "name": "stdout",
     "output_type": "stream",
     "text": [
      "Working on fold 5\n"
     ]
    },
    {
     "name": "stderr",
     "output_type": "stream",
     "text": [
      "/Users/jakehirst/miniconda3/envs/tfp_env/lib/python3.10/site-packages/sklearn/base.py:1151: DataConversionWarning: A column-vector y was passed when a 1d array was expected. Please change the shape of y to (n_samples,), for example using ravel().\n",
      "  return fit_method(estimator, *args, **kwargs)\n"
     ]
    },
    {
     "name": "stdout",
     "output_type": "stream",
     "text": [
      "\n",
      "removing these features: \n",
      "['max_kink + std_kink', 'abs_val_mean_kink - max_kink', 'angle_btw + init x', 'angle_btw * init y', 'max_prop_speed + mean_kink', 'max_kink - abs_val_mean_kink', 'angle_btw * max thickness', 'angle_btw + std_kink', 'abs_val_sum_kink - avg_ori', 'avg_ori - abs_val_sum_kink', 'abs_val_sum_kink - crack len', 'sqrt(std_kink)', 'std_kink + var_kink', 'avg_ori + dist btw frts', 'abs_val_mean_kink - max_prop_speed', 'avg_ori + crack len', 'mean_kink * var_kink', 'var_thickness - abs_val_sum_kink', 'abs_val_sum_kink - std_kink', 'abs_val_sum_kink + init z', 'angle_btw + init y', 'thickness_at_init + timestep_init', 'std_kink - abs_val_sum_kink', 'std_kink * std_thickness', 'var_kink * var_thickness', 'std_kink^2', 'abs_val_mean_kink ^ -abs_val_sum_kink', 'thickness_at_init / abs_val_sum_kink', 'abs_val_sum_kink + thickness_at_init', 'abs_val_mean_kink / max_prop_speed']\n",
      "Working on fold 1\n"
     ]
    },
    {
     "name": "stderr",
     "output_type": "stream",
     "text": [
      "/Users/jakehirst/miniconda3/envs/tfp_env/lib/python3.10/site-packages/sklearn/base.py:1151: DataConversionWarning: A column-vector y was passed when a 1d array was expected. Please change the shape of y to (n_samples,), for example using ravel().\n",
      "  return fit_method(estimator, *args, **kwargs)\n"
     ]
    },
    {
     "name": "stdout",
     "output_type": "stream",
     "text": [
      "Working on fold 2\n"
     ]
    },
    {
     "name": "stderr",
     "output_type": "stream",
     "text": [
      "/Users/jakehirst/miniconda3/envs/tfp_env/lib/python3.10/site-packages/sklearn/base.py:1151: DataConversionWarning: A column-vector y was passed when a 1d array was expected. Please change the shape of y to (n_samples,), for example using ravel().\n",
      "  return fit_method(estimator, *args, **kwargs)\n"
     ]
    },
    {
     "name": "stdout",
     "output_type": "stream",
     "text": [
      "Working on fold 3\n"
     ]
    },
    {
     "name": "stderr",
     "output_type": "stream",
     "text": [
      "/Users/jakehirst/miniconda3/envs/tfp_env/lib/python3.10/site-packages/sklearn/base.py:1151: DataConversionWarning: A column-vector y was passed when a 1d array was expected. Please change the shape of y to (n_samples,), for example using ravel().\n",
      "  return fit_method(estimator, *args, **kwargs)\n"
     ]
    },
    {
     "name": "stdout",
     "output_type": "stream",
     "text": [
      "Working on fold 4\n"
     ]
    },
    {
     "name": "stderr",
     "output_type": "stream",
     "text": [
      "/Users/jakehirst/miniconda3/envs/tfp_env/lib/python3.10/site-packages/sklearn/base.py:1151: DataConversionWarning: A column-vector y was passed when a 1d array was expected. Please change the shape of y to (n_samples,), for example using ravel().\n",
      "  return fit_method(estimator, *args, **kwargs)\n"
     ]
    },
    {
     "name": "stdout",
     "output_type": "stream",
     "text": [
      "Working on fold 5\n"
     ]
    },
    {
     "name": "stderr",
     "output_type": "stream",
     "text": [
      "/Users/jakehirst/miniconda3/envs/tfp_env/lib/python3.10/site-packages/sklearn/base.py:1151: DataConversionWarning: A column-vector y was passed when a 1d array was expected. Please change the shape of y to (n_samples,), for example using ravel().\n",
      "  return fit_method(estimator, *args, **kwargs)\n"
     ]
    },
    {
     "name": "stdout",
     "output_type": "stream",
     "text": [
      "\n",
      "removing these features: \n",
      "['angle_btw * max_prop_speed', 'std_kink (unchanged)', 'abs_val_mean_kink + crack len', 'max_prop_speed + var_thickness', 'max_prop_speed + mean thickness', 'abs_val_mean_kink * abs_val_sum_kink', 'log(var_kink)', 'max_prop_speed + sum_kink', 'angle_btw * crack len', 'angle_btw * max_kink', 'max_prop_speed + std_thickness', 'dist btw frts * linearity', 'std_thickness * var_kink', 'abs_val_sum_kink + median_thickness', 'mean thickness / abs_val_sum_kink', 'max thickness / abs_val_sum_kink', 'mean_kink / abs_val_sum_kink', 'abs_val_sum_kink / mean thickness', 'dist btw frts * thickness_at_init', 'max thickness * std_kink', 'init x / abs_val_sum_kink', 'angle_btw + max_prop_speed', 'angle_btw * var_kink', 'abs_val_sum_kink + var_thickness', 'init y + max_prop_speed', 'abs_val_mean_kink / dist btw frts', 'max_kink * mean_kink']\n",
      "Working on fold 1\n"
     ]
    },
    {
     "name": "stderr",
     "output_type": "stream",
     "text": [
      "/Users/jakehirst/miniconda3/envs/tfp_env/lib/python3.10/site-packages/sklearn/base.py:1151: DataConversionWarning: A column-vector y was passed when a 1d array was expected. Please change the shape of y to (n_samples,), for example using ravel().\n",
      "  return fit_method(estimator, *args, **kwargs)\n"
     ]
    },
    {
     "name": "stdout",
     "output_type": "stream",
     "text": [
      "Working on fold 2\n"
     ]
    },
    {
     "name": "stderr",
     "output_type": "stream",
     "text": [
      "/Users/jakehirst/miniconda3/envs/tfp_env/lib/python3.10/site-packages/sklearn/base.py:1151: DataConversionWarning: A column-vector y was passed when a 1d array was expected. Please change the shape of y to (n_samples,), for example using ravel().\n",
      "  return fit_method(estimator, *args, **kwargs)\n"
     ]
    },
    {
     "name": "stdout",
     "output_type": "stream",
     "text": [
      "Working on fold 3\n"
     ]
    },
    {
     "name": "stderr",
     "output_type": "stream",
     "text": [
      "/Users/jakehirst/miniconda3/envs/tfp_env/lib/python3.10/site-packages/sklearn/base.py:1151: DataConversionWarning: A column-vector y was passed when a 1d array was expected. Please change the shape of y to (n_samples,), for example using ravel().\n",
      "  return fit_method(estimator, *args, **kwargs)\n"
     ]
    },
    {
     "name": "stdout",
     "output_type": "stream",
     "text": [
      "Working on fold 4\n"
     ]
    },
    {
     "name": "stderr",
     "output_type": "stream",
     "text": [
      "/Users/jakehirst/miniconda3/envs/tfp_env/lib/python3.10/site-packages/sklearn/base.py:1151: DataConversionWarning: A column-vector y was passed when a 1d array was expected. Please change the shape of y to (n_samples,), for example using ravel().\n",
      "  return fit_method(estimator, *args, **kwargs)\n"
     ]
    },
    {
     "name": "stdout",
     "output_type": "stream",
     "text": [
      "Working on fold 5\n"
     ]
    },
    {
     "name": "stderr",
     "output_type": "stream",
     "text": [
      "/Users/jakehirst/miniconda3/envs/tfp_env/lib/python3.10/site-packages/sklearn/base.py:1151: DataConversionWarning: A column-vector y was passed when a 1d array was expected. Please change the shape of y to (n_samples,), for example using ravel().\n",
      "  return fit_method(estimator, *args, **kwargs)\n"
     ]
    },
    {
     "name": "stdout",
     "output_type": "stream",
     "text": [
      "\n",
      "removing these features: \n",
      "['crack len * thickness_at_init', 'crack len + init z', 'abs_val_sum_kink + std_thickness', 'abs_val_mean_kink / crack len', 'std_thickness / abs_val_sum_kink', 'abs_val_sum_kink / median_thickness', 'max_kink + mean_kink', 'max thickness * var_kink', 'abs_val_sum_kink + mean thickness', 'abs_val_mean_kink + dist btw frts', 'angle_btw * dist btw frts', 'abs_val_sum_kink / mean_kink', 'init x * timestep_init', 'std_kink - abs_val_mean_kink', 'abs_val_mean_kink / max_kink', 'abs_val_sum_kink * var_thickness', 'abs_val_sum_kink / std_thickness', 'max_prop_speed * var_thickness', 'max_prop_speed / abs_val_mean_kink', 'init y / abs_val_sum_kink', 'median_thickness + timestep_init', 'avg_prop_speed + max_prop_speed', 'abs_val_sum_kink / max thickness', 'abs_val_mean_kink / var_kink']\n",
      "Working on fold 1\n"
     ]
    },
    {
     "name": "stderr",
     "output_type": "stream",
     "text": [
      "/Users/jakehirst/miniconda3/envs/tfp_env/lib/python3.10/site-packages/sklearn/base.py:1151: DataConversionWarning: A column-vector y was passed when a 1d array was expected. Please change the shape of y to (n_samples,), for example using ravel().\n",
      "  return fit_method(estimator, *args, **kwargs)\n"
     ]
    },
    {
     "name": "stdout",
     "output_type": "stream",
     "text": [
      "Working on fold 2\n"
     ]
    },
    {
     "name": "stderr",
     "output_type": "stream",
     "text": [
      "/Users/jakehirst/miniconda3/envs/tfp_env/lib/python3.10/site-packages/sklearn/base.py:1151: DataConversionWarning: A column-vector y was passed when a 1d array was expected. Please change the shape of y to (n_samples,), for example using ravel().\n",
      "  return fit_method(estimator, *args, **kwargs)\n"
     ]
    },
    {
     "name": "stdout",
     "output_type": "stream",
     "text": [
      "Working on fold 3\n"
     ]
    },
    {
     "name": "stderr",
     "output_type": "stream",
     "text": [
      "/Users/jakehirst/miniconda3/envs/tfp_env/lib/python3.10/site-packages/sklearn/base.py:1151: DataConversionWarning: A column-vector y was passed when a 1d array was expected. Please change the shape of y to (n_samples,), for example using ravel().\n",
      "  return fit_method(estimator, *args, **kwargs)\n"
     ]
    },
    {
     "name": "stdout",
     "output_type": "stream",
     "text": [
      "Working on fold 4\n"
     ]
    },
    {
     "name": "stderr",
     "output_type": "stream",
     "text": [
      "/Users/jakehirst/miniconda3/envs/tfp_env/lib/python3.10/site-packages/sklearn/base.py:1151: DataConversionWarning: A column-vector y was passed when a 1d array was expected. Please change the shape of y to (n_samples,), for example using ravel().\n",
      "  return fit_method(estimator, *args, **kwargs)\n"
     ]
    },
    {
     "name": "stdout",
     "output_type": "stream",
     "text": [
      "Working on fold 5\n"
     ]
    },
    {
     "name": "stderr",
     "output_type": "stream",
     "text": [
      "/Users/jakehirst/miniconda3/envs/tfp_env/lib/python3.10/site-packages/sklearn/base.py:1151: DataConversionWarning: A column-vector y was passed when a 1d array was expected. Please change the shape of y to (n_samples,), for example using ravel().\n",
      "  return fit_method(estimator, *args, **kwargs)\n"
     ]
    },
    {
     "name": "stdout",
     "output_type": "stream",
     "text": [
      "\n",
      "removing these features: \n",
      "['max_prop_speed * thickness_at_init', 'mean_kink + std_kink', 'std_kink / abs_val_mean_kink', 'init y * var_kink', 'mean thickness + timestep_init', 'init x * max_prop_speed', 'abs_val_sum_kink * angle_btw', 'crack len * linearity', 'dist btw frts + var_thickness', 'abs_val_mean_kink - std_kink', 'mean_kink * std_kink', 'dist btw frts / abs_val_mean_kink', 'median_kink / abs_val_sum_kink', 'init z * max_prop_speed', 'init x + max_prop_speed', 'abs_val_sum_kink + angle_btw', 'abs_val_mean_kink - crack len', 'crack len / abs_val_mean_kink', 'init y * timestep_init', 'linearity * max_prop_speed', 'abs_val_sum_kink / init y']\n",
      "Working on fold 1\n"
     ]
    },
    {
     "name": "stderr",
     "output_type": "stream",
     "text": [
      "/Users/jakehirst/miniconda3/envs/tfp_env/lib/python3.10/site-packages/sklearn/base.py:1151: DataConversionWarning: A column-vector y was passed when a 1d array was expected. Please change the shape of y to (n_samples,), for example using ravel().\n",
      "  return fit_method(estimator, *args, **kwargs)\n"
     ]
    },
    {
     "name": "stdout",
     "output_type": "stream",
     "text": [
      "Working on fold 2\n"
     ]
    },
    {
     "name": "stderr",
     "output_type": "stream",
     "text": [
      "/Users/jakehirst/miniconda3/envs/tfp_env/lib/python3.10/site-packages/sklearn/base.py:1151: DataConversionWarning: A column-vector y was passed when a 1d array was expected. Please change the shape of y to (n_samples,), for example using ravel().\n",
      "  return fit_method(estimator, *args, **kwargs)\n"
     ]
    },
    {
     "name": "stdout",
     "output_type": "stream",
     "text": [
      "Working on fold 3\n"
     ]
    },
    {
     "name": "stderr",
     "output_type": "stream",
     "text": [
      "/Users/jakehirst/miniconda3/envs/tfp_env/lib/python3.10/site-packages/sklearn/base.py:1151: DataConversionWarning: A column-vector y was passed when a 1d array was expected. Please change the shape of y to (n_samples,), for example using ravel().\n",
      "  return fit_method(estimator, *args, **kwargs)\n"
     ]
    },
    {
     "name": "stdout",
     "output_type": "stream",
     "text": [
      "Working on fold 4\n"
     ]
    },
    {
     "name": "stderr",
     "output_type": "stream",
     "text": [
      "/Users/jakehirst/miniconda3/envs/tfp_env/lib/python3.10/site-packages/sklearn/base.py:1151: DataConversionWarning: A column-vector y was passed when a 1d array was expected. Please change the shape of y to (n_samples,), for example using ravel().\n",
      "  return fit_method(estimator, *args, **kwargs)\n"
     ]
    },
    {
     "name": "stdout",
     "output_type": "stream",
     "text": [
      "Working on fold 5\n"
     ]
    },
    {
     "name": "stderr",
     "output_type": "stream",
     "text": [
      "/Users/jakehirst/miniconda3/envs/tfp_env/lib/python3.10/site-packages/sklearn/base.py:1151: DataConversionWarning: A column-vector y was passed when a 1d array was expected. Please change the shape of y to (n_samples,), for example using ravel().\n",
      "  return fit_method(estimator, *args, **kwargs)\n"
     ]
    },
    {
     "name": "stdout",
     "output_type": "stream",
     "text": [
      "\n",
      "removing these features: \n",
      "['max_prop_speed * median_thickness', 'abs_val_sum_kink / max_kink', 'crack len * sum_kink', 'abs_val_sum_kink - max_kink', 'abs_val_sum_kink / avg_prop_speed', 'crack len - abs_val_mean_kink', 'dist btw frts * median_thickness', 'crack len * init z', 'mean_kink + timestep_init', 'angle_btw + crack len', 'max thickness * timestep_init', 'dist btw frts * init x', 'crack len + var_thickness', 'abs_val_sum_kink + sum_kink', 'dist btw frts - abs_val_mean_kink', 'max_prop_speed * std_thickness', 'max_prop_speed^3', 'max_kink / abs_val_mean_kink', 'max_kink - abs_val_sum_kink']\n",
      "Working on fold 1\n"
     ]
    },
    {
     "name": "stderr",
     "output_type": "stream",
     "text": [
      "/Users/jakehirst/miniconda3/envs/tfp_env/lib/python3.10/site-packages/sklearn/base.py:1151: DataConversionWarning: A column-vector y was passed when a 1d array was expected. Please change the shape of y to (n_samples,), for example using ravel().\n",
      "  return fit_method(estimator, *args, **kwargs)\n"
     ]
    },
    {
     "name": "stdout",
     "output_type": "stream",
     "text": [
      "Working on fold 2\n"
     ]
    },
    {
     "name": "stderr",
     "output_type": "stream",
     "text": [
      "/Users/jakehirst/miniconda3/envs/tfp_env/lib/python3.10/site-packages/sklearn/base.py:1151: DataConversionWarning: A column-vector y was passed when a 1d array was expected. Please change the shape of y to (n_samples,), for example using ravel().\n",
      "  return fit_method(estimator, *args, **kwargs)\n"
     ]
    },
    {
     "name": "stdout",
     "output_type": "stream",
     "text": [
      "Working on fold 3\n"
     ]
    },
    {
     "name": "stderr",
     "output_type": "stream",
     "text": [
      "/Users/jakehirst/miniconda3/envs/tfp_env/lib/python3.10/site-packages/sklearn/base.py:1151: DataConversionWarning: A column-vector y was passed when a 1d array was expected. Please change the shape of y to (n_samples,), for example using ravel().\n",
      "  return fit_method(estimator, *args, **kwargs)\n"
     ]
    },
    {
     "name": "stdout",
     "output_type": "stream",
     "text": [
      "Working on fold 4\n"
     ]
    },
    {
     "name": "stderr",
     "output_type": "stream",
     "text": [
      "/Users/jakehirst/miniconda3/envs/tfp_env/lib/python3.10/site-packages/sklearn/base.py:1151: DataConversionWarning: A column-vector y was passed when a 1d array was expected. Please change the shape of y to (n_samples,), for example using ravel().\n",
      "  return fit_method(estimator, *args, **kwargs)\n"
     ]
    },
    {
     "name": "stdout",
     "output_type": "stream",
     "text": [
      "Working on fold 5\n"
     ]
    },
    {
     "name": "stderr",
     "output_type": "stream",
     "text": [
      "/Users/jakehirst/miniconda3/envs/tfp_env/lib/python3.10/site-packages/sklearn/base.py:1151: DataConversionWarning: A column-vector y was passed when a 1d array was expected. Please change the shape of y to (n_samples,), for example using ravel().\n",
      "  return fit_method(estimator, *args, **kwargs)\n"
     ]
    },
    {
     "name": "stdout",
     "output_type": "stream",
     "text": [
      "\n",
      "removing these features: \n",
      "['dist btw frts * init z', 'crack len * var_thickness', 'crack len + mean_kink', 'init y * max_prop_speed', 'crack len * median_thickness', 'max_prop_speed * median_kink', 'crack len + std_thickness', 'abs_val_mean_kink - dist btw frts', 'init z - abs_val_sum_kink', 'crack len * init x', 'max_prop_speed * sum_kink', 'abs_val_sum_kink * init x', 'dist btw frts * var_thickness', 'dist btw frts + thickness_at_init', 'abs_val_sum_kink - init z', 'max_prop_speed * mean thickness', 'max_prop_speed^2']\n",
      "Working on fold 1\n"
     ]
    },
    {
     "name": "stderr",
     "output_type": "stream",
     "text": [
      "/Users/jakehirst/miniconda3/envs/tfp_env/lib/python3.10/site-packages/sklearn/base.py:1151: DataConversionWarning: A column-vector y was passed when a 1d array was expected. Please change the shape of y to (n_samples,), for example using ravel().\n",
      "  return fit_method(estimator, *args, **kwargs)\n"
     ]
    },
    {
     "name": "stdout",
     "output_type": "stream",
     "text": [
      "Working on fold 2\n"
     ]
    },
    {
     "name": "stderr",
     "output_type": "stream",
     "text": [
      "/Users/jakehirst/miniconda3/envs/tfp_env/lib/python3.10/site-packages/sklearn/base.py:1151: DataConversionWarning: A column-vector y was passed when a 1d array was expected. Please change the shape of y to (n_samples,), for example using ravel().\n",
      "  return fit_method(estimator, *args, **kwargs)\n"
     ]
    },
    {
     "name": "stdout",
     "output_type": "stream",
     "text": [
      "Working on fold 3\n"
     ]
    },
    {
     "name": "stderr",
     "output_type": "stream",
     "text": [
      "/Users/jakehirst/miniconda3/envs/tfp_env/lib/python3.10/site-packages/sklearn/base.py:1151: DataConversionWarning: A column-vector y was passed when a 1d array was expected. Please change the shape of y to (n_samples,), for example using ravel().\n",
      "  return fit_method(estimator, *args, **kwargs)\n"
     ]
    },
    {
     "name": "stdout",
     "output_type": "stream",
     "text": [
      "Working on fold 4\n"
     ]
    },
    {
     "name": "stderr",
     "output_type": "stream",
     "text": [
      "/Users/jakehirst/miniconda3/envs/tfp_env/lib/python3.10/site-packages/sklearn/base.py:1151: DataConversionWarning: A column-vector y was passed when a 1d array was expected. Please change the shape of y to (n_samples,), for example using ravel().\n",
      "  return fit_method(estimator, *args, **kwargs)\n"
     ]
    },
    {
     "name": "stdout",
     "output_type": "stream",
     "text": [
      "Working on fold 5\n"
     ]
    },
    {
     "name": "stderr",
     "output_type": "stream",
     "text": [
      "/Users/jakehirst/miniconda3/envs/tfp_env/lib/python3.10/site-packages/sklearn/base.py:1151: DataConversionWarning: A column-vector y was passed when a 1d array was expected. Please change the shape of y to (n_samples,), for example using ravel().\n",
      "  return fit_method(estimator, *args, **kwargs)\n"
     ]
    },
    {
     "name": "stdout",
     "output_type": "stream",
     "text": [
      "\n",
      "removing these features: \n",
      "['max_prop_speed (unchanged)', 'var_kink / abs_val_mean_kink', 'abs_val_sum_kink + init x', 'dist btw frts * sum_kink', 'abs_val_sum_kink * thickness_at_init', 'crack len + thickness_at_init', 'abs_val_sum_kink + avg_prop_speed', 'crack len + sum_kink', 'abs_val_mean_kink * max_prop_speed', 'max_prop_speed + std_kink', 'abs_val_mean_kink - abs_val_sum_kink', 'dist btw frts + std_thickness', 'abs_val_sum_kink + max thickness', 'abs_val_sum_kink / median_kink', 'abs_val_sum_kink * var_kink', 'abs_val_sum_kink * std_thickness']\n",
      "Working on fold 1\n"
     ]
    },
    {
     "name": "stderr",
     "output_type": "stream",
     "text": [
      "/Users/jakehirst/miniconda3/envs/tfp_env/lib/python3.10/site-packages/sklearn/base.py:1151: DataConversionWarning: A column-vector y was passed when a 1d array was expected. Please change the shape of y to (n_samples,), for example using ravel().\n",
      "  return fit_method(estimator, *args, **kwargs)\n"
     ]
    },
    {
     "name": "stdout",
     "output_type": "stream",
     "text": [
      "Working on fold 2\n"
     ]
    },
    {
     "name": "stderr",
     "output_type": "stream",
     "text": [
      "/Users/jakehirst/miniconda3/envs/tfp_env/lib/python3.10/site-packages/sklearn/base.py:1151: DataConversionWarning: A column-vector y was passed when a 1d array was expected. Please change the shape of y to (n_samples,), for example using ravel().\n",
      "  return fit_method(estimator, *args, **kwargs)\n"
     ]
    },
    {
     "name": "stdout",
     "output_type": "stream",
     "text": [
      "Working on fold 3\n"
     ]
    },
    {
     "name": "stderr",
     "output_type": "stream",
     "text": [
      "/Users/jakehirst/miniconda3/envs/tfp_env/lib/python3.10/site-packages/sklearn/base.py:1151: DataConversionWarning: A column-vector y was passed when a 1d array was expected. Please change the shape of y to (n_samples,), for example using ravel().\n",
      "  return fit_method(estimator, *args, **kwargs)\n"
     ]
    },
    {
     "name": "stdout",
     "output_type": "stream",
     "text": [
      "Working on fold 4\n"
     ]
    },
    {
     "name": "stderr",
     "output_type": "stream",
     "text": [
      "/Users/jakehirst/miniconda3/envs/tfp_env/lib/python3.10/site-packages/sklearn/base.py:1151: DataConversionWarning: A column-vector y was passed when a 1d array was expected. Please change the shape of y to (n_samples,), for example using ravel().\n",
      "  return fit_method(estimator, *args, **kwargs)\n"
     ]
    },
    {
     "name": "stdout",
     "output_type": "stream",
     "text": [
      "Working on fold 5\n"
     ]
    },
    {
     "name": "stderr",
     "output_type": "stream",
     "text": [
      "/Users/jakehirst/miniconda3/envs/tfp_env/lib/python3.10/site-packages/sklearn/base.py:1151: DataConversionWarning: A column-vector y was passed when a 1d array was expected. Please change the shape of y to (n_samples,), for example using ravel().\n",
      "  return fit_method(estimator, *args, **kwargs)\n"
     ]
    },
    {
     "name": "stdout",
     "output_type": "stream",
     "text": [
      "\n",
      "removing these features: \n",
      "['max_prop_speed + var_kink', 'sqrt(max_prop_speed)', 'abs_val_sum_kink * median_thickness', 'angle_btw + dist btw frts', 'max_kink + timestep_init', 'median_kink - abs_val_sum_kink', 'abs_val_sum_kink * init z', 'avg_prop_speed + crack len', 'max_kink + max_prop_speed', 'abs_val_sum_kink - median_kink', 'dist btw frts + mean_kink', 'avg_prop_speed + dist btw frts', 'avg_ori / abs_val_sum_kink', 'dist btw frts + sum_kink']\n",
      "Working on fold 1\n"
     ]
    },
    {
     "name": "stderr",
     "output_type": "stream",
     "text": [
      "/Users/jakehirst/miniconda3/envs/tfp_env/lib/python3.10/site-packages/sklearn/base.py:1151: DataConversionWarning: A column-vector y was passed when a 1d array was expected. Please change the shape of y to (n_samples,), for example using ravel().\n",
      "  return fit_method(estimator, *args, **kwargs)\n"
     ]
    },
    {
     "name": "stdout",
     "output_type": "stream",
     "text": [
      "Working on fold 2\n"
     ]
    },
    {
     "name": "stderr",
     "output_type": "stream",
     "text": [
      "/Users/jakehirst/miniconda3/envs/tfp_env/lib/python3.10/site-packages/sklearn/base.py:1151: DataConversionWarning: A column-vector y was passed when a 1d array was expected. Please change the shape of y to (n_samples,), for example using ravel().\n",
      "  return fit_method(estimator, *args, **kwargs)\n"
     ]
    },
    {
     "name": "stdout",
     "output_type": "stream",
     "text": [
      "Working on fold 3\n"
     ]
    },
    {
     "name": "stderr",
     "output_type": "stream",
     "text": [
      "/Users/jakehirst/miniconda3/envs/tfp_env/lib/python3.10/site-packages/sklearn/base.py:1151: DataConversionWarning: A column-vector y was passed when a 1d array was expected. Please change the shape of y to (n_samples,), for example using ravel().\n",
      "  return fit_method(estimator, *args, **kwargs)\n"
     ]
    },
    {
     "name": "stdout",
     "output_type": "stream",
     "text": [
      "Working on fold 4\n"
     ]
    },
    {
     "name": "stderr",
     "output_type": "stream",
     "text": [
      "/Users/jakehirst/miniconda3/envs/tfp_env/lib/python3.10/site-packages/sklearn/base.py:1151: DataConversionWarning: A column-vector y was passed when a 1d array was expected. Please change the shape of y to (n_samples,), for example using ravel().\n",
      "  return fit_method(estimator, *args, **kwargs)\n"
     ]
    },
    {
     "name": "stdout",
     "output_type": "stream",
     "text": [
      "Working on fold 5\n"
     ]
    },
    {
     "name": "stderr",
     "output_type": "stream",
     "text": [
      "/Users/jakehirst/miniconda3/envs/tfp_env/lib/python3.10/site-packages/sklearn/base.py:1151: DataConversionWarning: A column-vector y was passed when a 1d array was expected. Please change the shape of y to (n_samples,), for example using ravel().\n",
      "  return fit_method(estimator, *args, **kwargs)\n"
     ]
    },
    {
     "name": "stdout",
     "output_type": "stream",
     "text": [
      "\n",
      "removing these features: \n",
      "['abs_val_sum_kink - abs_val_mean_kink', 'dist btw frts * max_prop_speed', 'median_thickness * timestep_init', 'abs_val_sum_kink + mean_kink', 'crack len + mean thickness', 'abs_val_sum_kink + std_kink', 'abs_val_sum_kink + init y', 'sqrt(crack len)', 'dist btw frts + max_prop_speed', 'abs_val_mean_kink / abs_val_sum_kink', 'abs_val_sum_kink / avg_ori', 'max thickness * max_prop_speed', 'abs_val_sum_kink - var_kink']\n",
      "Working on fold 1\n"
     ]
    },
    {
     "name": "stderr",
     "output_type": "stream",
     "text": [
      "/Users/jakehirst/miniconda3/envs/tfp_env/lib/python3.10/site-packages/sklearn/base.py:1151: DataConversionWarning: A column-vector y was passed when a 1d array was expected. Please change the shape of y to (n_samples,), for example using ravel().\n",
      "  return fit_method(estimator, *args, **kwargs)\n"
     ]
    },
    {
     "name": "stdout",
     "output_type": "stream",
     "text": [
      "Working on fold 2\n"
     ]
    },
    {
     "name": "stderr",
     "output_type": "stream",
     "text": [
      "/Users/jakehirst/miniconda3/envs/tfp_env/lib/python3.10/site-packages/sklearn/base.py:1151: DataConversionWarning: A column-vector y was passed when a 1d array was expected. Please change the shape of y to (n_samples,), for example using ravel().\n",
      "  return fit_method(estimator, *args, **kwargs)\n"
     ]
    },
    {
     "name": "stdout",
     "output_type": "stream",
     "text": [
      "Working on fold 3\n"
     ]
    },
    {
     "name": "stderr",
     "output_type": "stream",
     "text": [
      "/Users/jakehirst/miniconda3/envs/tfp_env/lib/python3.10/site-packages/sklearn/base.py:1151: DataConversionWarning: A column-vector y was passed when a 1d array was expected. Please change the shape of y to (n_samples,), for example using ravel().\n",
      "  return fit_method(estimator, *args, **kwargs)\n"
     ]
    },
    {
     "name": "stdout",
     "output_type": "stream",
     "text": [
      "Working on fold 4\n"
     ]
    },
    {
     "name": "stderr",
     "output_type": "stream",
     "text": [
      "/Users/jakehirst/miniconda3/envs/tfp_env/lib/python3.10/site-packages/sklearn/base.py:1151: DataConversionWarning: A column-vector y was passed when a 1d array was expected. Please change the shape of y to (n_samples,), for example using ravel().\n",
      "  return fit_method(estimator, *args, **kwargs)\n"
     ]
    },
    {
     "name": "stdout",
     "output_type": "stream",
     "text": [
      "Working on fold 5\n"
     ]
    },
    {
     "name": "stderr",
     "output_type": "stream",
     "text": [
      "/Users/jakehirst/miniconda3/envs/tfp_env/lib/python3.10/site-packages/sklearn/base.py:1151: DataConversionWarning: A column-vector y was passed when a 1d array was expected. Please change the shape of y to (n_samples,), for example using ravel().\n",
      "  return fit_method(estimator, *args, **kwargs)\n"
     ]
    },
    {
     "name": "stdout",
     "output_type": "stream",
     "text": [
      "\n",
      "removing these features: \n",
      "['crack len + max_prop_speed', 'dist btw frts * std_thickness', 'max_prop_speed * mean_kink', 'abs_val_sum_kink * max_kink', 'crack len * max_prop_speed', 'mean thickness * timestep_init', 'var_kink - abs_val_sum_kink', 'sum_kink / abs_val_sum_kink', 'dist btw frts * median_kink', 'abs_val_sum_kink * linearity', 'crack len * mean_kink']\n",
      "Working on fold 1\n"
     ]
    },
    {
     "name": "stderr",
     "output_type": "stream",
     "text": [
      "/Users/jakehirst/miniconda3/envs/tfp_env/lib/python3.10/site-packages/sklearn/base.py:1151: DataConversionWarning: A column-vector y was passed when a 1d array was expected. Please change the shape of y to (n_samples,), for example using ravel().\n",
      "  return fit_method(estimator, *args, **kwargs)\n"
     ]
    },
    {
     "name": "stdout",
     "output_type": "stream",
     "text": [
      "Working on fold 2\n"
     ]
    },
    {
     "name": "stderr",
     "output_type": "stream",
     "text": [
      "/Users/jakehirst/miniconda3/envs/tfp_env/lib/python3.10/site-packages/sklearn/base.py:1151: DataConversionWarning: A column-vector y was passed when a 1d array was expected. Please change the shape of y to (n_samples,), for example using ravel().\n",
      "  return fit_method(estimator, *args, **kwargs)\n"
     ]
    },
    {
     "name": "stdout",
     "output_type": "stream",
     "text": [
      "Working on fold 3\n"
     ]
    },
    {
     "name": "stderr",
     "output_type": "stream",
     "text": [
      "/Users/jakehirst/miniconda3/envs/tfp_env/lib/python3.10/site-packages/sklearn/base.py:1151: DataConversionWarning: A column-vector y was passed when a 1d array was expected. Please change the shape of y to (n_samples,), for example using ravel().\n",
      "  return fit_method(estimator, *args, **kwargs)\n"
     ]
    },
    {
     "name": "stdout",
     "output_type": "stream",
     "text": [
      "Working on fold 4\n"
     ]
    },
    {
     "name": "stderr",
     "output_type": "stream",
     "text": [
      "/Users/jakehirst/miniconda3/envs/tfp_env/lib/python3.10/site-packages/sklearn/base.py:1151: DataConversionWarning: A column-vector y was passed when a 1d array was expected. Please change the shape of y to (n_samples,), for example using ravel().\n",
      "  return fit_method(estimator, *args, **kwargs)\n"
     ]
    },
    {
     "name": "stdout",
     "output_type": "stream",
     "text": [
      "Working on fold 5\n"
     ]
    },
    {
     "name": "stderr",
     "output_type": "stream",
     "text": [
      "/Users/jakehirst/miniconda3/envs/tfp_env/lib/python3.10/site-packages/sklearn/base.py:1151: DataConversionWarning: A column-vector y was passed when a 1d array was expected. Please change the shape of y to (n_samples,), for example using ravel().\n",
      "  return fit_method(estimator, *args, **kwargs)\n"
     ]
    },
    {
     "name": "stdout",
     "output_type": "stream",
     "text": [
      "\n",
      "removing these features: \n",
      "['crack len * std_thickness', 'crack len + dist btw frts', 'abs_val_sum_kink + var_kink', 'exp(crack len)', 'dist btw frts^2', 'abs_val_mean_kink ^ -max_prop_speed', 'crack len^3', 'crack len^2', 'crack len * mean thickness', 'crack len + init x']\n",
      "Working on fold 1\n"
     ]
    },
    {
     "name": "stderr",
     "output_type": "stream",
     "text": [
      "/Users/jakehirst/miniconda3/envs/tfp_env/lib/python3.10/site-packages/sklearn/base.py:1151: DataConversionWarning: A column-vector y was passed when a 1d array was expected. Please change the shape of y to (n_samples,), for example using ravel().\n",
      "  return fit_method(estimator, *args, **kwargs)\n"
     ]
    },
    {
     "name": "stdout",
     "output_type": "stream",
     "text": [
      "Working on fold 2\n"
     ]
    },
    {
     "name": "stderr",
     "output_type": "stream",
     "text": [
      "/Users/jakehirst/miniconda3/envs/tfp_env/lib/python3.10/site-packages/sklearn/base.py:1151: DataConversionWarning: A column-vector y was passed when a 1d array was expected. Please change the shape of y to (n_samples,), for example using ravel().\n",
      "  return fit_method(estimator, *args, **kwargs)\n"
     ]
    },
    {
     "name": "stdout",
     "output_type": "stream",
     "text": [
      "Working on fold 3\n"
     ]
    },
    {
     "name": "stderr",
     "output_type": "stream",
     "text": [
      "/Users/jakehirst/miniconda3/envs/tfp_env/lib/python3.10/site-packages/sklearn/base.py:1151: DataConversionWarning: A column-vector y was passed when a 1d array was expected. Please change the shape of y to (n_samples,), for example using ravel().\n",
      "  return fit_method(estimator, *args, **kwargs)\n"
     ]
    },
    {
     "name": "stdout",
     "output_type": "stream",
     "text": [
      "Working on fold 4\n"
     ]
    },
    {
     "name": "stderr",
     "output_type": "stream",
     "text": [
      "/Users/jakehirst/miniconda3/envs/tfp_env/lib/python3.10/site-packages/sklearn/base.py:1151: DataConversionWarning: A column-vector y was passed when a 1d array was expected. Please change the shape of y to (n_samples,), for example using ravel().\n",
      "  return fit_method(estimator, *args, **kwargs)\n"
     ]
    },
    {
     "name": "stdout",
     "output_type": "stream",
     "text": [
      "Working on fold 5\n"
     ]
    },
    {
     "name": "stderr",
     "output_type": "stream",
     "text": [
      "/Users/jakehirst/miniconda3/envs/tfp_env/lib/python3.10/site-packages/sklearn/base.py:1151: DataConversionWarning: A column-vector y was passed when a 1d array was expected. Please change the shape of y to (n_samples,), for example using ravel().\n",
      "  return fit_method(estimator, *args, **kwargs)\n"
     ]
    },
    {
     "name": "stdout",
     "output_type": "stream",
     "text": [
      "\n",
      "removing these features: \n",
      "['max_prop_speed * var_kink', 'dist btw frts * mean thickness', 'abs_val_sum_kink + max_kink', 'dist btw frts^3', 'thickness_at_init * timestep_init', 'max_kink * max_prop_speed', 'max_prop_speed * std_kink', 'crack len (unchanged)', 'dist btw frts * max thickness']\n",
      "Working on fold 1\n"
     ]
    },
    {
     "name": "stderr",
     "output_type": "stream",
     "text": [
      "/Users/jakehirst/miniconda3/envs/tfp_env/lib/python3.10/site-packages/sklearn/base.py:1151: DataConversionWarning: A column-vector y was passed when a 1d array was expected. Please change the shape of y to (n_samples,), for example using ravel().\n",
      "  return fit_method(estimator, *args, **kwargs)\n"
     ]
    },
    {
     "name": "stdout",
     "output_type": "stream",
     "text": [
      "Working on fold 2\n"
     ]
    },
    {
     "name": "stderr",
     "output_type": "stream",
     "text": [
      "/Users/jakehirst/miniconda3/envs/tfp_env/lib/python3.10/site-packages/sklearn/base.py:1151: DataConversionWarning: A column-vector y was passed when a 1d array was expected. Please change the shape of y to (n_samples,), for example using ravel().\n",
      "  return fit_method(estimator, *args, **kwargs)\n"
     ]
    },
    {
     "name": "stdout",
     "output_type": "stream",
     "text": [
      "Working on fold 3\n"
     ]
    },
    {
     "name": "stderr",
     "output_type": "stream",
     "text": [
      "/Users/jakehirst/miniconda3/envs/tfp_env/lib/python3.10/site-packages/sklearn/base.py:1151: DataConversionWarning: A column-vector y was passed when a 1d array was expected. Please change the shape of y to (n_samples,), for example using ravel().\n",
      "  return fit_method(estimator, *args, **kwargs)\n"
     ]
    },
    {
     "name": "stdout",
     "output_type": "stream",
     "text": [
      "Working on fold 4\n"
     ]
    },
    {
     "name": "stderr",
     "output_type": "stream",
     "text": [
      "/Users/jakehirst/miniconda3/envs/tfp_env/lib/python3.10/site-packages/sklearn/base.py:1151: DataConversionWarning: A column-vector y was passed when a 1d array was expected. Please change the shape of y to (n_samples,), for example using ravel().\n",
      "  return fit_method(estimator, *args, **kwargs)\n"
     ]
    },
    {
     "name": "stdout",
     "output_type": "stream",
     "text": [
      "Working on fold 5\n"
     ]
    },
    {
     "name": "stderr",
     "output_type": "stream",
     "text": [
      "/Users/jakehirst/miniconda3/envs/tfp_env/lib/python3.10/site-packages/sklearn/base.py:1151: DataConversionWarning: A column-vector y was passed when a 1d array was expected. Please change the shape of y to (n_samples,), for example using ravel().\n",
      "  return fit_method(estimator, *args, **kwargs)\n"
     ]
    },
    {
     "name": "stdout",
     "output_type": "stream",
     "text": [
      "\n",
      "removing these features: \n",
      "['dist btw frts (unchanged)', 'crack len * max thickness', 'crack len * median_kink', 'crack len + init y', 'crack len * dist btw frts', 'dist btw frts + init x', 'crack len + std_kink', 'abs_val_sum_kink * std_kink']\n",
      "Working on fold 1\n"
     ]
    },
    {
     "name": "stderr",
     "output_type": "stream",
     "text": [
      "/Users/jakehirst/miniconda3/envs/tfp_env/lib/python3.10/site-packages/sklearn/base.py:1151: DataConversionWarning: A column-vector y was passed when a 1d array was expected. Please change the shape of y to (n_samples,), for example using ravel().\n",
      "  return fit_method(estimator, *args, **kwargs)\n"
     ]
    },
    {
     "name": "stdout",
     "output_type": "stream",
     "text": [
      "Working on fold 2\n"
     ]
    },
    {
     "name": "stderr",
     "output_type": "stream",
     "text": [
      "/Users/jakehirst/miniconda3/envs/tfp_env/lib/python3.10/site-packages/sklearn/base.py:1151: DataConversionWarning: A column-vector y was passed when a 1d array was expected. Please change the shape of y to (n_samples,), for example using ravel().\n",
      "  return fit_method(estimator, *args, **kwargs)\n"
     ]
    },
    {
     "name": "stdout",
     "output_type": "stream",
     "text": [
      "Working on fold 3\n"
     ]
    },
    {
     "name": "stderr",
     "output_type": "stream",
     "text": [
      "/Users/jakehirst/miniconda3/envs/tfp_env/lib/python3.10/site-packages/sklearn/base.py:1151: DataConversionWarning: A column-vector y was passed when a 1d array was expected. Please change the shape of y to (n_samples,), for example using ravel().\n",
      "  return fit_method(estimator, *args, **kwargs)\n"
     ]
    },
    {
     "name": "stdout",
     "output_type": "stream",
     "text": [
      "Working on fold 4\n"
     ]
    },
    {
     "name": "stderr",
     "output_type": "stream",
     "text": [
      "/Users/jakehirst/miniconda3/envs/tfp_env/lib/python3.10/site-packages/sklearn/base.py:1151: DataConversionWarning: A column-vector y was passed when a 1d array was expected. Please change the shape of y to (n_samples,), for example using ravel().\n",
      "  return fit_method(estimator, *args, **kwargs)\n"
     ]
    },
    {
     "name": "stdout",
     "output_type": "stream",
     "text": [
      "Working on fold 5\n"
     ]
    },
    {
     "name": "stderr",
     "output_type": "stream",
     "text": [
      "/Users/jakehirst/miniconda3/envs/tfp_env/lib/python3.10/site-packages/sklearn/base.py:1151: DataConversionWarning: A column-vector y was passed when a 1d array was expected. Please change the shape of y to (n_samples,), for example using ravel().\n",
      "  return fit_method(estimator, *args, **kwargs)\n"
     ]
    },
    {
     "name": "stdout",
     "output_type": "stream",
     "text": [
      "\n",
      "removing these features: \n",
      "['crack len + max thickness', 'abs_val_sum_kink + max_prop_speed', 'dist btw frts * mean_kink', 'abs_val_mean_kink * dist btw frts', 'abs_val_sum_kink * max_prop_speed', 'dist btw frts * init y', 'abs_val_sum_kink * max thickness', 'exp(dist btw frts)']\n",
      "Working on fold 1\n"
     ]
    },
    {
     "name": "stderr",
     "output_type": "stream",
     "text": [
      "/Users/jakehirst/miniconda3/envs/tfp_env/lib/python3.10/site-packages/sklearn/base.py:1151: DataConversionWarning: A column-vector y was passed when a 1d array was expected. Please change the shape of y to (n_samples,), for example using ravel().\n",
      "  return fit_method(estimator, *args, **kwargs)\n"
     ]
    },
    {
     "name": "stdout",
     "output_type": "stream",
     "text": [
      "Working on fold 2\n"
     ]
    },
    {
     "name": "stderr",
     "output_type": "stream",
     "text": [
      "/Users/jakehirst/miniconda3/envs/tfp_env/lib/python3.10/site-packages/sklearn/base.py:1151: DataConversionWarning: A column-vector y was passed when a 1d array was expected. Please change the shape of y to (n_samples,), for example using ravel().\n",
      "  return fit_method(estimator, *args, **kwargs)\n"
     ]
    },
    {
     "name": "stdout",
     "output_type": "stream",
     "text": [
      "Working on fold 3\n"
     ]
    },
    {
     "name": "stderr",
     "output_type": "stream",
     "text": [
      "/Users/jakehirst/miniconda3/envs/tfp_env/lib/python3.10/site-packages/sklearn/base.py:1151: DataConversionWarning: A column-vector y was passed when a 1d array was expected. Please change the shape of y to (n_samples,), for example using ravel().\n",
      "  return fit_method(estimator, *args, **kwargs)\n"
     ]
    },
    {
     "name": "stdout",
     "output_type": "stream",
     "text": [
      "Working on fold 4\n"
     ]
    },
    {
     "name": "stderr",
     "output_type": "stream",
     "text": [
      "/Users/jakehirst/miniconda3/envs/tfp_env/lib/python3.10/site-packages/sklearn/base.py:1151: DataConversionWarning: A column-vector y was passed when a 1d array was expected. Please change the shape of y to (n_samples,), for example using ravel().\n",
      "  return fit_method(estimator, *args, **kwargs)\n"
     ]
    },
    {
     "name": "stdout",
     "output_type": "stream",
     "text": [
      "Working on fold 5\n"
     ]
    },
    {
     "name": "stderr",
     "output_type": "stream",
     "text": [
      "/Users/jakehirst/miniconda3/envs/tfp_env/lib/python3.10/site-packages/sklearn/base.py:1151: DataConversionWarning: A column-vector y was passed when a 1d array was expected. Please change the shape of y to (n_samples,), for example using ravel().\n",
      "  return fit_method(estimator, *args, **kwargs)\n"
     ]
    },
    {
     "name": "stdout",
     "output_type": "stream",
     "text": [
      "\n",
      "removing these features: \n",
      "['abs_val_sum_kink / abs_val_mean_kink', 'max thickness + max_prop_speed', 'init z + timestep_init', 'dist btw frts + max thickness', 'dist btw frts + mean thickness', 'sum_kink + timestep_init', 'mean_kink * timestep_init']\n",
      "Working on fold 1\n"
     ]
    },
    {
     "name": "stderr",
     "output_type": "stream",
     "text": [
      "/Users/jakehirst/miniconda3/envs/tfp_env/lib/python3.10/site-packages/sklearn/base.py:1151: DataConversionWarning: A column-vector y was passed when a 1d array was expected. Please change the shape of y to (n_samples,), for example using ravel().\n",
      "  return fit_method(estimator, *args, **kwargs)\n"
     ]
    },
    {
     "name": "stdout",
     "output_type": "stream",
     "text": [
      "Working on fold 2\n"
     ]
    },
    {
     "name": "stderr",
     "output_type": "stream",
     "text": [
      "/Users/jakehirst/miniconda3/envs/tfp_env/lib/python3.10/site-packages/sklearn/base.py:1151: DataConversionWarning: A column-vector y was passed when a 1d array was expected. Please change the shape of y to (n_samples,), for example using ravel().\n",
      "  return fit_method(estimator, *args, **kwargs)\n"
     ]
    },
    {
     "name": "stdout",
     "output_type": "stream",
     "text": [
      "Working on fold 3\n"
     ]
    },
    {
     "name": "stderr",
     "output_type": "stream",
     "text": [
      "/Users/jakehirst/miniconda3/envs/tfp_env/lib/python3.10/site-packages/sklearn/base.py:1151: DataConversionWarning: A column-vector y was passed when a 1d array was expected. Please change the shape of y to (n_samples,), for example using ravel().\n",
      "  return fit_method(estimator, *args, **kwargs)\n"
     ]
    },
    {
     "name": "stdout",
     "output_type": "stream",
     "text": [
      "Working on fold 4\n"
     ]
    },
    {
     "name": "stderr",
     "output_type": "stream",
     "text": [
      "/Users/jakehirst/miniconda3/envs/tfp_env/lib/python3.10/site-packages/sklearn/base.py:1151: DataConversionWarning: A column-vector y was passed when a 1d array was expected. Please change the shape of y to (n_samples,), for example using ravel().\n",
      "  return fit_method(estimator, *args, **kwargs)\n"
     ]
    },
    {
     "name": "stdout",
     "output_type": "stream",
     "text": [
      "Working on fold 5\n"
     ]
    },
    {
     "name": "stderr",
     "output_type": "stream",
     "text": [
      "/Users/jakehirst/miniconda3/envs/tfp_env/lib/python3.10/site-packages/sklearn/base.py:1151: DataConversionWarning: A column-vector y was passed when a 1d array was expected. Please change the shape of y to (n_samples,), for example using ravel().\n",
      "  return fit_method(estimator, *args, **kwargs)\n"
     ]
    },
    {
     "name": "stdout",
     "output_type": "stream",
     "text": [
      "\n",
      "removing these features: \n",
      "['abs_val_sum_kink * sum_kink', 'abs_val_mean_kink * crack len', 'sqrt(dist btw frts)', 'timestep_init + var_kink', 'linearity + timestep_init', 'dist btw frts * var_kink']\n",
      "Working on fold 1\n"
     ]
    },
    {
     "name": "stderr",
     "output_type": "stream",
     "text": [
      "/Users/jakehirst/miniconda3/envs/tfp_env/lib/python3.10/site-packages/sklearn/base.py:1151: DataConversionWarning: A column-vector y was passed when a 1d array was expected. Please change the shape of y to (n_samples,), for example using ravel().\n",
      "  return fit_method(estimator, *args, **kwargs)\n"
     ]
    },
    {
     "name": "stdout",
     "output_type": "stream",
     "text": [
      "Working on fold 2\n"
     ]
    },
    {
     "name": "stderr",
     "output_type": "stream",
     "text": [
      "/Users/jakehirst/miniconda3/envs/tfp_env/lib/python3.10/site-packages/sklearn/base.py:1151: DataConversionWarning: A column-vector y was passed when a 1d array was expected. Please change the shape of y to (n_samples,), for example using ravel().\n",
      "  return fit_method(estimator, *args, **kwargs)\n"
     ]
    },
    {
     "name": "stdout",
     "output_type": "stream",
     "text": [
      "Working on fold 3\n"
     ]
    },
    {
     "name": "stderr",
     "output_type": "stream",
     "text": [
      "/Users/jakehirst/miniconda3/envs/tfp_env/lib/python3.10/site-packages/sklearn/base.py:1151: DataConversionWarning: A column-vector y was passed when a 1d array was expected. Please change the shape of y to (n_samples,), for example using ravel().\n",
      "  return fit_method(estimator, *args, **kwargs)\n"
     ]
    },
    {
     "name": "stdout",
     "output_type": "stream",
     "text": [
      "Working on fold 4\n"
     ]
    },
    {
     "name": "stderr",
     "output_type": "stream",
     "text": [
      "/Users/jakehirst/miniconda3/envs/tfp_env/lib/python3.10/site-packages/sklearn/base.py:1151: DataConversionWarning: A column-vector y was passed when a 1d array was expected. Please change the shape of y to (n_samples,), for example using ravel().\n",
      "  return fit_method(estimator, *args, **kwargs)\n"
     ]
    },
    {
     "name": "stdout",
     "output_type": "stream",
     "text": [
      "Working on fold 5\n"
     ]
    },
    {
     "name": "stderr",
     "output_type": "stream",
     "text": [
      "/Users/jakehirst/miniconda3/envs/tfp_env/lib/python3.10/site-packages/sklearn/base.py:1151: DataConversionWarning: A column-vector y was passed when a 1d array was expected. Please change the shape of y to (n_samples,), for example using ravel().\n",
      "  return fit_method(estimator, *args, **kwargs)\n"
     ]
    },
    {
     "name": "stdout",
     "output_type": "stream",
     "text": [
      "\n",
      "removing these features: \n",
      "['dist btw frts * max_kink', 'dist btw frts + median_thickness', 'dist btw frts + init y', 'crack len + median_thickness', 'dist btw frts + max_kink', 'crack len * var_kink']\n",
      "Working on fold 1\n"
     ]
    },
    {
     "name": "stderr",
     "output_type": "stream",
     "text": [
      "/Users/jakehirst/miniconda3/envs/tfp_env/lib/python3.10/site-packages/sklearn/base.py:1151: DataConversionWarning: A column-vector y was passed when a 1d array was expected. Please change the shape of y to (n_samples,), for example using ravel().\n",
      "  return fit_method(estimator, *args, **kwargs)\n"
     ]
    },
    {
     "name": "stdout",
     "output_type": "stream",
     "text": [
      "Working on fold 2\n"
     ]
    },
    {
     "name": "stderr",
     "output_type": "stream",
     "text": [
      "/Users/jakehirst/miniconda3/envs/tfp_env/lib/python3.10/site-packages/sklearn/base.py:1151: DataConversionWarning: A column-vector y was passed when a 1d array was expected. Please change the shape of y to (n_samples,), for example using ravel().\n",
      "  return fit_method(estimator, *args, **kwargs)\n"
     ]
    },
    {
     "name": "stdout",
     "output_type": "stream",
     "text": [
      "Working on fold 3\n"
     ]
    },
    {
     "name": "stderr",
     "output_type": "stream",
     "text": [
      "/Users/jakehirst/miniconda3/envs/tfp_env/lib/python3.10/site-packages/sklearn/base.py:1151: DataConversionWarning: A column-vector y was passed when a 1d array was expected. Please change the shape of y to (n_samples,), for example using ravel().\n",
      "  return fit_method(estimator, *args, **kwargs)\n"
     ]
    },
    {
     "name": "stdout",
     "output_type": "stream",
     "text": [
      "Working on fold 4\n"
     ]
    },
    {
     "name": "stderr",
     "output_type": "stream",
     "text": [
      "/Users/jakehirst/miniconda3/envs/tfp_env/lib/python3.10/site-packages/sklearn/base.py:1151: DataConversionWarning: A column-vector y was passed when a 1d array was expected. Please change the shape of y to (n_samples,), for example using ravel().\n",
      "  return fit_method(estimator, *args, **kwargs)\n"
     ]
    },
    {
     "name": "stdout",
     "output_type": "stream",
     "text": [
      "Working on fold 5\n"
     ]
    },
    {
     "name": "stderr",
     "output_type": "stream",
     "text": [
      "/Users/jakehirst/miniconda3/envs/tfp_env/lib/python3.10/site-packages/sklearn/base.py:1151: DataConversionWarning: A column-vector y was passed when a 1d array was expected. Please change the shape of y to (n_samples,), for example using ravel().\n",
      "  return fit_method(estimator, *args, **kwargs)\n"
     ]
    },
    {
     "name": "stdout",
     "output_type": "stream",
     "text": [
      "\n",
      "removing these features: \n",
      "['abs_val_sum_kink * mean thickness', 'dist btw frts + std_kink', 'avg_prop_speed - abs_val_sum_kink', 'crack len * max_kink', 'abs_val_sum_kink * init y']\n",
      "Working on fold 1\n"
     ]
    },
    {
     "name": "stderr",
     "output_type": "stream",
     "text": [
      "/Users/jakehirst/miniconda3/envs/tfp_env/lib/python3.10/site-packages/sklearn/base.py:1151: DataConversionWarning: A column-vector y was passed when a 1d array was expected. Please change the shape of y to (n_samples,), for example using ravel().\n",
      "  return fit_method(estimator, *args, **kwargs)\n"
     ]
    },
    {
     "name": "stdout",
     "output_type": "stream",
     "text": [
      "Working on fold 2\n"
     ]
    },
    {
     "name": "stderr",
     "output_type": "stream",
     "text": [
      "/Users/jakehirst/miniconda3/envs/tfp_env/lib/python3.10/site-packages/sklearn/base.py:1151: DataConversionWarning: A column-vector y was passed when a 1d array was expected. Please change the shape of y to (n_samples,), for example using ravel().\n",
      "  return fit_method(estimator, *args, **kwargs)\n"
     ]
    },
    {
     "name": "stdout",
     "output_type": "stream",
     "text": [
      "Working on fold 3\n"
     ]
    },
    {
     "name": "stderr",
     "output_type": "stream",
     "text": [
      "/Users/jakehirst/miniconda3/envs/tfp_env/lib/python3.10/site-packages/sklearn/base.py:1151: DataConversionWarning: A column-vector y was passed when a 1d array was expected. Please change the shape of y to (n_samples,), for example using ravel().\n",
      "  return fit_method(estimator, *args, **kwargs)\n"
     ]
    },
    {
     "name": "stdout",
     "output_type": "stream",
     "text": [
      "Working on fold 4\n"
     ]
    },
    {
     "name": "stderr",
     "output_type": "stream",
     "text": [
      "/Users/jakehirst/miniconda3/envs/tfp_env/lib/python3.10/site-packages/sklearn/base.py:1151: DataConversionWarning: A column-vector y was passed when a 1d array was expected. Please change the shape of y to (n_samples,), for example using ravel().\n",
      "  return fit_method(estimator, *args, **kwargs)\n"
     ]
    },
    {
     "name": "stdout",
     "output_type": "stream",
     "text": [
      "Working on fold 5\n"
     ]
    },
    {
     "name": "stderr",
     "output_type": "stream",
     "text": [
      "/Users/jakehirst/miniconda3/envs/tfp_env/lib/python3.10/site-packages/sklearn/base.py:1151: DataConversionWarning: A column-vector y was passed when a 1d array was expected. Please change the shape of y to (n_samples,), for example using ravel().\n",
      "  return fit_method(estimator, *args, **kwargs)\n"
     ]
    },
    {
     "name": "stdout",
     "output_type": "stream",
     "text": [
      "\n",
      "removing these features: \n",
      "['abs_val_sum_kink - avg_prop_speed', 'crack len + max_kink', 'sqrt(abs_val_sum_kink)', 'abs_val_sum_kink (unchanged)']\n",
      "Working on fold 1\n"
     ]
    },
    {
     "name": "stderr",
     "output_type": "stream",
     "text": [
      "/Users/jakehirst/miniconda3/envs/tfp_env/lib/python3.10/site-packages/sklearn/base.py:1151: DataConversionWarning: A column-vector y was passed when a 1d array was expected. Please change the shape of y to (n_samples,), for example using ravel().\n",
      "  return fit_method(estimator, *args, **kwargs)\n"
     ]
    },
    {
     "name": "stdout",
     "output_type": "stream",
     "text": [
      "Working on fold 2\n"
     ]
    },
    {
     "name": "stderr",
     "output_type": "stream",
     "text": [
      "/Users/jakehirst/miniconda3/envs/tfp_env/lib/python3.10/site-packages/sklearn/base.py:1151: DataConversionWarning: A column-vector y was passed when a 1d array was expected. Please change the shape of y to (n_samples,), for example using ravel().\n",
      "  return fit_method(estimator, *args, **kwargs)\n"
     ]
    },
    {
     "name": "stdout",
     "output_type": "stream",
     "text": [
      "Working on fold 3\n"
     ]
    },
    {
     "name": "stderr",
     "output_type": "stream",
     "text": [
      "/Users/jakehirst/miniconda3/envs/tfp_env/lib/python3.10/site-packages/sklearn/base.py:1151: DataConversionWarning: A column-vector y was passed when a 1d array was expected. Please change the shape of y to (n_samples,), for example using ravel().\n",
      "  return fit_method(estimator, *args, **kwargs)\n"
     ]
    },
    {
     "name": "stdout",
     "output_type": "stream",
     "text": [
      "Working on fold 4\n"
     ]
    },
    {
     "name": "stderr",
     "output_type": "stream",
     "text": [
      "/Users/jakehirst/miniconda3/envs/tfp_env/lib/python3.10/site-packages/sklearn/base.py:1151: DataConversionWarning: A column-vector y was passed when a 1d array was expected. Please change the shape of y to (n_samples,), for example using ravel().\n",
      "  return fit_method(estimator, *args, **kwargs)\n"
     ]
    },
    {
     "name": "stdout",
     "output_type": "stream",
     "text": [
      "Working on fold 5\n"
     ]
    },
    {
     "name": "stderr",
     "output_type": "stream",
     "text": [
      "/Users/jakehirst/miniconda3/envs/tfp_env/lib/python3.10/site-packages/sklearn/base.py:1151: DataConversionWarning: A column-vector y was passed when a 1d array was expected. Please change the shape of y to (n_samples,), for example using ravel().\n",
      "  return fit_method(estimator, *args, **kwargs)\n"
     ]
    },
    {
     "name": "stdout",
     "output_type": "stream",
     "text": [
      "\n",
      "removing these features: \n",
      "['abs_val_sum_kink + crack len', 'avg_ori + timestep_init', 'crack len * std_kink', 'abs_val_sum_kink - linearity']\n",
      "Working on fold 1\n"
     ]
    },
    {
     "name": "stderr",
     "output_type": "stream",
     "text": [
      "/Users/jakehirst/miniconda3/envs/tfp_env/lib/python3.10/site-packages/sklearn/base.py:1151: DataConversionWarning: A column-vector y was passed when a 1d array was expected. Please change the shape of y to (n_samples,), for example using ravel().\n",
      "  return fit_method(estimator, *args, **kwargs)\n"
     ]
    },
    {
     "name": "stdout",
     "output_type": "stream",
     "text": [
      "Working on fold 2\n"
     ]
    },
    {
     "name": "stderr",
     "output_type": "stream",
     "text": [
      "/Users/jakehirst/miniconda3/envs/tfp_env/lib/python3.10/site-packages/sklearn/base.py:1151: DataConversionWarning: A column-vector y was passed when a 1d array was expected. Please change the shape of y to (n_samples,), for example using ravel().\n",
      "  return fit_method(estimator, *args, **kwargs)\n"
     ]
    },
    {
     "name": "stdout",
     "output_type": "stream",
     "text": [
      "Working on fold 3\n"
     ]
    },
    {
     "name": "stderr",
     "output_type": "stream",
     "text": [
      "/Users/jakehirst/miniconda3/envs/tfp_env/lib/python3.10/site-packages/sklearn/base.py:1151: DataConversionWarning: A column-vector y was passed when a 1d array was expected. Please change the shape of y to (n_samples,), for example using ravel().\n",
      "  return fit_method(estimator, *args, **kwargs)\n"
     ]
    },
    {
     "name": "stdout",
     "output_type": "stream",
     "text": [
      "Working on fold 4\n"
     ]
    },
    {
     "name": "stderr",
     "output_type": "stream",
     "text": [
      "/Users/jakehirst/miniconda3/envs/tfp_env/lib/python3.10/site-packages/sklearn/base.py:1151: DataConversionWarning: A column-vector y was passed when a 1d array was expected. Please change the shape of y to (n_samples,), for example using ravel().\n",
      "  return fit_method(estimator, *args, **kwargs)\n"
     ]
    },
    {
     "name": "stdout",
     "output_type": "stream",
     "text": [
      "Working on fold 5\n"
     ]
    },
    {
     "name": "stderr",
     "output_type": "stream",
     "text": [
      "/Users/jakehirst/miniconda3/envs/tfp_env/lib/python3.10/site-packages/sklearn/base.py:1151: DataConversionWarning: A column-vector y was passed when a 1d array was expected. Please change the shape of y to (n_samples,), for example using ravel().\n",
      "  return fit_method(estimator, *args, **kwargs)\n"
     ]
    },
    {
     "name": "stdout",
     "output_type": "stream",
     "text": [
      "\n",
      "removing these features: \n",
      "['abs_val_sum_kink^2', 'abs_val_sum_kink^3', 'abs_val_sum_kink * mean_kink', 'dist btw frts + var_kink']\n",
      "Working on fold 1\n"
     ]
    },
    {
     "name": "stderr",
     "output_type": "stream",
     "text": [
      "/Users/jakehirst/miniconda3/envs/tfp_env/lib/python3.10/site-packages/sklearn/base.py:1151: DataConversionWarning: A column-vector y was passed when a 1d array was expected. Please change the shape of y to (n_samples,), for example using ravel().\n",
      "  return fit_method(estimator, *args, **kwargs)\n"
     ]
    },
    {
     "name": "stdout",
     "output_type": "stream",
     "text": [
      "Working on fold 2\n"
     ]
    },
    {
     "name": "stderr",
     "output_type": "stream",
     "text": [
      "/Users/jakehirst/miniconda3/envs/tfp_env/lib/python3.10/site-packages/sklearn/base.py:1151: DataConversionWarning: A column-vector y was passed when a 1d array was expected. Please change the shape of y to (n_samples,), for example using ravel().\n",
      "  return fit_method(estimator, *args, **kwargs)\n"
     ]
    },
    {
     "name": "stdout",
     "output_type": "stream",
     "text": [
      "Working on fold 3\n"
     ]
    },
    {
     "name": "stderr",
     "output_type": "stream",
     "text": [
      "/Users/jakehirst/miniconda3/envs/tfp_env/lib/python3.10/site-packages/sklearn/base.py:1151: DataConversionWarning: A column-vector y was passed when a 1d array was expected. Please change the shape of y to (n_samples,), for example using ravel().\n",
      "  return fit_method(estimator, *args, **kwargs)\n"
     ]
    },
    {
     "name": "stdout",
     "output_type": "stream",
     "text": [
      "Working on fold 4\n"
     ]
    },
    {
     "name": "stderr",
     "output_type": "stream",
     "text": [
      "/Users/jakehirst/miniconda3/envs/tfp_env/lib/python3.10/site-packages/sklearn/base.py:1151: DataConversionWarning: A column-vector y was passed when a 1d array was expected. Please change the shape of y to (n_samples,), for example using ravel().\n",
      "  return fit_method(estimator, *args, **kwargs)\n"
     ]
    },
    {
     "name": "stdout",
     "output_type": "stream",
     "text": [
      "Working on fold 5\n"
     ]
    },
    {
     "name": "stderr",
     "output_type": "stream",
     "text": [
      "/Users/jakehirst/miniconda3/envs/tfp_env/lib/python3.10/site-packages/sklearn/base.py:1151: DataConversionWarning: A column-vector y was passed when a 1d array was expected. Please change the shape of y to (n_samples,), for example using ravel().\n",
      "  return fit_method(estimator, *args, **kwargs)\n"
     ]
    },
    {
     "name": "stdout",
     "output_type": "stream",
     "text": [
      "\n",
      "removing these features: \n",
      "['abs_val_sum_kink * crack len', 'abs_val_mean_kink * timestep_init', 'linearity - abs_val_sum_kink']\n",
      "Working on fold 1\n"
     ]
    },
    {
     "name": "stderr",
     "output_type": "stream",
     "text": [
      "/Users/jakehirst/miniconda3/envs/tfp_env/lib/python3.10/site-packages/sklearn/base.py:1151: DataConversionWarning: A column-vector y was passed when a 1d array was expected. Please change the shape of y to (n_samples,), for example using ravel().\n",
      "  return fit_method(estimator, *args, **kwargs)\n"
     ]
    },
    {
     "name": "stdout",
     "output_type": "stream",
     "text": [
      "Working on fold 2\n"
     ]
    },
    {
     "name": "stderr",
     "output_type": "stream",
     "text": [
      "/Users/jakehirst/miniconda3/envs/tfp_env/lib/python3.10/site-packages/sklearn/base.py:1151: DataConversionWarning: A column-vector y was passed when a 1d array was expected. Please change the shape of y to (n_samples,), for example using ravel().\n",
      "  return fit_method(estimator, *args, **kwargs)\n"
     ]
    },
    {
     "name": "stdout",
     "output_type": "stream",
     "text": [
      "Working on fold 3\n"
     ]
    },
    {
     "name": "stderr",
     "output_type": "stream",
     "text": [
      "/Users/jakehirst/miniconda3/envs/tfp_env/lib/python3.10/site-packages/sklearn/base.py:1151: DataConversionWarning: A column-vector y was passed when a 1d array was expected. Please change the shape of y to (n_samples,), for example using ravel().\n",
      "  return fit_method(estimator, *args, **kwargs)\n"
     ]
    },
    {
     "name": "stdout",
     "output_type": "stream",
     "text": [
      "Working on fold 4\n"
     ]
    },
    {
     "name": "stderr",
     "output_type": "stream",
     "text": [
      "/Users/jakehirst/miniconda3/envs/tfp_env/lib/python3.10/site-packages/sklearn/base.py:1151: DataConversionWarning: A column-vector y was passed when a 1d array was expected. Please change the shape of y to (n_samples,), for example using ravel().\n",
      "  return fit_method(estimator, *args, **kwargs)\n"
     ]
    },
    {
     "name": "stdout",
     "output_type": "stream",
     "text": [
      "Working on fold 5\n"
     ]
    },
    {
     "name": "stderr",
     "output_type": "stream",
     "text": [
      "/Users/jakehirst/miniconda3/envs/tfp_env/lib/python3.10/site-packages/sklearn/base.py:1151: DataConversionWarning: A column-vector y was passed when a 1d array was expected. Please change the shape of y to (n_samples,), for example using ravel().\n",
      "  return fit_method(estimator, *args, **kwargs)\n"
     ]
    },
    {
     "name": "stdout",
     "output_type": "stream",
     "text": [
      "\n",
      "removing these features: \n",
      "['avg_prop_speed + timestep_init', 'crack len + var_kink', 'median_kink * timestep_init']\n",
      "Working on fold 1\n"
     ]
    },
    {
     "name": "stderr",
     "output_type": "stream",
     "text": [
      "/Users/jakehirst/miniconda3/envs/tfp_env/lib/python3.10/site-packages/sklearn/base.py:1151: DataConversionWarning: A column-vector y was passed when a 1d array was expected. Please change the shape of y to (n_samples,), for example using ravel().\n",
      "  return fit_method(estimator, *args, **kwargs)\n"
     ]
    },
    {
     "name": "stdout",
     "output_type": "stream",
     "text": [
      "Working on fold 2\n"
     ]
    },
    {
     "name": "stderr",
     "output_type": "stream",
     "text": [
      "/Users/jakehirst/miniconda3/envs/tfp_env/lib/python3.10/site-packages/sklearn/base.py:1151: DataConversionWarning: A column-vector y was passed when a 1d array was expected. Please change the shape of y to (n_samples,), for example using ravel().\n",
      "  return fit_method(estimator, *args, **kwargs)\n"
     ]
    },
    {
     "name": "stdout",
     "output_type": "stream",
     "text": [
      "Working on fold 3\n"
     ]
    },
    {
     "name": "stderr",
     "output_type": "stream",
     "text": [
      "/Users/jakehirst/miniconda3/envs/tfp_env/lib/python3.10/site-packages/sklearn/base.py:1151: DataConversionWarning: A column-vector y was passed when a 1d array was expected. Please change the shape of y to (n_samples,), for example using ravel().\n",
      "  return fit_method(estimator, *args, **kwargs)\n"
     ]
    },
    {
     "name": "stdout",
     "output_type": "stream",
     "text": [
      "Working on fold 4\n"
     ]
    },
    {
     "name": "stderr",
     "output_type": "stream",
     "text": [
      "/Users/jakehirst/miniconda3/envs/tfp_env/lib/python3.10/site-packages/sklearn/base.py:1151: DataConversionWarning: A column-vector y was passed when a 1d array was expected. Please change the shape of y to (n_samples,), for example using ravel().\n",
      "  return fit_method(estimator, *args, **kwargs)\n"
     ]
    },
    {
     "name": "stdout",
     "output_type": "stream",
     "text": [
      "Working on fold 5\n"
     ]
    },
    {
     "name": "stderr",
     "output_type": "stream",
     "text": [
      "/Users/jakehirst/miniconda3/envs/tfp_env/lib/python3.10/site-packages/sklearn/base.py:1151: DataConversionWarning: A column-vector y was passed when a 1d array was expected. Please change the shape of y to (n_samples,), for example using ravel().\n",
      "  return fit_method(estimator, *args, **kwargs)\n"
     ]
    },
    {
     "name": "stdout",
     "output_type": "stream",
     "text": [
      "\n",
      "removing these features: \n",
      "['dist btw frts * std_kink', 'abs_val_mean_kink + timestep_init', 'crack len * init y']\n",
      "Working on fold 1\n"
     ]
    },
    {
     "name": "stderr",
     "output_type": "stream",
     "text": [
      "/Users/jakehirst/miniconda3/envs/tfp_env/lib/python3.10/site-packages/sklearn/base.py:1151: DataConversionWarning: A column-vector y was passed when a 1d array was expected. Please change the shape of y to (n_samples,), for example using ravel().\n",
      "  return fit_method(estimator, *args, **kwargs)\n"
     ]
    },
    {
     "name": "stdout",
     "output_type": "stream",
     "text": [
      "Working on fold 2\n"
     ]
    },
    {
     "name": "stderr",
     "output_type": "stream",
     "text": [
      "/Users/jakehirst/miniconda3/envs/tfp_env/lib/python3.10/site-packages/sklearn/base.py:1151: DataConversionWarning: A column-vector y was passed when a 1d array was expected. Please change the shape of y to (n_samples,), for example using ravel().\n",
      "  return fit_method(estimator, *args, **kwargs)\n"
     ]
    },
    {
     "name": "stdout",
     "output_type": "stream",
     "text": [
      "Working on fold 3\n"
     ]
    },
    {
     "name": "stderr",
     "output_type": "stream",
     "text": [
      "/Users/jakehirst/miniconda3/envs/tfp_env/lib/python3.10/site-packages/sklearn/base.py:1151: DataConversionWarning: A column-vector y was passed when a 1d array was expected. Please change the shape of y to (n_samples,), for example using ravel().\n",
      "  return fit_method(estimator, *args, **kwargs)\n"
     ]
    },
    {
     "name": "stdout",
     "output_type": "stream",
     "text": [
      "Working on fold 4\n"
     ]
    },
    {
     "name": "stderr",
     "output_type": "stream",
     "text": [
      "/Users/jakehirst/miniconda3/envs/tfp_env/lib/python3.10/site-packages/sklearn/base.py:1151: DataConversionWarning: A column-vector y was passed when a 1d array was expected. Please change the shape of y to (n_samples,), for example using ravel().\n",
      "  return fit_method(estimator, *args, **kwargs)\n"
     ]
    },
    {
     "name": "stdout",
     "output_type": "stream",
     "text": [
      "Working on fold 5\n"
     ]
    },
    {
     "name": "stderr",
     "output_type": "stream",
     "text": [
      "/Users/jakehirst/miniconda3/envs/tfp_env/lib/python3.10/site-packages/sklearn/base.py:1151: DataConversionWarning: A column-vector y was passed when a 1d array was expected. Please change the shape of y to (n_samples,), for example using ravel().\n",
      "  return fit_method(estimator, *args, **kwargs)\n"
     ]
    },
    {
     "name": "stdout",
     "output_type": "stream",
     "text": [
      "\n",
      "removing these features: \n",
      "['abs_val_sum_kink + dist btw frts']\n",
      "Working on fold 1\n"
     ]
    },
    {
     "name": "stderr",
     "output_type": "stream",
     "text": [
      "/Users/jakehirst/miniconda3/envs/tfp_env/lib/python3.10/site-packages/sklearn/base.py:1151: DataConversionWarning: A column-vector y was passed when a 1d array was expected. Please change the shape of y to (n_samples,), for example using ravel().\n",
      "  return fit_method(estimator, *args, **kwargs)\n"
     ]
    },
    {
     "name": "stdout",
     "output_type": "stream",
     "text": [
      "Working on fold 2\n"
     ]
    },
    {
     "name": "stderr",
     "output_type": "stream",
     "text": [
      "/Users/jakehirst/miniconda3/envs/tfp_env/lib/python3.10/site-packages/sklearn/base.py:1151: DataConversionWarning: A column-vector y was passed when a 1d array was expected. Please change the shape of y to (n_samples,), for example using ravel().\n",
      "  return fit_method(estimator, *args, **kwargs)\n"
     ]
    },
    {
     "name": "stdout",
     "output_type": "stream",
     "text": [
      "Working on fold 3\n"
     ]
    },
    {
     "name": "stderr",
     "output_type": "stream",
     "text": [
      "/Users/jakehirst/miniconda3/envs/tfp_env/lib/python3.10/site-packages/sklearn/base.py:1151: DataConversionWarning: A column-vector y was passed when a 1d array was expected. Please change the shape of y to (n_samples,), for example using ravel().\n",
      "  return fit_method(estimator, *args, **kwargs)\n"
     ]
    },
    {
     "name": "stdout",
     "output_type": "stream",
     "text": [
      "Working on fold 4\n"
     ]
    },
    {
     "name": "stderr",
     "output_type": "stream",
     "text": [
      "/Users/jakehirst/miniconda3/envs/tfp_env/lib/python3.10/site-packages/sklearn/base.py:1151: DataConversionWarning: A column-vector y was passed when a 1d array was expected. Please change the shape of y to (n_samples,), for example using ravel().\n",
      "  return fit_method(estimator, *args, **kwargs)\n"
     ]
    },
    {
     "name": "stdout",
     "output_type": "stream",
     "text": [
      "Working on fold 5\n"
     ]
    },
    {
     "name": "stderr",
     "output_type": "stream",
     "text": [
      "/Users/jakehirst/miniconda3/envs/tfp_env/lib/python3.10/site-packages/sklearn/base.py:1151: DataConversionWarning: A column-vector y was passed when a 1d array was expected. Please change the shape of y to (n_samples,), for example using ravel().\n",
      "  return fit_method(estimator, *args, **kwargs)\n"
     ]
    },
    {
     "name": "stdout",
     "output_type": "stream",
     "text": [
      "\n",
      "removing these features: \n",
      "['init z * timestep_init']\n",
      "Working on fold 1\n"
     ]
    },
    {
     "name": "stderr",
     "output_type": "stream",
     "text": [
      "/Users/jakehirst/miniconda3/envs/tfp_env/lib/python3.10/site-packages/sklearn/base.py:1151: DataConversionWarning: A column-vector y was passed when a 1d array was expected. Please change the shape of y to (n_samples,), for example using ravel().\n",
      "  return fit_method(estimator, *args, **kwargs)\n"
     ]
    },
    {
     "name": "stdout",
     "output_type": "stream",
     "text": [
      "Working on fold 2\n"
     ]
    },
    {
     "name": "stderr",
     "output_type": "stream",
     "text": [
      "/Users/jakehirst/miniconda3/envs/tfp_env/lib/python3.10/site-packages/sklearn/base.py:1151: DataConversionWarning: A column-vector y was passed when a 1d array was expected. Please change the shape of y to (n_samples,), for example using ravel().\n",
      "  return fit_method(estimator, *args, **kwargs)\n"
     ]
    },
    {
     "name": "stdout",
     "output_type": "stream",
     "text": [
      "Working on fold 3\n"
     ]
    },
    {
     "name": "stderr",
     "output_type": "stream",
     "text": [
      "/Users/jakehirst/miniconda3/envs/tfp_env/lib/python3.10/site-packages/sklearn/base.py:1151: DataConversionWarning: A column-vector y was passed when a 1d array was expected. Please change the shape of y to (n_samples,), for example using ravel().\n",
      "  return fit_method(estimator, *args, **kwargs)\n"
     ]
    },
    {
     "name": "stdout",
     "output_type": "stream",
     "text": [
      "Working on fold 4\n"
     ]
    },
    {
     "name": "stderr",
     "output_type": "stream",
     "text": [
      "/Users/jakehirst/miniconda3/envs/tfp_env/lib/python3.10/site-packages/sklearn/base.py:1151: DataConversionWarning: A column-vector y was passed when a 1d array was expected. Please change the shape of y to (n_samples,), for example using ravel().\n",
      "  return fit_method(estimator, *args, **kwargs)\n"
     ]
    },
    {
     "name": "stdout",
     "output_type": "stream",
     "text": [
      "Working on fold 5\n"
     ]
    },
    {
     "name": "stderr",
     "output_type": "stream",
     "text": [
      "/Users/jakehirst/miniconda3/envs/tfp_env/lib/python3.10/site-packages/sklearn/base.py:1151: DataConversionWarning: A column-vector y was passed when a 1d array was expected. Please change the shape of y to (n_samples,), for example using ravel().\n",
      "  return fit_method(estimator, *args, **kwargs)\n"
     ]
    },
    {
     "name": "stdout",
     "output_type": "stream",
     "text": [
      "\n",
      "removing these features: \n",
      "['abs_val_sum_kink * dist btw frts']\n",
      "Working on fold 1\n"
     ]
    },
    {
     "name": "stderr",
     "output_type": "stream",
     "text": [
      "/Users/jakehirst/miniconda3/envs/tfp_env/lib/python3.10/site-packages/sklearn/base.py:1151: DataConversionWarning: A column-vector y was passed when a 1d array was expected. Please change the shape of y to (n_samples,), for example using ravel().\n",
      "  return fit_method(estimator, *args, **kwargs)\n"
     ]
    },
    {
     "name": "stdout",
     "output_type": "stream",
     "text": [
      "Working on fold 2\n"
     ]
    },
    {
     "name": "stderr",
     "output_type": "stream",
     "text": [
      "/Users/jakehirst/miniconda3/envs/tfp_env/lib/python3.10/site-packages/sklearn/base.py:1151: DataConversionWarning: A column-vector y was passed when a 1d array was expected. Please change the shape of y to (n_samples,), for example using ravel().\n",
      "  return fit_method(estimator, *args, **kwargs)\n"
     ]
    },
    {
     "name": "stdout",
     "output_type": "stream",
     "text": [
      "Working on fold 3\n"
     ]
    },
    {
     "name": "stderr",
     "output_type": "stream",
     "text": [
      "/Users/jakehirst/miniconda3/envs/tfp_env/lib/python3.10/site-packages/sklearn/base.py:1151: DataConversionWarning: A column-vector y was passed when a 1d array was expected. Please change the shape of y to (n_samples,), for example using ravel().\n",
      "  return fit_method(estimator, *args, **kwargs)\n"
     ]
    },
    {
     "name": "stdout",
     "output_type": "stream",
     "text": [
      "Working on fold 4\n"
     ]
    },
    {
     "name": "stderr",
     "output_type": "stream",
     "text": [
      "/Users/jakehirst/miniconda3/envs/tfp_env/lib/python3.10/site-packages/sklearn/base.py:1151: DataConversionWarning: A column-vector y was passed when a 1d array was expected. Please change the shape of y to (n_samples,), for example using ravel().\n",
      "  return fit_method(estimator, *args, **kwargs)\n"
     ]
    },
    {
     "name": "stdout",
     "output_type": "stream",
     "text": [
      "Working on fold 5\n"
     ]
    },
    {
     "name": "stderr",
     "output_type": "stream",
     "text": [
      "/Users/jakehirst/miniconda3/envs/tfp_env/lib/python3.10/site-packages/sklearn/base.py:1151: DataConversionWarning: A column-vector y was passed when a 1d array was expected. Please change the shape of y to (n_samples,), for example using ravel().\n",
      "  return fit_method(estimator, *args, **kwargs)\n"
     ]
    },
    {
     "name": "stdout",
     "output_type": "stream",
     "text": [
      "\n",
      "removing these features: \n",
      "['median_kink + timestep_init']\n",
      "Working on fold 1\n"
     ]
    },
    {
     "name": "stderr",
     "output_type": "stream",
     "text": [
      "/Users/jakehirst/miniconda3/envs/tfp_env/lib/python3.10/site-packages/sklearn/base.py:1151: DataConversionWarning: A column-vector y was passed when a 1d array was expected. Please change the shape of y to (n_samples,), for example using ravel().\n",
      "  return fit_method(estimator, *args, **kwargs)\n"
     ]
    },
    {
     "name": "stdout",
     "output_type": "stream",
     "text": [
      "Working on fold 2\n"
     ]
    },
    {
     "name": "stderr",
     "output_type": "stream",
     "text": [
      "/Users/jakehirst/miniconda3/envs/tfp_env/lib/python3.10/site-packages/sklearn/base.py:1151: DataConversionWarning: A column-vector y was passed when a 1d array was expected. Please change the shape of y to (n_samples,), for example using ravel().\n",
      "  return fit_method(estimator, *args, **kwargs)\n"
     ]
    },
    {
     "name": "stdout",
     "output_type": "stream",
     "text": [
      "Working on fold 3\n"
     ]
    },
    {
     "name": "stderr",
     "output_type": "stream",
     "text": [
      "/Users/jakehirst/miniconda3/envs/tfp_env/lib/python3.10/site-packages/sklearn/base.py:1151: DataConversionWarning: A column-vector y was passed when a 1d array was expected. Please change the shape of y to (n_samples,), for example using ravel().\n",
      "  return fit_method(estimator, *args, **kwargs)\n"
     ]
    },
    {
     "name": "stdout",
     "output_type": "stream",
     "text": [
      "Working on fold 4\n"
     ]
    },
    {
     "name": "stderr",
     "output_type": "stream",
     "text": [
      "/Users/jakehirst/miniconda3/envs/tfp_env/lib/python3.10/site-packages/sklearn/base.py:1151: DataConversionWarning: A column-vector y was passed when a 1d array was expected. Please change the shape of y to (n_samples,), for example using ravel().\n",
      "  return fit_method(estimator, *args, **kwargs)\n"
     ]
    },
    {
     "name": "stdout",
     "output_type": "stream",
     "text": [
      "Working on fold 5\n"
     ]
    },
    {
     "name": "stderr",
     "output_type": "stream",
     "text": [
      "/Users/jakehirst/miniconda3/envs/tfp_env/lib/python3.10/site-packages/sklearn/base.py:1151: DataConversionWarning: A column-vector y was passed when a 1d array was expected. Please change the shape of y to (n_samples,), for example using ravel().\n",
      "  return fit_method(estimator, *args, **kwargs)\n"
     ]
    },
    {
     "name": "stdout",
     "output_type": "stream",
     "text": [
      "\n",
      "removing these features: \n",
      "['linearity * timestep_init']\n",
      "Working on fold 1\n"
     ]
    },
    {
     "name": "stderr",
     "output_type": "stream",
     "text": [
      "/Users/jakehirst/miniconda3/envs/tfp_env/lib/python3.10/site-packages/sklearn/base.py:1151: DataConversionWarning: A column-vector y was passed when a 1d array was expected. Please change the shape of y to (n_samples,), for example using ravel().\n",
      "  return fit_method(estimator, *args, **kwargs)\n"
     ]
    },
    {
     "name": "stdout",
     "output_type": "stream",
     "text": [
      "Working on fold 2\n"
     ]
    },
    {
     "name": "stderr",
     "output_type": "stream",
     "text": [
      "/Users/jakehirst/miniconda3/envs/tfp_env/lib/python3.10/site-packages/sklearn/base.py:1151: DataConversionWarning: A column-vector y was passed when a 1d array was expected. Please change the shape of y to (n_samples,), for example using ravel().\n",
      "  return fit_method(estimator, *args, **kwargs)\n"
     ]
    },
    {
     "name": "stdout",
     "output_type": "stream",
     "text": [
      "Working on fold 3\n"
     ]
    },
    {
     "name": "stderr",
     "output_type": "stream",
     "text": [
      "/Users/jakehirst/miniconda3/envs/tfp_env/lib/python3.10/site-packages/sklearn/base.py:1151: DataConversionWarning: A column-vector y was passed when a 1d array was expected. Please change the shape of y to (n_samples,), for example using ravel().\n",
      "  return fit_method(estimator, *args, **kwargs)\n"
     ]
    },
    {
     "name": "stdout",
     "output_type": "stream",
     "text": [
      "Working on fold 4\n"
     ]
    },
    {
     "name": "stderr",
     "output_type": "stream",
     "text": [
      "/Users/jakehirst/miniconda3/envs/tfp_env/lib/python3.10/site-packages/sklearn/base.py:1151: DataConversionWarning: A column-vector y was passed when a 1d array was expected. Please change the shape of y to (n_samples,), for example using ravel().\n",
      "  return fit_method(estimator, *args, **kwargs)\n"
     ]
    },
    {
     "name": "stdout",
     "output_type": "stream",
     "text": [
      "Working on fold 5\n"
     ]
    },
    {
     "name": "stderr",
     "output_type": "stream",
     "text": [
      "/Users/jakehirst/miniconda3/envs/tfp_env/lib/python3.10/site-packages/sklearn/base.py:1151: DataConversionWarning: A column-vector y was passed when a 1d array was expected. Please change the shape of y to (n_samples,), for example using ravel().\n",
      "  return fit_method(estimator, *args, **kwargs)\n"
     ]
    },
    {
     "name": "stdout",
     "output_type": "stream",
     "text": [
      "\n",
      "removing these features: \n",
      "['init z / abs_val_sum_kink']\n",
      "Working on fold 1\n"
     ]
    },
    {
     "name": "stderr",
     "output_type": "stream",
     "text": [
      "/Users/jakehirst/miniconda3/envs/tfp_env/lib/python3.10/site-packages/sklearn/base.py:1151: DataConversionWarning: A column-vector y was passed when a 1d array was expected. Please change the shape of y to (n_samples,), for example using ravel().\n",
      "  return fit_method(estimator, *args, **kwargs)\n"
     ]
    },
    {
     "name": "stdout",
     "output_type": "stream",
     "text": [
      "Working on fold 2\n"
     ]
    },
    {
     "name": "stderr",
     "output_type": "stream",
     "text": [
      "/Users/jakehirst/miniconda3/envs/tfp_env/lib/python3.10/site-packages/sklearn/base.py:1151: DataConversionWarning: A column-vector y was passed when a 1d array was expected. Please change the shape of y to (n_samples,), for example using ravel().\n",
      "  return fit_method(estimator, *args, **kwargs)\n"
     ]
    },
    {
     "name": "stdout",
     "output_type": "stream",
     "text": [
      "Working on fold 3\n"
     ]
    },
    {
     "name": "stderr",
     "output_type": "stream",
     "text": [
      "/Users/jakehirst/miniconda3/envs/tfp_env/lib/python3.10/site-packages/sklearn/base.py:1151: DataConversionWarning: A column-vector y was passed when a 1d array was expected. Please change the shape of y to (n_samples,), for example using ravel().\n",
      "  return fit_method(estimator, *args, **kwargs)\n"
     ]
    },
    {
     "name": "stdout",
     "output_type": "stream",
     "text": [
      "Working on fold 4\n"
     ]
    },
    {
     "name": "stderr",
     "output_type": "stream",
     "text": [
      "/Users/jakehirst/miniconda3/envs/tfp_env/lib/python3.10/site-packages/sklearn/base.py:1151: DataConversionWarning: A column-vector y was passed when a 1d array was expected. Please change the shape of y to (n_samples,), for example using ravel().\n",
      "  return fit_method(estimator, *args, **kwargs)\n"
     ]
    },
    {
     "name": "stdout",
     "output_type": "stream",
     "text": [
      "Working on fold 5\n"
     ]
    },
    {
     "name": "stderr",
     "output_type": "stream",
     "text": [
      "/Users/jakehirst/miniconda3/envs/tfp_env/lib/python3.10/site-packages/sklearn/base.py:1151: DataConversionWarning: A column-vector y was passed when a 1d array was expected. Please change the shape of y to (n_samples,), for example using ravel().\n",
      "  return fit_method(estimator, *args, **kwargs)\n"
     ]
    },
    {
     "name": "stdout",
     "output_type": "stream",
     "text": [
      "\n",
      "removing these features: \n",
      "['abs_val_sum_kink / init z']\n",
      "Working on fold 1\n"
     ]
    },
    {
     "name": "stderr",
     "output_type": "stream",
     "text": [
      "/Users/jakehirst/miniconda3/envs/tfp_env/lib/python3.10/site-packages/sklearn/base.py:1151: DataConversionWarning: A column-vector y was passed when a 1d array was expected. Please change the shape of y to (n_samples,), for example using ravel().\n",
      "  return fit_method(estimator, *args, **kwargs)\n"
     ]
    },
    {
     "name": "stdout",
     "output_type": "stream",
     "text": [
      "Working on fold 2\n"
     ]
    },
    {
     "name": "stderr",
     "output_type": "stream",
     "text": [
      "/Users/jakehirst/miniconda3/envs/tfp_env/lib/python3.10/site-packages/sklearn/base.py:1151: DataConversionWarning: A column-vector y was passed when a 1d array was expected. Please change the shape of y to (n_samples,), for example using ravel().\n",
      "  return fit_method(estimator, *args, **kwargs)\n"
     ]
    },
    {
     "name": "stdout",
     "output_type": "stream",
     "text": [
      "Working on fold 3\n"
     ]
    },
    {
     "name": "stderr",
     "output_type": "stream",
     "text": [
      "/Users/jakehirst/miniconda3/envs/tfp_env/lib/python3.10/site-packages/sklearn/base.py:1151: DataConversionWarning: A column-vector y was passed when a 1d array was expected. Please change the shape of y to (n_samples,), for example using ravel().\n",
      "  return fit_method(estimator, *args, **kwargs)\n"
     ]
    },
    {
     "name": "stdout",
     "output_type": "stream",
     "text": [
      "Working on fold 4\n"
     ]
    },
    {
     "name": "stderr",
     "output_type": "stream",
     "text": [
      "/Users/jakehirst/miniconda3/envs/tfp_env/lib/python3.10/site-packages/sklearn/base.py:1151: DataConversionWarning: A column-vector y was passed when a 1d array was expected. Please change the shape of y to (n_samples,), for example using ravel().\n",
      "  return fit_method(estimator, *args, **kwargs)\n"
     ]
    },
    {
     "name": "stdout",
     "output_type": "stream",
     "text": [
      "Working on fold 5\n"
     ]
    },
    {
     "name": "stderr",
     "output_type": "stream",
     "text": [
      "/Users/jakehirst/miniconda3/envs/tfp_env/lib/python3.10/site-packages/sklearn/base.py:1151: DataConversionWarning: A column-vector y was passed when a 1d array was expected. Please change the shape of y to (n_samples,), for example using ravel().\n",
      "  return fit_method(estimator, *args, **kwargs)\n"
     ]
    },
    {
     "name": "stdout",
     "output_type": "stream",
     "text": [
      "\n",
      "removing these features: \n",
      "['linearity / abs_val_sum_kink']\n",
      "Working on fold 1\n"
     ]
    },
    {
     "name": "stderr",
     "output_type": "stream",
     "text": [
      "/Users/jakehirst/miniconda3/envs/tfp_env/lib/python3.10/site-packages/sklearn/base.py:1151: DataConversionWarning: A column-vector y was passed when a 1d array was expected. Please change the shape of y to (n_samples,), for example using ravel().\n",
      "  return fit_method(estimator, *args, **kwargs)\n"
     ]
    },
    {
     "name": "stdout",
     "output_type": "stream",
     "text": [
      "Working on fold 2\n"
     ]
    },
    {
     "name": "stderr",
     "output_type": "stream",
     "text": [
      "/Users/jakehirst/miniconda3/envs/tfp_env/lib/python3.10/site-packages/sklearn/base.py:1151: DataConversionWarning: A column-vector y was passed when a 1d array was expected. Please change the shape of y to (n_samples,), for example using ravel().\n",
      "  return fit_method(estimator, *args, **kwargs)\n"
     ]
    },
    {
     "name": "stdout",
     "output_type": "stream",
     "text": [
      "Working on fold 3\n"
     ]
    },
    {
     "name": "stderr",
     "output_type": "stream",
     "text": [
      "/Users/jakehirst/miniconda3/envs/tfp_env/lib/python3.10/site-packages/sklearn/base.py:1151: DataConversionWarning: A column-vector y was passed when a 1d array was expected. Please change the shape of y to (n_samples,), for example using ravel().\n",
      "  return fit_method(estimator, *args, **kwargs)\n"
     ]
    },
    {
     "name": "stdout",
     "output_type": "stream",
     "text": [
      "Working on fold 4\n"
     ]
    },
    {
     "name": "stderr",
     "output_type": "stream",
     "text": [
      "/Users/jakehirst/miniconda3/envs/tfp_env/lib/python3.10/site-packages/sklearn/base.py:1151: DataConversionWarning: A column-vector y was passed when a 1d array was expected. Please change the shape of y to (n_samples,), for example using ravel().\n",
      "  return fit_method(estimator, *args, **kwargs)\n"
     ]
    },
    {
     "name": "stdout",
     "output_type": "stream",
     "text": [
      "Working on fold 5\n"
     ]
    },
    {
     "name": "stderr",
     "output_type": "stream",
     "text": [
      "/Users/jakehirst/miniconda3/envs/tfp_env/lib/python3.10/site-packages/sklearn/base.py:1151: DataConversionWarning: A column-vector y was passed when a 1d array was expected. Please change the shape of y to (n_samples,), for example using ravel().\n",
      "  return fit_method(estimator, *args, **kwargs)\n"
     ]
    },
    {
     "name": "stdout",
     "output_type": "stream",
     "text": [
      "\n",
      "removing these features: \n",
      "['timestep_init^3']\n",
      "Working on fold 1\n"
     ]
    },
    {
     "name": "stderr",
     "output_type": "stream",
     "text": [
      "/Users/jakehirst/miniconda3/envs/tfp_env/lib/python3.10/site-packages/sklearn/base.py:1151: DataConversionWarning: A column-vector y was passed when a 1d array was expected. Please change the shape of y to (n_samples,), for example using ravel().\n",
      "  return fit_method(estimator, *args, **kwargs)\n"
     ]
    },
    {
     "name": "stdout",
     "output_type": "stream",
     "text": [
      "Working on fold 2\n"
     ]
    },
    {
     "name": "stderr",
     "output_type": "stream",
     "text": [
      "/Users/jakehirst/miniconda3/envs/tfp_env/lib/python3.10/site-packages/sklearn/base.py:1151: DataConversionWarning: A column-vector y was passed when a 1d array was expected. Please change the shape of y to (n_samples,), for example using ravel().\n",
      "  return fit_method(estimator, *args, **kwargs)\n"
     ]
    },
    {
     "name": "stdout",
     "output_type": "stream",
     "text": [
      "Working on fold 3\n"
     ]
    },
    {
     "name": "stderr",
     "output_type": "stream",
     "text": [
      "/Users/jakehirst/miniconda3/envs/tfp_env/lib/python3.10/site-packages/sklearn/base.py:1151: DataConversionWarning: A column-vector y was passed when a 1d array was expected. Please change the shape of y to (n_samples,), for example using ravel().\n",
      "  return fit_method(estimator, *args, **kwargs)\n"
     ]
    },
    {
     "name": "stdout",
     "output_type": "stream",
     "text": [
      "Working on fold 4\n"
     ]
    },
    {
     "name": "stderr",
     "output_type": "stream",
     "text": [
      "/Users/jakehirst/miniconda3/envs/tfp_env/lib/python3.10/site-packages/sklearn/base.py:1151: DataConversionWarning: A column-vector y was passed when a 1d array was expected. Please change the shape of y to (n_samples,), for example using ravel().\n",
      "  return fit_method(estimator, *args, **kwargs)\n"
     ]
    },
    {
     "name": "stdout",
     "output_type": "stream",
     "text": [
      "Working on fold 5\n"
     ]
    },
    {
     "name": "stderr",
     "output_type": "stream",
     "text": [
      "/Users/jakehirst/miniconda3/envs/tfp_env/lib/python3.10/site-packages/sklearn/base.py:1151: DataConversionWarning: A column-vector y was passed when a 1d array was expected. Please change the shape of y to (n_samples,), for example using ravel().\n",
      "  return fit_method(estimator, *args, **kwargs)\n"
     ]
    },
    {
     "name": "stdout",
     "output_type": "stream",
     "text": [
      "\n",
      "removing these features: \n",
      "['log(timestep_init)']\n",
      "Working on fold 1\n"
     ]
    },
    {
     "name": "stderr",
     "output_type": "stream",
     "text": [
      "/Users/jakehirst/miniconda3/envs/tfp_env/lib/python3.10/site-packages/sklearn/base.py:1151: DataConversionWarning: A column-vector y was passed when a 1d array was expected. Please change the shape of y to (n_samples,), for example using ravel().\n",
      "  return fit_method(estimator, *args, **kwargs)\n"
     ]
    },
    {
     "name": "stdout",
     "output_type": "stream",
     "text": [
      "Working on fold 2\n"
     ]
    },
    {
     "name": "stderr",
     "output_type": "stream",
     "text": [
      "/Users/jakehirst/miniconda3/envs/tfp_env/lib/python3.10/site-packages/sklearn/base.py:1151: DataConversionWarning: A column-vector y was passed when a 1d array was expected. Please change the shape of y to (n_samples,), for example using ravel().\n",
      "  return fit_method(estimator, *args, **kwargs)\n"
     ]
    },
    {
     "name": "stdout",
     "output_type": "stream",
     "text": [
      "Working on fold 3\n"
     ]
    },
    {
     "name": "stderr",
     "output_type": "stream",
     "text": [
      "/Users/jakehirst/miniconda3/envs/tfp_env/lib/python3.10/site-packages/sklearn/base.py:1151: DataConversionWarning: A column-vector y was passed when a 1d array was expected. Please change the shape of y to (n_samples,), for example using ravel().\n",
      "  return fit_method(estimator, *args, **kwargs)\n"
     ]
    },
    {
     "name": "stdout",
     "output_type": "stream",
     "text": [
      "Working on fold 4\n"
     ]
    },
    {
     "name": "stderr",
     "output_type": "stream",
     "text": [
      "/Users/jakehirst/miniconda3/envs/tfp_env/lib/python3.10/site-packages/sklearn/base.py:1151: DataConversionWarning: A column-vector y was passed when a 1d array was expected. Please change the shape of y to (n_samples,), for example using ravel().\n",
      "  return fit_method(estimator, *args, **kwargs)\n"
     ]
    },
    {
     "name": "stdout",
     "output_type": "stream",
     "text": [
      "Working on fold 5\n"
     ]
    },
    {
     "name": "stderr",
     "output_type": "stream",
     "text": [
      "/Users/jakehirst/miniconda3/envs/tfp_env/lib/python3.10/site-packages/sklearn/base.py:1151: DataConversionWarning: A column-vector y was passed when a 1d array was expected. Please change the shape of y to (n_samples,), for example using ravel().\n",
      "  return fit_method(estimator, *args, **kwargs)\n"
     ]
    },
    {
     "name": "stdout",
     "output_type": "stream",
     "text": [
      "\n",
      "removing these features: \n",
      "['timestep_init^2']\n",
      "Working on fold 1\n"
     ]
    },
    {
     "name": "stderr",
     "output_type": "stream",
     "text": [
      "/Users/jakehirst/miniconda3/envs/tfp_env/lib/python3.10/site-packages/sklearn/base.py:1151: DataConversionWarning: A column-vector y was passed when a 1d array was expected. Please change the shape of y to (n_samples,), for example using ravel().\n",
      "  return fit_method(estimator, *args, **kwargs)\n"
     ]
    },
    {
     "name": "stdout",
     "output_type": "stream",
     "text": [
      "Working on fold 2\n"
     ]
    },
    {
     "name": "stderr",
     "output_type": "stream",
     "text": [
      "/Users/jakehirst/miniconda3/envs/tfp_env/lib/python3.10/site-packages/sklearn/base.py:1151: DataConversionWarning: A column-vector y was passed when a 1d array was expected. Please change the shape of y to (n_samples,), for example using ravel().\n",
      "  return fit_method(estimator, *args, **kwargs)\n"
     ]
    },
    {
     "name": "stdout",
     "output_type": "stream",
     "text": [
      "Working on fold 3\n"
     ]
    },
    {
     "name": "stderr",
     "output_type": "stream",
     "text": [
      "/Users/jakehirst/miniconda3/envs/tfp_env/lib/python3.10/site-packages/sklearn/base.py:1151: DataConversionWarning: A column-vector y was passed when a 1d array was expected. Please change the shape of y to (n_samples,), for example using ravel().\n",
      "  return fit_method(estimator, *args, **kwargs)\n"
     ]
    },
    {
     "name": "stdout",
     "output_type": "stream",
     "text": [
      "Working on fold 4\n"
     ]
    },
    {
     "name": "stderr",
     "output_type": "stream",
     "text": [
      "/Users/jakehirst/miniconda3/envs/tfp_env/lib/python3.10/site-packages/sklearn/base.py:1151: DataConversionWarning: A column-vector y was passed when a 1d array was expected. Please change the shape of y to (n_samples,), for example using ravel().\n",
      "  return fit_method(estimator, *args, **kwargs)\n"
     ]
    },
    {
     "name": "stdout",
     "output_type": "stream",
     "text": [
      "Working on fold 5\n"
     ]
    },
    {
     "name": "stderr",
     "output_type": "stream",
     "text": [
      "/Users/jakehirst/miniconda3/envs/tfp_env/lib/python3.10/site-packages/sklearn/base.py:1151: DataConversionWarning: A column-vector y was passed when a 1d array was expected. Please change the shape of y to (n_samples,), for example using ravel().\n",
      "  return fit_method(estimator, *args, **kwargs)\n"
     ]
    },
    {
     "name": "stdout",
     "output_type": "stream",
     "text": [
      "\n",
      "removing these features: \n",
      "['sqrt(timestep_init)']\n",
      "Working on fold 1\n"
     ]
    },
    {
     "name": "stderr",
     "output_type": "stream",
     "text": [
      "/Users/jakehirst/miniconda3/envs/tfp_env/lib/python3.10/site-packages/sklearn/base.py:1151: DataConversionWarning: A column-vector y was passed when a 1d array was expected. Please change the shape of y to (n_samples,), for example using ravel().\n",
      "  return fit_method(estimator, *args, **kwargs)\n"
     ]
    },
    {
     "name": "stdout",
     "output_type": "stream",
     "text": [
      "Working on fold 2\n"
     ]
    },
    {
     "name": "stderr",
     "output_type": "stream",
     "text": [
      "/Users/jakehirst/miniconda3/envs/tfp_env/lib/python3.10/site-packages/sklearn/base.py:1151: DataConversionWarning: A column-vector y was passed when a 1d array was expected. Please change the shape of y to (n_samples,), for example using ravel().\n",
      "  return fit_method(estimator, *args, **kwargs)\n"
     ]
    },
    {
     "name": "stdout",
     "output_type": "stream",
     "text": [
      "Working on fold 3\n"
     ]
    },
    {
     "name": "stderr",
     "output_type": "stream",
     "text": [
      "/Users/jakehirst/miniconda3/envs/tfp_env/lib/python3.10/site-packages/sklearn/base.py:1151: DataConversionWarning: A column-vector y was passed when a 1d array was expected. Please change the shape of y to (n_samples,), for example using ravel().\n",
      "  return fit_method(estimator, *args, **kwargs)\n"
     ]
    },
    {
     "name": "stdout",
     "output_type": "stream",
     "text": [
      "Working on fold 4\n"
     ]
    },
    {
     "name": "stderr",
     "output_type": "stream",
     "text": [
      "/Users/jakehirst/miniconda3/envs/tfp_env/lib/python3.10/site-packages/sklearn/base.py:1151: DataConversionWarning: A column-vector y was passed when a 1d array was expected. Please change the shape of y to (n_samples,), for example using ravel().\n",
      "  return fit_method(estimator, *args, **kwargs)\n"
     ]
    },
    {
     "name": "stdout",
     "output_type": "stream",
     "text": [
      "Working on fold 5\n"
     ]
    },
    {
     "name": "stderr",
     "output_type": "stream",
     "text": [
      "/Users/jakehirst/miniconda3/envs/tfp_env/lib/python3.10/site-packages/sklearn/base.py:1151: DataConversionWarning: A column-vector y was passed when a 1d array was expected. Please change the shape of y to (n_samples,), for example using ravel().\n",
      "  return fit_method(estimator, *args, **kwargs)\n"
     ]
    },
    {
     "name": "stdout",
     "output_type": "stream",
     "text": [
      "\n",
      "removing these features: \n",
      "['timestep_init (unchanged)']\n",
      "Working on fold 1\n"
     ]
    },
    {
     "name": "stderr",
     "output_type": "stream",
     "text": [
      "/Users/jakehirst/miniconda3/envs/tfp_env/lib/python3.10/site-packages/sklearn/base.py:1151: DataConversionWarning: A column-vector y was passed when a 1d array was expected. Please change the shape of y to (n_samples,), for example using ravel().\n",
      "  return fit_method(estimator, *args, **kwargs)\n"
     ]
    },
    {
     "name": "stdout",
     "output_type": "stream",
     "text": [
      "Working on fold 2\n"
     ]
    },
    {
     "name": "stderr",
     "output_type": "stream",
     "text": [
      "/Users/jakehirst/miniconda3/envs/tfp_env/lib/python3.10/site-packages/sklearn/base.py:1151: DataConversionWarning: A column-vector y was passed when a 1d array was expected. Please change the shape of y to (n_samples,), for example using ravel().\n",
      "  return fit_method(estimator, *args, **kwargs)\n"
     ]
    },
    {
     "name": "stdout",
     "output_type": "stream",
     "text": [
      "Working on fold 3\n"
     ]
    },
    {
     "name": "stderr",
     "output_type": "stream",
     "text": [
      "/Users/jakehirst/miniconda3/envs/tfp_env/lib/python3.10/site-packages/sklearn/base.py:1151: DataConversionWarning: A column-vector y was passed when a 1d array was expected. Please change the shape of y to (n_samples,), for example using ravel().\n",
      "  return fit_method(estimator, *args, **kwargs)\n"
     ]
    },
    {
     "name": "stdout",
     "output_type": "stream",
     "text": [
      "Working on fold 4\n"
     ]
    },
    {
     "name": "stderr",
     "output_type": "stream",
     "text": [
      "/Users/jakehirst/miniconda3/envs/tfp_env/lib/python3.10/site-packages/sklearn/base.py:1151: DataConversionWarning: A column-vector y was passed when a 1d array was expected. Please change the shape of y to (n_samples,), for example using ravel().\n",
      "  return fit_method(estimator, *args, **kwargs)\n"
     ]
    },
    {
     "name": "stdout",
     "output_type": "stream",
     "text": [
      "Working on fold 5\n"
     ]
    },
    {
     "name": "stderr",
     "output_type": "stream",
     "text": [
      "/Users/jakehirst/miniconda3/envs/tfp_env/lib/python3.10/site-packages/sklearn/base.py:1151: DataConversionWarning: A column-vector y was passed when a 1d array was expected. Please change the shape of y to (n_samples,), for example using ravel().\n",
      "  return fit_method(estimator, *args, **kwargs)\n"
     ]
    },
    {
     "name": "stdout",
     "output_type": "stream",
     "text": [
      "\n",
      "removing these features: \n",
      "['sum_kink * timestep_init']\n",
      "Working on fold 1\n"
     ]
    },
    {
     "name": "stderr",
     "output_type": "stream",
     "text": [
      "/Users/jakehirst/miniconda3/envs/tfp_env/lib/python3.10/site-packages/sklearn/base.py:1151: DataConversionWarning: A column-vector y was passed when a 1d array was expected. Please change the shape of y to (n_samples,), for example using ravel().\n",
      "  return fit_method(estimator, *args, **kwargs)\n"
     ]
    },
    {
     "name": "stdout",
     "output_type": "stream",
     "text": [
      "Working on fold 2\n"
     ]
    },
    {
     "name": "stderr",
     "output_type": "stream",
     "text": [
      "/Users/jakehirst/miniconda3/envs/tfp_env/lib/python3.10/site-packages/sklearn/base.py:1151: DataConversionWarning: A column-vector y was passed when a 1d array was expected. Please change the shape of y to (n_samples,), for example using ravel().\n",
      "  return fit_method(estimator, *args, **kwargs)\n"
     ]
    },
    {
     "name": "stdout",
     "output_type": "stream",
     "text": [
      "Working on fold 3\n"
     ]
    },
    {
     "name": "stderr",
     "output_type": "stream",
     "text": [
      "/Users/jakehirst/miniconda3/envs/tfp_env/lib/python3.10/site-packages/sklearn/base.py:1151: DataConversionWarning: A column-vector y was passed when a 1d array was expected. Please change the shape of y to (n_samples,), for example using ravel().\n",
      "  return fit_method(estimator, *args, **kwargs)\n"
     ]
    },
    {
     "name": "stdout",
     "output_type": "stream",
     "text": [
      "Working on fold 4\n"
     ]
    },
    {
     "name": "stderr",
     "output_type": "stream",
     "text": [
      "/Users/jakehirst/miniconda3/envs/tfp_env/lib/python3.10/site-packages/sklearn/base.py:1151: DataConversionWarning: A column-vector y was passed when a 1d array was expected. Please change the shape of y to (n_samples,), for example using ravel().\n",
      "  return fit_method(estimator, *args, **kwargs)\n"
     ]
    },
    {
     "name": "stdout",
     "output_type": "stream",
     "text": [
      "Working on fold 5\n"
     ]
    },
    {
     "name": "stderr",
     "output_type": "stream",
     "text": [
      "/Users/jakehirst/miniconda3/envs/tfp_env/lib/python3.10/site-packages/sklearn/base.py:1151: DataConversionWarning: A column-vector y was passed when a 1d array was expected. Please change the shape of y to (n_samples,), for example using ravel().\n",
      "  return fit_method(estimator, *args, **kwargs)\n"
     ]
    },
    {
     "name": "stdout",
     "output_type": "stream",
     "text": [
      "\n",
      "removing these features: \n",
      "['abs_val_sum_kink / timestep_init']\n",
      "Working on fold 1\n"
     ]
    },
    {
     "name": "stderr",
     "output_type": "stream",
     "text": [
      "/Users/jakehirst/miniconda3/envs/tfp_env/lib/python3.10/site-packages/sklearn/base.py:1151: DataConversionWarning: A column-vector y was passed when a 1d array was expected. Please change the shape of y to (n_samples,), for example using ravel().\n",
      "  return fit_method(estimator, *args, **kwargs)\n"
     ]
    },
    {
     "name": "stdout",
     "output_type": "stream",
     "text": [
      "Working on fold 2\n"
     ]
    },
    {
     "name": "stderr",
     "output_type": "stream",
     "text": [
      "/Users/jakehirst/miniconda3/envs/tfp_env/lib/python3.10/site-packages/sklearn/base.py:1151: DataConversionWarning: A column-vector y was passed when a 1d array was expected. Please change the shape of y to (n_samples,), for example using ravel().\n",
      "  return fit_method(estimator, *args, **kwargs)\n"
     ]
    },
    {
     "name": "stdout",
     "output_type": "stream",
     "text": [
      "Working on fold 3\n"
     ]
    },
    {
     "name": "stderr",
     "output_type": "stream",
     "text": [
      "/Users/jakehirst/miniconda3/envs/tfp_env/lib/python3.10/site-packages/sklearn/base.py:1151: DataConversionWarning: A column-vector y was passed when a 1d array was expected. Please change the shape of y to (n_samples,), for example using ravel().\n",
      "  return fit_method(estimator, *args, **kwargs)\n"
     ]
    },
    {
     "name": "stdout",
     "output_type": "stream",
     "text": [
      "Working on fold 4\n"
     ]
    },
    {
     "name": "stderr",
     "output_type": "stream",
     "text": [
      "/Users/jakehirst/miniconda3/envs/tfp_env/lib/python3.10/site-packages/sklearn/base.py:1151: DataConversionWarning: A column-vector y was passed when a 1d array was expected. Please change the shape of y to (n_samples,), for example using ravel().\n",
      "  return fit_method(estimator, *args, **kwargs)\n"
     ]
    },
    {
     "name": "stdout",
     "output_type": "stream",
     "text": [
      "Working on fold 5\n"
     ]
    },
    {
     "name": "stderr",
     "output_type": "stream",
     "text": [
      "/Users/jakehirst/miniconda3/envs/tfp_env/lib/python3.10/site-packages/sklearn/base.py:1151: DataConversionWarning: A column-vector y was passed when a 1d array was expected. Please change the shape of y to (n_samples,), for example using ravel().\n",
      "  return fit_method(estimator, *args, **kwargs)\n"
     ]
    },
    {
     "name": "stdout",
     "output_type": "stream",
     "text": [
      "\n",
      "removing these features: \n",
      "['timestep_init / abs_val_sum_kink']\n",
      "\n",
      "...next model type... \n",
      "\n",
      "$$$$$$$$$$ NOW FOR PREDICTING height WITH GPR $$$$$$$$$$\n",
      "\n",
      "Working on fold 1\n",
      "Working on fold 2\n",
      "Working on fold 3\n",
      "Working on fold 4\n",
      "Working on fold 5\n",
      "\n",
      "removing these features: \n",
      "['abs_val_sum_kink - avg_prop_speed', 'angle_btw * init z', 'avg_prop_speed - abs_val_sum_kink', 'median_kink + sum_kink', 'angle_btw + linearity', 'angle_btw + init z', 'linearity + max_prop_speed', 'abs_val_mean_kink ^ -var_kink', 'init z + max_prop_speed', 'abs_val_mean_kink * crack len', 'angle_btw + max thickness', 'angle_btw * max_prop_speed', 'dist btw frts + linearity', 'avg_ori + median_kink', 'abs_val_mean_kink * dist btw frts', 'sqrt(median_kink)', 'max thickness + max_prop_speed', 'crack len + linearity', 'abs_val_mean_kink * max_prop_speed', 'abs_val_sum_kink - median_kink', 'angle_btw + std_thickness', 'median_kink - abs_val_sum_kink', 'median_kink (unchanged)', 'max_prop_speed * thickness_at_init', 'angle_btw * linearity', 'abs_val_sum_kink - sum_kink', 'sqrt(max_prop_speed)', 'sum_kink - abs_val_sum_kink', 'dist btw frts + init z', 'max_prop_speed + var_thickness', 'angle_btw + max_prop_speed', 'abs_val_mean_kink + angle_btw', 'abs_val_mean_kink + max_prop_speed', 'avg_ori (unchanged)', 'max_prop_speed + thickness_at_init', 'init z * max_prop_speed', 'exp(angle_btw)', 'angle_btw + var_thickness', 'max thickness (unchanged)', 'max thickness + std_thickness', 'max_prop_speed + std_thickness', 'abs_val_sum_kink + linearity', 'max_prop_speed (unchanged)', 'angle_btw * dist btw frts', 'abs_val_sum_kink / avg_prop_speed', 'crack len + init z', 'exp(dist btw frts)', 'angle_btw (unchanged)', 'dist btw frts * max_prop_speed', 'linearity * max_prop_speed']\n",
      "Working on fold 1\n",
      "Working on fold 2\n",
      "Working on fold 3\n",
      "Working on fold 4\n",
      "Working on fold 5\n",
      "\n",
      "removing these features: \n",
      "['sqrt(angle_btw)', 'angle_btw^2', 'dist btw frts * init z', 'max_prop_speed + std_kink', 'max thickness * max_prop_speed', 'crack len * max_prop_speed', 'init z * median_kink', 'max_prop_speed + var_kink', 'dist btw frts * linearity', 'angle_btw * max thickness', 'std_kink + std_thickness', 'angle_btw^3', 'sqrt(var_thickness)', 'init y - abs_val_sum_kink', 'crack len * init z', 'angle_btw + dist btw frts', 'median_kink * sum_kink', 'max_prop_speed^2', 'dist btw frts + max_prop_speed', 'max_prop_speed * mean_kink', 'max thickness^2', 'angle_btw * init x', 'abs_val_mean_kink - max_prop_speed', 'abs_val_sum_kink + init z', 'dist btw frts + max thickness', 'angle_btw + thickness_at_init', 'init x + max_prop_speed', 'angle_btw + std_kink', 'max thickness + std_kink', 'abs_val_sum_kink - init y', 'max_prop_speed - abs_val_mean_kink', 'abs_val_sum_kink * thickness_at_init', 'dist btw frts + std_thickness', 'abs_val_sum_kink - avg_ori', 'angle_btw * thickness_at_init', 'std_thickness (unchanged)', 'avg_ori * median_kink', 'abs_val_mean_kink - angle_btw', 'max_prop_speed * mean thickness', 'dist btw frts^3', 'angle_btw * crack len', 'angle_btw + crack len', 'avg_ori - abs_val_sum_kink', 'max thickness + var_thickness', 'angle_btw - abs_val_mean_kink']\n",
      "Working on fold 1\n",
      "Working on fold 2\n",
      "Working on fold 3\n",
      "Working on fold 4\n",
      "Working on fold 5\n",
      "\n",
      "removing these features: \n",
      "['abs_val_sum_kink + angle_btw', 'angle_btw + init x', 'angle_btw * mean_kink', 'crack len + max_prop_speed', 'abs_val_sum_kink + max_prop_speed', 'max_prop_speed + median_thickness', 'crack len + max thickness', 'angle_btw + median_thickness', 'sqrt(dist btw frts)', 'max_prop_speed + mean_kink', 'angle_btw + mean_kink', 'crack len * linearity', 'abs_val_sum_kink * angle_btw', 'std_kink + var_thickness', 'angle_btw + max_kink', 'crack len + std_thickness', 'sqrt(std_thickness)', 'angle_btw + mean thickness', 'abs_val_sum_kink - mean thickness', 'dist btw frts + var_thickness', 'max_prop_speed * median_kink', 'angle_btw + var_kink', 'max_prop_speed^3', 'max_prop_speed + mean thickness', 'median_kink / abs_val_sum_kink', 'max_prop_speed / abs_val_mean_kink', 'dist btw frts * max thickness', 'mean_kink - abs_val_sum_kink', 'sqrt(crack len)', 'abs_val_mean_kink * abs_val_sum_kink', 'mean thickness - abs_val_sum_kink', 'std_kink * var_thickness', 'max_kink + max_prop_speed', 'dist btw frts * thickness_at_init', 'std_thickness + var_thickness', 'abs_val_mean_kink * angle_btw', 'max_prop_speed * std_thickness', 'init x * max_prop_speed', 'abs_val_mean_kink + avg_ori', 'abs_val_sum_kink - mean_kink', 'crack len * thickness_at_init']\n",
      "Working on fold 1\n",
      "Working on fold 2\n",
      "Working on fold 3\n",
      "Working on fold 4\n",
      "Working on fold 5\n",
      "\n",
      "removing these features: \n",
      "['dist btw frts^2', 'crack len + var_thickness', 'angle_btw * std_thickness', 'angle_btw + init y', 'angle_btw * mean thickness', 'sqrt(avg_ori)', 'dist btw frts + thickness_at_init', 'abs_val_mean_kink + dist btw frts', 'abs_val_sum_kink * max_prop_speed', 'dist btw frts + std_kink', 'abs_val_sum_kink + max thickness', 'abs_val_mean_kink - max thickness', 'abs_val_sum_kink + std_thickness', 'abs_val_sum_kink - dist btw frts', 'abs_val_sum_kink * init z', 'max thickness * std_thickness', 'std_kink * std_thickness', 'max_prop_speed * median_thickness', 'dist btw frts (unchanged)', 'crack len + thickness_at_init', 'abs_val_mean_kink + crack len', 'abs_val_mean_kink + median_kink', 'max thickness + var_kink', 'std_thickness + var_kink', 'crack len * dist btw frts', 'max thickness - abs_val_mean_kink', 'max_kink + std_thickness', 'abs_val_mean_kink - std_thickness', 'std_thickness - abs_val_mean_kink', 'abs_val_sum_kink - median_thickness', 'crack len * max thickness', 'std_thickness^2', 'dist btw frts - abs_val_sum_kink', 'linearity * median_kink', 'abs_val_sum_kink + var_thickness', 'init z * std_kink']\n",
      "Working on fold 1\n",
      "Working on fold 2\n",
      "Working on fold 3\n",
      "Working on fold 4\n",
      "Working on fold 5\n",
      "\n",
      "removing these features: \n",
      "['crack len + dist btw frts', 'crack len + std_kink', 'var_kink + var_thickness', 'angle_btw + median_kink', 'median_thickness - abs_val_sum_kink', 'max thickness^3', 'angle_btw + avg_ori', 'crack len (unchanged)', 'var_thickness (unchanged)', 'init y + max_prop_speed', 'crack len^3', 'abs_val_sum_kink + dist btw frts', 'var_thickness - abs_val_mean_kink', 'dist btw frts * mean thickness', 'abs_val_sum_kink + thickness_at_init', 'dist btw frts + var_kink', 'mean_kink + std_thickness', 'max thickness + max_kink', 'max_prop_speed * std_kink', 'abs_val_mean_kink - var_thickness', 'max_kink + var_thickness', 'init x * std_kink', 'abs_val_sum_kink - crack len', 'angle_btw * init y', 'std_kink + thickness_at_init', 'abs_val_mean_kink - dist btw frts', 'angle_btw * median_thickness', 'crack len^2', 'exp(crack len)', 'init x * timestep_init', 'sqrt(max thickness)', 'dist btw frts - abs_val_mean_kink', 'abs_val_sum_kink * linearity']\n",
      "Working on fold 1\n",
      "Working on fold 2\n",
      "Working on fold 3\n",
      "Working on fold 4\n",
      "Working on fold 5\n",
      "\n",
      "removing these features: \n",
      "['dist btw frts + init x', 'angle_btw / abs_val_mean_kink', 'dist btw frts + max_kink', 'sqrt(std_kink)', 'crack len + var_kink', 'crack len - abs_val_sum_kink', 'abs_val_sum_kink + crack len', 'crack len * mean thickness', 'angle_btw * var_thickness', 'abs_val_mean_kink / max_kink', 'abs_val_mean_kink - crack len', 'dist btw frts * init x', 'crack len - abs_val_mean_kink', 'abs_val_sum_kink * dist btw frts', 'angle_btw + sum_kink', 'dist btw frts * std_thickness', 'var_kink * var_thickness', 'abs_val_sum_kink * init x', 'max thickness * var_thickness', 'max thickness + mean_kink', 'max_prop_speed * var_thickness', 'abs_val_sum_kink * crack len', 'angle_btw * std_kink', 'timestep_init^3', 'abs_val_sum_kink / mean thickness', 'std_kink * thickness_at_init', 'crack len + max_kink', 'abs_val_mean_kink / var_kink', 'abs_val_sum_kink + std_kink', 'crack len + init x']\n",
      "Working on fold 1\n",
      "Working on fold 2\n",
      "Working on fold 3\n",
      "Working on fold 4\n",
      "Working on fold 5\n",
      "\n",
      "removing these features: \n",
      "['crack len * init x', 'crack len * std_thickness', 'abs_val_sum_kink / max_kink', 'dist btw frts / abs_val_mean_kink', 'std_thickness / abs_val_mean_kink', 'abs_val_sum_kink * max thickness', 'mean_kink + var_thickness', 'max_kink - abs_val_sum_kink', 'max thickness * std_kink', 'crack len * median_kink', 'angle_btw + avg_prop_speed', 'std_kink (unchanged)', 'abs_val_sum_kink - max_kink', 'abs_val_mean_kink / dist btw frts', 'crack len / abs_val_mean_kink', 'init y * var_thickness', 'max_prop_speed * sum_kink', 'sqrt(var_kink)', 'linearity * std_kink', 'avg_ori + max_prop_speed', 'abs_val_mean_kink / crack len', 'abs_val_mean_kink * avg_ori', 'abs_val_mean_kink - std_kink', 'angle_btw * median_kink', 'abs_val_sum_kink (unchanged)', 'dist btw frts * std_kink', 'abs_val_sum_kink - init x']\n",
      "Working on fold 1\n",
      "Working on fold 2\n",
      "Working on fold 3\n",
      "Working on fold 4\n",
      "Working on fold 5\n",
      "\n",
      "removing these features: \n",
      "['abs_val_mean_kink - abs_val_sum_kink', 'dist btw frts * mean_kink', 'abs_val_sum_kink - abs_val_mean_kink', 'std_kink - abs_val_mean_kink', 'sqrt(abs_val_sum_kink)', 'dist btw frts * median_kink', 'abs_val_sum_kink * std_thickness', 'abs_val_sum_kink + var_kink', 'abs_val_sum_kink / median_kink', 'crack len * var_thickness', 'dist btw frts * var_thickness', 'init y + std_thickness', 'init x - abs_val_sum_kink', 'init y * std_thickness', 'dist btw frts + median_thickness', 'avg_ori * max_prop_speed', 'abs_val_mean_kink + abs_val_sum_kink', 'init x + std_kink', 'abs_val_mean_kink / max_prop_speed', 'abs_val_sum_kink - var_kink', 'init x * var_kink', 'std_thickness * var_kink', 'abs_val_sum_kink / median_thickness', 'init z * max_kink']\n",
      "Working on fold 1\n",
      "Working on fold 2\n",
      "Working on fold 3\n",
      "Working on fold 4\n",
      "Working on fold 5\n",
      "\n",
      "removing these features: \n",
      "['crack len * mean_kink', 'var_kink - abs_val_sum_kink', 'abs_val_sum_kink * var_thickness', 'abs_val_sum_kink * std_kink', 'dist btw frts + mean_kink', 'var_kink - abs_val_mean_kink', 'abs_val_sum_kink^2', 'abs_val_sum_kink + max_kink', 'var_kink ^ -avg_ori', 'var_thickness / abs_val_mean_kink', 'max_prop_speed * var_kink', 'abs_val_sum_kink + init x', 'max_kink + std_kink', 'max_kink * std_thickness', 'max_kink * var_thickness', 'log(std_kink)', 'angle_btw * max_kink', 'dist btw frts * var_kink', 'abs_val_sum_kink * mean thickness', 'std_kink + var_kink', 'linearity * max_kink']\n",
      "Working on fold 1\n",
      "Working on fold 2\n",
      "Working on fold 3\n",
      "Working on fold 4\n",
      "Working on fold 5\n",
      "\n",
      "removing these features: \n",
      "['dist btw frts + mean thickness', 'abs_val_mean_kink - var_kink', 'crack len * std_kink', 'max_prop_speed + sum_kink', 'std_kink ^ -avg_ori', 'sum_kink + timestep_init', 'log(var_kink)', 'avg_prop_speed / abs_val_sum_kink', 'init y * std_kink', 'max_kink * max_prop_speed', 'mean_kink / abs_val_sum_kink', 'abs_val_sum_kink * var_kink', 'init y + var_thickness', 'abs_val_sum_kink / init y', 'sum_kink / abs_val_sum_kink', 'crack len * var_kink', 'max_kink - abs_val_mean_kink', 'angle_btw * var_kink', 'abs_val_sum_kink * mean_kink']\n",
      "Working on fold 1\n",
      "Working on fold 2\n",
      "Working on fold 3\n",
      "Working on fold 4\n",
      "Working on fold 5\n",
      "\n",
      "removing these features: \n",
      "['abs_val_mean_kink - max_kink', 'crack len + mean_kink', 'avg_prop_speed + timestep_init', 'init y * max_prop_speed', 'median_thickness * timestep_init', 'abs_val_sum_kink / timestep_init', 'abs_val_sum_kink * avg_ori', 'abs_val_sum_kink / max thickness', 'crack len + median_thickness', 'init y + max thickness', 'abs_val_sum_kink / init z', 'max thickness * var_kink', 'median_kink + timestep_init', 'var_kink (unchanged)', 'sqrt(max_kink)', 'max_kink + var_kink', 'max_kink * std_kink']\n",
      "Working on fold 1\n",
      "Working on fold 2\n",
      "Working on fold 3\n",
      "Working on fold 4\n",
      "Working on fold 5\n",
      "\n",
      "removing these features: \n",
      "['crack len + mean thickness', 'std_kink^2', 'init x * max_kink', 'max_kink (unchanged)', 'max thickness * max_kink', 'abs_val_sum_kink * median_thickness', 'abs_val_sum_kink * max_kink', 'abs_val_sum_kink / std_thickness', 'var_kink / abs_val_mean_kink', 'abs_val_sum_kink^3', 'init y * var_kink', 'init x / abs_val_sum_kink', 'linearity * var_kink', 'linearity / abs_val_sum_kink', 'avg_prop_speed + max_prop_speed', 'timestep_init / abs_val_sum_kink']\n",
      "Working on fold 1\n",
      "Working on fold 2\n",
      "Working on fold 3\n",
      "Working on fold 4\n",
      "Working on fold 5\n",
      "\n",
      "removing these features: \n",
      "['abs_val_mean_kink / abs_val_sum_kink', 'dist btw frts * median_thickness', 'max_kink * mean thickness', 'angle_btw * sum_kink', 'mean thickness * timestep_init', 'max_kink * mean_kink', 'mean thickness / abs_val_sum_kink', 'mean_kink * var_kink', 'avg_ori / abs_val_sum_kink', 'init y / abs_val_sum_kink', 'median_thickness / abs_val_sum_kink', 'mean thickness * var_kink', 'std_thickness * timestep_init', 'timestep_init^2']\n",
      "Working on fold 1\n",
      "Working on fold 2\n",
      "Working on fold 3\n",
      "Working on fold 4\n",
      "Working on fold 5\n",
      "\n",
      "removing these features: \n",
      "['dist btw frts * max_kink', 'init x + max_kink', 'mean_kink * var_thickness', 'thickness_at_init / abs_val_sum_kink', 'init z / abs_val_sum_kink', 'abs_val_sum_kink - thickness_at_init', 'thickness_at_init - abs_val_sum_kink', 'dist btw frts + init y', 'median_thickness * std_kink', 'abs_val_sum_kink / avg_ori', 'abs_val_sum_kink - std_kink', 'std_kink - abs_val_sum_kink', 'crack len * max_kink']\n",
      "Working on fold 1\n",
      "Working on fold 2\n",
      "Working on fold 3\n",
      "Working on fold 4\n",
      "Working on fold 5\n",
      "\n",
      "removing these features: \n",
      "['avg_ori + timestep_init', 'crack len * median_thickness', 'max_kink * sum_kink', 'init y * max_kink', 'abs_val_mean_kink ^ -std_kink', 'mean_kink + std_kink', 'init x - abs_val_mean_kink', 'init y * timestep_init', 'mean thickness + std_kink', 'max thickness / abs_val_sum_kink', 'sum_kink * var_kink']\n",
      "Working on fold 1\n",
      "Working on fold 2\n",
      "Working on fold 3\n",
      "Working on fold 4\n",
      "Working on fold 5\n",
      "\n",
      "removing these features: \n",
      "['linearity + median_kink', 'crack len + init y', 'max thickness * timestep_init', 'abs_val_mean_kink - init x', 'abs_val_sum_kink + mean_kink', 'init y * max thickness', 'avg_ori * crack len', 'abs_val_sum_kink + mean thickness', 'std_thickness + sum_kink', 'avg_prop_speed + std_thickness']\n",
      "Working on fold 1\n",
      "Working on fold 2\n",
      "Working on fold 3\n",
      "Working on fold 4\n",
      "Working on fold 5\n",
      "\n",
      "removing these features: \n",
      "['thickness_at_init * timestep_init', 'mean thickness * std_kink', 'mean_kink * std_kink', 'init y + timestep_init', 'avg_ori + dist btw frts', 'mean_kink + var_kink', 'avg_ori * dist btw frts', 'abs_val_sum_kink * median_kink', 'abs_val_sum_kink * sum_kink']\n",
      "Working on fold 1\n",
      "Working on fold 2\n",
      "Working on fold 3\n",
      "Working on fold 4\n",
      "Working on fold 5\n",
      "\n",
      "removing these features: \n",
      "['abs_val_sum_kink / mean_kink', 'init y + std_kink', 'median_kink * timestep_init', 'mean thickness + timestep_init', 'median_thickness + timestep_init', 'dist btw frts * init y', 'abs_val_sum_kink + median_thickness', 'avg_ori + crack len']\n",
      "Working on fold 1\n",
      "Working on fold 2\n",
      "Working on fold 3\n",
      "Working on fold 4\n",
      "Working on fold 5\n",
      "\n",
      "removing these features: \n",
      "['max_kink + mean_kink', 'std_kink * sum_kink', 'init y + var_kink', 'max_kink / abs_val_sum_kink', 'avg_ori + linearity', 'avg_ori * init z', 'mean_kink + timestep_init', 'std_thickness / abs_val_sum_kink']\n",
      "Working on fold 1\n",
      "Working on fold 2\n",
      "Working on fold 3\n",
      "Working on fold 4\n",
      "Working on fold 5\n",
      "\n",
      "removing these features: \n",
      "['crack len * init y', 'max thickness * mean_kink', 'init y + max_kink', 'abs_val_sum_kink + init y', 'crack len * sum_kink', 'avg_prop_speed + max_kink', 'init y - abs_val_mean_kink']\n",
      "Working on fold 1\n",
      "Working on fold 2\n",
      "Working on fold 3\n",
      "Working on fold 4\n",
      "Working on fold 5\n",
      "\n",
      "removing these features: \n",
      "['init x + timestep_init', 'log(timestep_init)', 'timestep_init - abs_val_mean_kink', 'abs_val_mean_kink - timestep_init', 'max_kink + timestep_init', 'timestep_init ^ -avg_ori']\n",
      "Working on fold 1\n",
      "Working on fold 2\n",
      "Working on fold 3\n",
      "Working on fold 4\n",
      "Working on fold 5\n",
      "\n",
      "removing these features: \n",
      "['abs_val_sum_kink - timestep_init', 'abs_val_sum_kink / abs_val_mean_kink', 'timestep_init - abs_val_sum_kink', 'avg_ori * timestep_init', 'dist btw frts * sum_kink', 'abs_val_mean_kink * timestep_init']\n",
      "Working on fold 1\n",
      "Working on fold 2\n",
      "Working on fold 3\n",
      "Working on fold 4\n",
      "Working on fold 5\n",
      "\n",
      "removing these features: \n",
      "['abs_val_sum_kink + sum_kink', 'abs_val_sum_kink - var_thickness', 'dist btw frts + sum_kink', 'abs_val_mean_kink - init y', 'mean_kink * std_thickness']\n",
      "Working on fold 1\n",
      "Working on fold 2\n",
      "Working on fold 3\n",
      "Working on fold 4\n",
      "Working on fold 5\n",
      "\n",
      "removing these features: \n",
      "['std_kink + sum_kink', 'sum_kink * var_thickness', 'timestep_init ^ -abs_val_mean_kink', 'std_kink * timestep_init']\n",
      "Working on fold 1\n",
      "Working on fold 2\n",
      "Working on fold 3\n",
      "Working on fold 4\n",
      "Working on fold 5\n",
      "\n",
      "removing these features: \n",
      "['avg_prop_speed + dist btw frts', 'avg_ori * linearity', 'linearity - abs_val_sum_kink', 'abs_val_mean_kink * linearity']\n",
      "Working on fold 1\n",
      "Working on fold 2\n",
      "Working on fold 3\n",
      "Working on fold 4\n",
      "Working on fold 5\n",
      "\n",
      "removing these features: \n",
      "['init z * timestep_init', 'abs_val_sum_kink * init y', 'timestep_init (unchanged)', 'abs_val_mean_kink ^ -abs_val_sum_kink']\n",
      "Working on fold 1\n",
      "Working on fold 2\n",
      "Working on fold 3\n",
      "Working on fold 4\n",
      "Working on fold 5\n",
      "\n",
      "removing these features: \n",
      "['timestep_init + var_thickness', 'max_kink / abs_val_mean_kink', 'var_thickness - abs_val_sum_kink']\n",
      "Working on fold 1\n",
      "Working on fold 2\n",
      "Working on fold 3\n",
      "Working on fold 4\n",
      "Working on fold 5\n",
      "\n",
      "removing these features: \n",
      "['std_thickness * sum_kink', 'avg_prop_speed + crack len', 'dist btw frts + median_kink']\n",
      "Working on fold 1\n",
      "Working on fold 2\n",
      "Working on fold 3\n",
      "Working on fold 4\n",
      "Working on fold 5\n",
      "\n",
      "removing these features: \n",
      "['sum_kink * timestep_init', 'timestep_init + var_kink', 'avg_prop_speed + std_kink']\n",
      "Working on fold 1\n",
      "Working on fold 2\n",
      "Working on fold 3\n",
      "Working on fold 4\n",
      "Working on fold 5\n",
      "\n",
      "removing these features: \n",
      "['init z - abs_val_sum_kink']\n",
      "Working on fold 1\n",
      "Working on fold 2\n",
      "Working on fold 3\n",
      "Working on fold 4\n",
      "Working on fold 5\n",
      "\n",
      "removing these features: \n",
      "['abs_val_sum_kink - linearity']\n",
      "Working on fold 1\n",
      "Working on fold 2\n",
      "Working on fold 3\n",
      "Working on fold 4\n",
      "Working on fold 5\n",
      "\n",
      "removing these features: \n",
      "['abs_val_mean_kink + timestep_init']\n",
      "Working on fold 1\n",
      "Working on fold 2\n",
      "Working on fold 3\n",
      "Working on fold 4\n",
      "Working on fold 5\n",
      "\n",
      "removing these features: \n",
      "['std_kink + timestep_init']\n",
      "Working on fold 1\n",
      "Working on fold 2\n",
      "Working on fold 3\n",
      "Working on fold 4\n",
      "Working on fold 5\n",
      "\n",
      "removing these features: \n",
      "['abs_val_sum_kink - init z']\n",
      "Working on fold 1\n",
      "Working on fold 2\n",
      "Working on fold 3\n",
      "Working on fold 4\n",
      "Working on fold 5\n",
      "\n",
      "removing these features: \n",
      "['std_kink / abs_val_mean_kink']\n",
      "Working on fold 1\n",
      "Working on fold 2\n",
      "Working on fold 3\n",
      "Working on fold 4\n",
      "Working on fold 5\n",
      "\n",
      "removing these features: \n",
      "['linearity * timestep_init']\n",
      "Working on fold 1\n",
      "Working on fold 2\n",
      "Working on fold 3\n",
      "Working on fold 4\n",
      "Working on fold 5\n",
      "\n",
      "removing these features: \n",
      "['abs_val_mean_kink / timestep_init']\n",
      "Working on fold 1\n",
      "Working on fold 2\n",
      "Working on fold 3\n",
      "Working on fold 4\n",
      "Working on fold 5\n",
      "\n",
      "removing these features: \n",
      "['abs_val_mean_kink + linearity']\n",
      "Working on fold 1\n",
      "Working on fold 2\n",
      "Working on fold 3\n",
      "Working on fold 4\n",
      "Working on fold 5\n",
      "\n",
      "removing these features: \n",
      "['crack len + median_kink']\n",
      "Working on fold 1\n",
      "Working on fold 2\n",
      "Working on fold 3\n",
      "Working on fold 4\n",
      "Working on fold 5\n",
      "\n",
      "removing these features: \n",
      "['thickness_at_init + timestep_init']\n",
      "Working on fold 1\n",
      "Working on fold 2\n",
      "Working on fold 3\n",
      "Working on fold 4\n",
      "Working on fold 5\n",
      "\n",
      "removing these features: \n",
      "['init y * mean_kink']\n",
      "Working on fold 1\n",
      "Working on fold 2\n",
      "Working on fold 3\n",
      "Working on fold 4\n",
      "Working on fold 5\n",
      "\n",
      "removing these features: \n",
      "['abs_val_mean_kink ^ -max_prop_speed']\n",
      "Working on fold 1\n",
      "Working on fold 2\n",
      "Working on fold 3\n",
      "Working on fold 4\n",
      "Working on fold 5\n",
      "\n",
      "removing these features: \n",
      "['mean_kink * timestep_init']\n",
      "Working on fold 1\n",
      "Working on fold 2\n",
      "Working on fold 3\n",
      "Working on fold 4\n",
      "Working on fold 5\n",
      "\n",
      "removing these features: \n",
      "['abs_val_sum_kink + avg_prop_speed']\n",
      "Working on fold 1\n",
      "Working on fold 2\n",
      "Working on fold 3\n",
      "Working on fold 4\n",
      "Working on fold 5\n",
      "\n",
      "removing these features: \n",
      "['init z + timestep_init']\n",
      "\n",
      "...next model type... \n",
      "\n",
      "$$$$$$$$$$ NOW FOR PREDICTING height WITH poly2 $$$$$$$$$$\n",
      "\n",
      "Working on fold 1\n",
      "File not found best_hyperparams.txt.\n"
     ]
    },
    {
     "ename": "UnboundLocalError",
     "evalue": "local variable 'content' referenced before assignment",
     "output_type": "error",
     "traceback": [
      "\u001b[0;31m---------------------------------------------------------------------------\u001b[0m",
      "\u001b[0;31mUnboundLocalError\u001b[0m                         Traceback (most recent call last)",
      "Cell \u001b[0;32mIn[2], line 16\u001b[0m\n\u001b[1;32m     13\u001b[0m \u001b[38;5;28;01mfor\u001b[39;00m model_type \u001b[38;5;129;01min\u001b[39;00m model_types:\n\u001b[1;32m     14\u001b[0m     \u001b[38;5;28mprint\u001b[39m(\u001b[38;5;124mf\u001b[39m\u001b[38;5;124m'\u001b[39m\u001b[38;5;130;01m\\n\u001b[39;00m\u001b[38;5;124m$$$$$$$$$$ NOW FOR PREDICTING \u001b[39m\u001b[38;5;132;01m{\u001b[39;00mlabel_to_predict\u001b[38;5;132;01m}\u001b[39;00m\u001b[38;5;124m WITH \u001b[39m\u001b[38;5;132;01m{\u001b[39;00mmodel_type\u001b[38;5;132;01m}\u001b[39;00m\u001b[38;5;124m $$$$$$$$$$\u001b[39m\u001b[38;5;130;01m\\n\u001b[39;00m\u001b[38;5;124m'\u001b[39m)\n\u001b[0;32m---> 16\u001b[0m     kept_features, num_features_and_performances_TRAIN, num_features_and_performances_TEST \u001b[38;5;241m=\u001b[39m \u001b[43mstart_backward_feature_selection\u001b[49m\u001b[43m(\u001b[49m\u001b[43mdata_folder\u001b[49m\u001b[43m,\u001b[49m\u001b[43m \u001b[49m\u001b[43mdataset\u001b[49m\u001b[43m,\u001b[49m\u001b[43m \u001b[49m\u001b[43mlabel_to_predict\u001b[49m\u001b[43m,\u001b[49m\u001b[43m \u001b[49m\u001b[43mmodel_type\u001b[49m\u001b[43m,\u001b[49m\u001b[43m \u001b[49m\u001b[43mall_labels\u001b[49m\u001b[43m,\u001b[49m\u001b[43m \u001b[49m\u001b[43mall_features\u001b[49m\u001b[43m,\u001b[49m\u001b[43m \u001b[49m\u001b[43mresults_folder\u001b[49m\u001b[43m,\u001b[49m\u001b[43m \u001b[49m\u001b[43mnum_features_to_keep\u001b[49m\u001b[38;5;241;43m=\u001b[39;49m\u001b[38;5;241;43m3\u001b[39;49m\u001b[43m,\u001b[49m\u001b[43m \u001b[49m\u001b[43mhyperparameter_folder\u001b[49m\u001b[38;5;241;43m=\u001b[39;49m\u001b[43mhyperparam_folder\u001b[49m\u001b[43m)\u001b[49m\n\u001b[1;32m     17\u001b[0m     plot_performances_vs_number_of_features(label_to_predict, model_type, results_folder, \u001b[38;5;124m'\u001b[39m\u001b[38;5;124mtrain\u001b[39m\u001b[38;5;124m'\u001b[39m)\n\u001b[1;32m     18\u001b[0m     plot_performances_vs_number_of_features(label_to_predict, model_type, results_folder, \u001b[38;5;124m'\u001b[39m\u001b[38;5;124mtest\u001b[39m\u001b[38;5;124m'\u001b[39m)\n",
      "File \u001b[0;32m~/Desktop/sfx/sfx_ML_code/sfx_ML/New_Models/Backward_feature_selection.py:309\u001b[0m, in \u001b[0;36mstart_backward_feature_selection\u001b[0;34m(folds_data_folder, full_dataset, label_to_predict, model_type, all_labels, all_features, results_folder, num_features_to_keep, hyperparameter_folder)\u001b[0m\n\u001b[1;32m    306\u001b[0m train_features \u001b[38;5;241m=\u001b[39m train_features[kept_features]\n\u001b[1;32m    307\u001b[0m test_features \u001b[38;5;241m=\u001b[39m test_features[kept_features]\n\u001b[0;32m--> 309\u001b[0m model \u001b[38;5;241m=\u001b[39m \u001b[43mtrain_model\u001b[49m\u001b[43m(\u001b[49m\u001b[43mmodel_type\u001b[49m\u001b[43m,\u001b[49m\u001b[43m \u001b[49m\u001b[43mtrain_features\u001b[49m\u001b[43m,\u001b[49m\u001b[43m \u001b[49m\u001b[43mtrain_labels\u001b[49m\u001b[43m,\u001b[49m\u001b[43m \u001b[49m\u001b[43mhyperparameter_folder\u001b[49m\u001b[43m)\u001b[49m\n\u001b[1;32m    310\u001b[0m current_features_metrics \u001b[38;5;241m=\u001b[39m append_metrics(current_features_metrics, model, test_features, test_labels, train_features, train_labels)\n\u001b[1;32m    311\u001b[0m randomizing_performances \u001b[38;5;241m=\u001b[39m get_performances_randomizing_features(model, train_features, train_labels, percentage_to_remove\u001b[38;5;241m=\u001b[39m\u001b[38;5;241m50\u001b[39m)\n",
      "File \u001b[0;32m~/Desktop/sfx/sfx_ML_code/sfx_ML/New_Models/Backward_feature_selection.py:154\u001b[0m, in \u001b[0;36mtrain_model\u001b[0;34m(model_type, train_features, train_labels, hyperparameter_folder)\u001b[0m\n\u001b[1;32m    152\u001b[0m     model \u001b[38;5;241m=\u001b[39m Ridge(alpha\u001b[38;5;241m=\u001b[39ma)\n\u001b[1;32m    153\u001b[0m \u001b[38;5;28;01melif\u001b[39;00m(model_type \u001b[38;5;241m==\u001b[39m \u001b[38;5;124m'\u001b[39m\u001b[38;5;124mpoly2\u001b[39m\u001b[38;5;124m'\u001b[39m):\n\u001b[0;32m--> 154\u001b[0m     alpha, l1_ratio \u001b[38;5;241m=\u001b[39m \u001b[43mget_best_hyperparameters_poly2\u001b[49m\u001b[43m(\u001b[49m\u001b[43mlabel_to_predict\u001b[49m\u001b[38;5;241;43m=\u001b[39;49m\u001b[43mtrain_labels\u001b[49m\u001b[38;5;241;43m.\u001b[39;49m\u001b[43mcolumns\u001b[49m\u001b[43m[\u001b[49m\u001b[38;5;241;43m0\u001b[39;49m\u001b[43m]\u001b[49m\u001b[43m,\u001b[49m\u001b[43m \u001b[49m\u001b[43mhyperparameter_folder\u001b[49m\u001b[38;5;241;43m=\u001b[39;49m\u001b[43mhyperparameter_folder\u001b[49m\u001b[43m)\u001b[49m\n\u001b[1;32m    155\u001b[0m     model \u001b[38;5;241m=\u001b[39m make_pipeline(PolynomialFeatures(degree\u001b[38;5;241m=\u001b[39m\u001b[38;5;241m2\u001b[39m), ElasticNet(alpha \u001b[38;5;241m=\u001b[39m alpha, l1_ratio \u001b[38;5;241m=\u001b[39m l1_ratio, random_state\u001b[38;5;241m=\u001b[39m\u001b[38;5;241m0\u001b[39m))\n\u001b[1;32m    156\u001b[0m \u001b[38;5;28;01melif\u001b[39;00m(model_type \u001b[38;5;241m==\u001b[39m \u001b[38;5;124m'\u001b[39m\u001b[38;5;124mpoly3\u001b[39m\u001b[38;5;124m'\u001b[39m):\n",
      "File \u001b[0;32m~/Desktop/sfx/sfx_ML_code/sfx_ML/New_Models/polynomial_regression.py:163\u001b[0m, in \u001b[0;36mget_best_hyperparameters_poly2\u001b[0;34m(label_to_predict, hyperparameter_folder)\u001b[0m\n\u001b[1;32m    161\u001b[0m \u001b[38;5;28;01mexcept\u001b[39;00m \u001b[38;5;167;01mException\u001b[39;00m \u001b[38;5;28;01mas\u001b[39;00m e:\n\u001b[1;32m    162\u001b[0m     \u001b[38;5;28mprint\u001b[39m(\u001b[38;5;124mf\u001b[39m\u001b[38;5;124m\"\u001b[39m\u001b[38;5;124mAn error occurred opening best_hyperparams.txt: \u001b[39m\u001b[38;5;132;01m{\u001b[39;00me\u001b[38;5;132;01m}\u001b[39;00m\u001b[38;5;124m\"\u001b[39m)\n\u001b[0;32m--> 163\u001b[0m converted_dict \u001b[38;5;241m=\u001b[39m \u001b[38;5;28mdict\u001b[39m(ast\u001b[38;5;241m.\u001b[39mliteral_eval(\u001b[43mcontent\u001b[49m\u001b[38;5;241m.\u001b[39mremoveprefix(\u001b[38;5;124m'\u001b[39m\u001b[38;5;124mOrderedDict\u001b[39m\u001b[38;5;124m'\u001b[39m)))\n\u001b[1;32m    164\u001b[0m alpha \u001b[38;5;241m=\u001b[39m converted_dict[\u001b[38;5;124m'\u001b[39m\u001b[38;5;124melasticnet__alpha\u001b[39m\u001b[38;5;124m'\u001b[39m]\n\u001b[1;32m    165\u001b[0m l1_ratio \u001b[38;5;241m=\u001b[39m converted_dict[\u001b[38;5;124m'\u001b[39m\u001b[38;5;124melasticnet__l1_ratio\u001b[39m\u001b[38;5;124m'\u001b[39m]\n",
      "\u001b[0;31mUnboundLocalError\u001b[0m: local variable 'content' referenced before assignment"
     ]
    }
   ],
   "source": [
    "labels = ['impact site x', 'height', 'impact site y']\n",
    "labels = ['height']\n",
    "\n",
    "\n",
    "model_types = ['ridge', 'lasso',  'linear', 'RF', 'GPR',  'poly2']\n",
    "\n",
    "\n",
    "all_kept_features = {}\n",
    "all_performances = {}\n",
    "for label_to_predict in labels:\n",
    "    all_kept_features[label_to_predict] = {}\n",
    "    all_performances[label_to_predict] = {}\n",
    "    for model_type in model_types:\n",
    "        print(f'\\n$$$$$$$$$$ NOW FOR PREDICTING {label_to_predict} WITH {model_type} $$$$$$$$$$\\n')\n",
    "\n",
    "        kept_features, num_features_and_performances_TRAIN, num_features_and_performances_TEST = start_backward_feature_selection(data_folder, dataset, label_to_predict, model_type, all_labels, all_features, results_folder, num_features_to_keep=3, hyperparameter_folder=hyperparam_folder)\n",
    "        plot_performances_vs_number_of_features(label_to_predict, model_type, results_folder, 'train')\n",
    "        plot_performances_vs_number_of_features(label_to_predict, model_type, results_folder, 'test')\n",
    "        print('\\n...next model type... ')\n",
    "            \n",
    "print('here')"
   ]
  }
 ],
 "metadata": {
  "kernelspec": {
   "display_name": "tfp_env",
   "language": "python",
   "name": "python3"
  },
  "language_info": {
   "codemirror_mode": {
    "name": "ipython",
    "version": 3
   },
   "file_extension": ".py",
   "mimetype": "text/x-python",
   "name": "python",
   "nbconvert_exporter": "python",
   "pygments_lexer": "ipython3",
   "version": "3.10.9"
  }
 },
 "nbformat": 4,
 "nbformat_minor": 2
}
