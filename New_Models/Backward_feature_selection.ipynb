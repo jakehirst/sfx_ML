{
 "cells": [
  {
   "cell_type": "markdown",
   "metadata": {},
   "source": [
    "This code will open the dataset files that you give it, and make a five fold crossvalidation that will be used in the backward feature selection for all of the model types and labels that we predict. This is so we use the same cross validation datasets and get a good idea of how these models perform against one another without any bias on the split of the datasets."
   ]
  },
  {
   "cell_type": "code",
   "execution_count": 1,
   "metadata": {},
   "outputs": [],
   "source": [
    "from Backward_feature_selection import *\n",
    "\n",
    "all_labels = ['height', 'phi', 'theta', \n",
    "        'impact site x', 'impact site y', 'impact site z', \n",
    "        'impact site r', 'impact site phi', 'impact site theta']\n",
    "\n",
    "\n",
    "\n",
    "'''the dataset we are useing's path'''\n",
    "# full_dataset_pathname = \"/Volumes/Jake_ssd/Paper_1_results_no_feature_engineering/dataset/New_Crack_Len_FULL_OG_dataframe_2023_11_16.csv\"\n",
    "full_dataset_pathname = \"/Volumes/Jake_ssd/Paper_1_results_WITH_feature_engineering/dataset/feature_transformations_2023-11-16/height/HEIGHTALL_TRANSFORMED_FEATURES.csv\"\n",
    "'''where the results are stored'''\n",
    "# results_folder = '/Volumes/Jake_ssd/Paper_1_results_no_feature_engineering/results'\n",
    "results_folder = '/Volumes/Jake_ssd/Paper_1_results_WITH_feature_engineering/results'\n",
    "'''Where we will store the 5 fold datasets that we will make shortly'''\n",
    "# data_folder = '/Volumes/Jake_ssd/Paper_1_results_no_feature_engineering/5fold_datasets'\n",
    "data_folder = '/Volumes/Jake_ssd/Paper_1_results_WITH_feature_engineering/5fold_datasets'\n",
    "\n",
    "if(not os.path.exists(data_folder)): os.makedirs(data_folder)\n",
    "\n",
    "'''makes the 5 fold datasets'''\n",
    "# make_5_fold_datasets(data_folder, full_dataset_pathname, remove_small_cracks=False, normalize=True)\n",
    "\n",
    "dataset = pd.read_csv(full_dataset_pathname)\n",
    "feature_set = dataset.drop(all_labels, axis=1)\n",
    "\n",
    "'''get a list of all of the features we will use, and get rid of any that have \"timestep_init\" as welll as any that have \"Unnamed: 0\" in them. '''\n",
    "all_features = feature_set.columns.to_list() #all of the features that will be considered\n",
    "all_features = [string for string in all_features if 'timestep_init' not in string]\n",
    "all_features = [string for string in all_features if 'Unnamed: 0' not in string]"
   ]
  },
  {
   "cell_type": "markdown",
   "metadata": {},
   "source": [
    "This cell will run the backward feature selection, and plot the performances vs number of features as it does so."
   ]
  },
  {
   "cell_type": "code",
   "execution_count": 2,
   "metadata": {},
   "outputs": [
    {
     "name": "stdout",
     "output_type": "stream",
     "text": [
      "\n",
      "$$$$$$$$$$ NOW FOR PREDICTING impact site x WITH ANN $$$$$$$$$$\n",
      "\n",
      "Working on fold 1\n"
     ]
    },
    {
     "name": "stderr",
     "output_type": "stream",
     "text": [
      "/Users/jakehirst/miniconda3/envs/tfp_env/lib/python3.10/site-packages/torch/nn/modules/loss.py:101: UserWarning: Using a target size (torch.Size([100, 1])) that is different to the input size (torch.Size([100])). This will likely lead to incorrect results due to broadcasting. Please ensure they have the same size.\n",
      "  return F.l1_loss(input, target, reduction=self.reduction)\n",
      "/Users/jakehirst/miniconda3/envs/tfp_env/lib/python3.10/site-packages/torch/nn/modules/loss.py:101: UserWarning: Using a target size (torch.Size([92, 1])) that is different to the input size (torch.Size([92])). This will likely lead to incorrect results due to broadcasting. Please ensure they have the same size.\n",
      "  return F.l1_loss(input, target, reduction=self.reduction)\n",
      "/Users/jakehirst/miniconda3/envs/tfp_env/lib/python3.10/site-packages/torch/nn/modules/loss.py:101: UserWarning: Using a target size (torch.Size([48, 1])) that is different to the input size (torch.Size([48])). This will likely lead to incorrect results due to broadcasting. Please ensure they have the same size.\n",
      "  return F.l1_loss(input, target, reduction=self.reduction)\n"
     ]
    },
    {
     "name": "stdout",
     "output_type": "stream",
     "text": [
      "End train R2 score = 0.018182475611447146 validation R2 score = 0.013239694021031978\n",
      "here\n",
      "Working on fold 2\n"
     ]
    },
    {
     "name": "stderr",
     "output_type": "stream",
     "text": [
      "/Users/jakehirst/miniconda3/envs/tfp_env/lib/python3.10/site-packages/torch/nn/modules/loss.py:101: UserWarning: Using a target size (torch.Size([100, 1])) that is different to the input size (torch.Size([100])). This will likely lead to incorrect results due to broadcasting. Please ensure they have the same size.\n",
      "  return F.l1_loss(input, target, reduction=self.reduction)\n",
      "/Users/jakehirst/miniconda3/envs/tfp_env/lib/python3.10/site-packages/torch/nn/modules/loss.py:101: UserWarning: Using a target size (torch.Size([92, 1])) that is different to the input size (torch.Size([92])). This will likely lead to incorrect results due to broadcasting. Please ensure they have the same size.\n",
      "  return F.l1_loss(input, target, reduction=self.reduction)\n",
      "/Users/jakehirst/miniconda3/envs/tfp_env/lib/python3.10/site-packages/torch/nn/modules/loss.py:101: UserWarning: Using a target size (torch.Size([49, 1])) that is different to the input size (torch.Size([49])). This will likely lead to incorrect results due to broadcasting. Please ensure they have the same size.\n",
      "  return F.l1_loss(input, target, reduction=self.reduction)\n"
     ]
    },
    {
     "name": "stdout",
     "output_type": "stream",
     "text": [
      "End train R2 score = 0.000520926196974747 validation R2 score = -0.01386257025325266\n",
      "here\n",
      "Working on fold 3\n"
     ]
    },
    {
     "name": "stderr",
     "output_type": "stream",
     "text": [
      "/Users/jakehirst/miniconda3/envs/tfp_env/lib/python3.10/site-packages/torch/nn/modules/loss.py:101: UserWarning: Using a target size (torch.Size([100, 1])) that is different to the input size (torch.Size([100])). This will likely lead to incorrect results due to broadcasting. Please ensure they have the same size.\n",
      "  return F.l1_loss(input, target, reduction=self.reduction)\n",
      "/Users/jakehirst/miniconda3/envs/tfp_env/lib/python3.10/site-packages/torch/nn/modules/loss.py:101: UserWarning: Using a target size (torch.Size([92, 1])) that is different to the input size (torch.Size([92])). This will likely lead to incorrect results due to broadcasting. Please ensure they have the same size.\n",
      "  return F.l1_loss(input, target, reduction=self.reduction)\n",
      "/Users/jakehirst/miniconda3/envs/tfp_env/lib/python3.10/site-packages/torch/nn/modules/loss.py:101: UserWarning: Using a target size (torch.Size([49, 1])) that is different to the input size (torch.Size([49])). This will likely lead to incorrect results due to broadcasting. Please ensure they have the same size.\n",
      "  return F.l1_loss(input, target, reduction=self.reduction)\n"
     ]
    },
    {
     "name": "stdout",
     "output_type": "stream",
     "text": [
      "patience reached\n",
      "End train R2 score = -0.01398157401006217 validation R2 score = -0.010216532331728256\n",
      "here\n",
      "Working on fold 4\n"
     ]
    },
    {
     "name": "stderr",
     "output_type": "stream",
     "text": [
      "/Users/jakehirst/miniconda3/envs/tfp_env/lib/python3.10/site-packages/torch/nn/modules/loss.py:101: UserWarning: Using a target size (torch.Size([100, 1])) that is different to the input size (torch.Size([100])). This will likely lead to incorrect results due to broadcasting. Please ensure they have the same size.\n",
      "  return F.l1_loss(input, target, reduction=self.reduction)\n",
      "/Users/jakehirst/miniconda3/envs/tfp_env/lib/python3.10/site-packages/torch/nn/modules/loss.py:101: UserWarning: Using a target size (torch.Size([92, 1])) that is different to the input size (torch.Size([92])). This will likely lead to incorrect results due to broadcasting. Please ensure they have the same size.\n",
      "  return F.l1_loss(input, target, reduction=self.reduction)\n",
      "/Users/jakehirst/miniconda3/envs/tfp_env/lib/python3.10/site-packages/torch/nn/modules/loss.py:101: UserWarning: Using a target size (torch.Size([49, 1])) that is different to the input size (torch.Size([49])). This will likely lead to incorrect results due to broadcasting. Please ensure they have the same size.\n",
      "  return F.l1_loss(input, target, reduction=self.reduction)\n"
     ]
    },
    {
     "name": "stdout",
     "output_type": "stream",
     "text": [
      "End train R2 score = -0.0006528558389899963 validation R2 score = -0.0769496353163368\n",
      "here\n",
      "Working on fold 5\n"
     ]
    },
    {
     "name": "stderr",
     "output_type": "stream",
     "text": [
      "/Users/jakehirst/miniconda3/envs/tfp_env/lib/python3.10/site-packages/torch/nn/modules/loss.py:101: UserWarning: Using a target size (torch.Size([100, 1])) that is different to the input size (torch.Size([100])). This will likely lead to incorrect results due to broadcasting. Please ensure they have the same size.\n",
      "  return F.l1_loss(input, target, reduction=self.reduction)\n",
      "/Users/jakehirst/miniconda3/envs/tfp_env/lib/python3.10/site-packages/torch/nn/modules/loss.py:101: UserWarning: Using a target size (torch.Size([92, 1])) that is different to the input size (torch.Size([92])). This will likely lead to incorrect results due to broadcasting. Please ensure they have the same size.\n",
      "  return F.l1_loss(input, target, reduction=self.reduction)\n",
      "/Users/jakehirst/miniconda3/envs/tfp_env/lib/python3.10/site-packages/torch/nn/modules/loss.py:101: UserWarning: Using a target size (torch.Size([49, 1])) that is different to the input size (torch.Size([49])). This will likely lead to incorrect results due to broadcasting. Please ensure they have the same size.\n",
      "  return F.l1_loss(input, target, reduction=self.reduction)\n"
     ]
    },
    {
     "name": "stdout",
     "output_type": "stream",
     "text": [
      "patience reached\n",
      "End train R2 score = -0.02403857501658191 validation R2 score = -0.056942981824794625\n",
      "here\n",
      "\n",
      "removing these features: \n",
      "['init x^2']\n",
      "\n",
      "...next model type... \n",
      "\n",
      "$$$$$$$$$$ NOW FOR PREDICTING height WITH ANN $$$$$$$$$$\n",
      "\n",
      "Working on fold 1\n"
     ]
    },
    {
     "name": "stderr",
     "output_type": "stream",
     "text": [
      "/Users/jakehirst/miniconda3/envs/tfp_env/lib/python3.10/site-packages/torch/nn/modules/loss.py:101: UserWarning: Using a target size (torch.Size([100, 1])) that is different to the input size (torch.Size([100])). This will likely lead to incorrect results due to broadcasting. Please ensure they have the same size.\n",
      "  return F.l1_loss(input, target, reduction=self.reduction)\n",
      "/Users/jakehirst/miniconda3/envs/tfp_env/lib/python3.10/site-packages/torch/nn/modules/loss.py:101: UserWarning: Using a target size (torch.Size([92, 1])) that is different to the input size (torch.Size([92])). This will likely lead to incorrect results due to broadcasting. Please ensure they have the same size.\n",
      "  return F.l1_loss(input, target, reduction=self.reduction)\n",
      "/Users/jakehirst/miniconda3/envs/tfp_env/lib/python3.10/site-packages/torch/nn/modules/loss.py:101: UserWarning: Using a target size (torch.Size([48, 1])) that is different to the input size (torch.Size([48])). This will likely lead to incorrect results due to broadcasting. Please ensure they have the same size.\n",
      "  return F.l1_loss(input, target, reduction=self.reduction)\n"
     ]
    },
    {
     "name": "stdout",
     "output_type": "stream",
     "text": [
      "End train R2 score = 0.009499089593010712 validation R2 score = -0.0010511809813971151\n",
      "here\n",
      "Working on fold 2\n"
     ]
    },
    {
     "name": "stderr",
     "output_type": "stream",
     "text": [
      "/Users/jakehirst/miniconda3/envs/tfp_env/lib/python3.10/site-packages/torch/nn/modules/loss.py:101: UserWarning: Using a target size (torch.Size([100, 1])) that is different to the input size (torch.Size([100])). This will likely lead to incorrect results due to broadcasting. Please ensure they have the same size.\n",
      "  return F.l1_loss(input, target, reduction=self.reduction)\n",
      "/Users/jakehirst/miniconda3/envs/tfp_env/lib/python3.10/site-packages/torch/nn/modules/loss.py:101: UserWarning: Using a target size (torch.Size([92, 1])) that is different to the input size (torch.Size([92])). This will likely lead to incorrect results due to broadcasting. Please ensure they have the same size.\n",
      "  return F.l1_loss(input, target, reduction=self.reduction)\n",
      "/Users/jakehirst/miniconda3/envs/tfp_env/lib/python3.10/site-packages/torch/nn/modules/loss.py:101: UserWarning: Using a target size (torch.Size([49, 1])) that is different to the input size (torch.Size([49])). This will likely lead to incorrect results due to broadcasting. Please ensure they have the same size.\n",
      "  return F.l1_loss(input, target, reduction=self.reduction)\n"
     ]
    },
    {
     "name": "stdout",
     "output_type": "stream",
     "text": [
      "End train R2 score = -0.012585447168191433 validation R2 score = 0.015538479009838513\n",
      "here\n",
      "Working on fold 3\n"
     ]
    },
    {
     "name": "stderr",
     "output_type": "stream",
     "text": [
      "/Users/jakehirst/miniconda3/envs/tfp_env/lib/python3.10/site-packages/torch/nn/modules/loss.py:101: UserWarning: Using a target size (torch.Size([100, 1])) that is different to the input size (torch.Size([100])). This will likely lead to incorrect results due to broadcasting. Please ensure they have the same size.\n",
      "  return F.l1_loss(input, target, reduction=self.reduction)\n",
      "/Users/jakehirst/miniconda3/envs/tfp_env/lib/python3.10/site-packages/torch/nn/modules/loss.py:101: UserWarning: Using a target size (torch.Size([92, 1])) that is different to the input size (torch.Size([92])). This will likely lead to incorrect results due to broadcasting. Please ensure they have the same size.\n",
      "  return F.l1_loss(input, target, reduction=self.reduction)\n",
      "/Users/jakehirst/miniconda3/envs/tfp_env/lib/python3.10/site-packages/torch/nn/modules/loss.py:101: UserWarning: Using a target size (torch.Size([49, 1])) that is different to the input size (torch.Size([49])). This will likely lead to incorrect results due to broadcasting. Please ensure they have the same size.\n",
      "  return F.l1_loss(input, target, reduction=self.reduction)\n"
     ]
    },
    {
     "name": "stdout",
     "output_type": "stream",
     "text": [
      "End train R2 score = 0.005535566853143048 validation R2 score = -0.018605205307472117\n",
      "here\n",
      "Working on fold 4\n"
     ]
    },
    {
     "name": "stderr",
     "output_type": "stream",
     "text": [
      "/Users/jakehirst/miniconda3/envs/tfp_env/lib/python3.10/site-packages/torch/nn/modules/loss.py:101: UserWarning: Using a target size (torch.Size([100, 1])) that is different to the input size (torch.Size([100])). This will likely lead to incorrect results due to broadcasting. Please ensure they have the same size.\n",
      "  return F.l1_loss(input, target, reduction=self.reduction)\n",
      "/Users/jakehirst/miniconda3/envs/tfp_env/lib/python3.10/site-packages/torch/nn/modules/loss.py:101: UserWarning: Using a target size (torch.Size([92, 1])) that is different to the input size (torch.Size([92])). This will likely lead to incorrect results due to broadcasting. Please ensure they have the same size.\n",
      "  return F.l1_loss(input, target, reduction=self.reduction)\n",
      "/Users/jakehirst/miniconda3/envs/tfp_env/lib/python3.10/site-packages/torch/nn/modules/loss.py:101: UserWarning: Using a target size (torch.Size([49, 1])) that is different to the input size (torch.Size([49])). This will likely lead to incorrect results due to broadcasting. Please ensure they have the same size.\n",
      "  return F.l1_loss(input, target, reduction=self.reduction)\n"
     ]
    }
   ],
   "source": [
    "labels = ['impact site x', 'height', 'impact site y']\n",
    "# labels = ['impact site y']\n",
    "\n",
    "\n",
    "model_types = ['linear', 'RF', 'GPR', 'lasso', 'ridge', 'poly2']\n",
    "model_types = ['GPR', 'RF', 'poly2']\n",
    "model_types = ['linear', 'ANN']\n",
    "model_types = ['ANN']\n",
    "# model_types = ['RF']\n",
    "\n",
    "# model_types = ['ANN']\n",
    "\n",
    "all_kept_features = {}\n",
    "all_performances = {}\n",
    "for label_to_predict in labels:\n",
    "    all_kept_features[label_to_predict] = {}\n",
    "    all_performances[label_to_predict] = {}\n",
    "    for model_type in model_types:\n",
    "        print(f'\\n$$$$$$$$$$ NOW FOR PREDICTING {label_to_predict} WITH {model_type} $$$$$$$$$$\\n')\n",
    "\n",
    "        kept_features, num_features_and_performances_TRAIN, num_features_and_performances_TEST = start_backward_feature_selection(data_folder, dataset, label_to_predict, model_type, all_labels, all_features, results_folder, num_features_to_keep=3)\n",
    "        plot_performances_vs_number_of_features(label_to_predict, model_type, results_folder, 'train')\n",
    "        plot_performances_vs_number_of_features(label_to_predict, model_type, results_folder, 'test')\n",
    "        print('\\n...next model type... ')\n",
    "            \n",
    "print('here')"
   ]
  }
 ],
 "metadata": {
  "kernelspec": {
   "display_name": "tfp_env",
   "language": "python",
   "name": "python3"
  },
  "language_info": {
   "codemirror_mode": {
    "name": "ipython",
    "version": 3
   },
   "file_extension": ".py",
   "mimetype": "text/x-python",
   "name": "python",
   "nbconvert_exporter": "python",
   "pygments_lexer": "ipython3",
   "version": "3.10.9"
  }
 },
 "nbformat": 4,
 "nbformat_minor": 2
}
